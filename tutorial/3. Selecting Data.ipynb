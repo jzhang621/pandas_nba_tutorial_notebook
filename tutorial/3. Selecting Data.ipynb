{
 "cells": [
  {
   "cell_type": "markdown",
   "metadata": {},
   "source": [
    "## Pandas for the NBA Lover\n",
    "## Selecting Data"
   ]
  },
  {
   "cell_type": "markdown",
   "metadata": {},
   "source": [
    "Now that we are familiar with the basic components of a DataFrame, let's take a look at how we can select data inside a Dataframe. While doing so, we will take a closer look at how Player Efficiency Rating (PER) and Real Plus-Minus (RPM) relate to team success.\n",
    "\n",
    "Let's get started!"
   ]
  },
  {
   "cell_type": "markdown",
   "metadata": {},
   "source": [
    "---"
   ]
  },
  {
   "cell_type": "markdown",
   "metadata": {},
   "source": [
    "Let's load up our data again, using the first column (player names) as the Index. "
   ]
  },
  {
   "cell_type": "code",
   "execution_count": 1,
   "metadata": {},
   "outputs": [],
   "source": [
    "import pandas as pd\n",
    "\n",
    "# formatting options: \n",
    "pd.set_option('display.max_rows', 10)"
   ]
  },
  {
   "cell_type": "code",
   "execution_count": 2,
   "metadata": {},
   "outputs": [],
   "source": [
    "df = pd.read_csv('../data/advanced_metrics.csv', index_col=0)"
   ]
  },
  {
   "cell_type": "markdown",
   "metadata": {},
   "source": [
    "### Selecting Data"
   ]
  },
  {
   "cell_type": "markdown",
   "metadata": {},
   "source": [
    "#### Selecting Columns"
   ]
  },
  {
   "cell_type": "markdown",
   "metadata": {},
   "source": [
    "One way to think about a DataFrame is as a dictionary for columns of data - we can use a column label to get the associated data just like we would use a key in a dictionary to get its associated value. Here we select each player's average minutes per game."
   ]
  },
  {
   "cell_type": "code",
   "execution_count": 3,
   "metadata": {
    "scrolled": false
   },
   "outputs": [
    {
     "data": {
      "text/plain": [
       "PLAYER\n",
       "James Harden       37.1\n",
       "Anthony Davis      36.9\n",
       "Paul George        35.7\n",
       "Nikola Jokic       31.3\n",
       "Kyrie Irving       32.1\n",
       "                   ... \n",
       "Allonzo Trier      22.1\n",
       "Frank Ntilikina    21.1\n",
       "Kevin Knox         26.6\n",
       "Jamal Crawford     17.2\n",
       "Collin Sexton      29.6\n",
       "Name: MPG, Length: 343, dtype: float64"
      ]
     },
     "execution_count": 3,
     "metadata": {},
     "output_type": "execute_result"
    }
   ],
   "source": [
    "df['MPG']"
   ]
  },
  {
   "cell_type": "markdown",
   "metadata": {},
   "source": [
    "When the column label is also a valid Python variable name, column data can also be accessed as an attribute on the DataFrame. (If you are a working in an environment such as IPython or a Jupyter Notebook, columns that are accessible as attributes have the added benefit of being elgible for tab completion)."
   ]
  },
  {
   "cell_type": "code",
   "execution_count": 4,
   "metadata": {},
   "outputs": [
    {
     "data": {
      "text/plain": [
       "PLAYER\n",
       "James Harden       37.1\n",
       "Anthony Davis      36.9\n",
       "Paul George        35.7\n",
       "Nikola Jokic       31.3\n",
       "Kyrie Irving       32.1\n",
       "                   ... \n",
       "Allonzo Trier      22.1\n",
       "Frank Ntilikina    21.1\n",
       "Kevin Knox         26.6\n",
       "Jamal Crawford     17.2\n",
       "Collin Sexton      29.6\n",
       "Name: MPG, Length: 343, dtype: float64"
      ]
     },
     "execution_count": 4,
     "metadata": {},
     "output_type": "execute_result"
    }
   ],
   "source": [
    "df.MPG"
   ]
  },
  {
   "cell_type": "markdown",
   "metadata": {},
   "source": [
    "To select multiple columns at once, use a list of column labels as the \"key\":"
   ]
  },
  {
   "cell_type": "code",
   "execution_count": 5,
   "metadata": {
    "scrolled": true
   },
   "outputs": [
    {
     "data": {
      "text/html": [
       "<div>\n",
       "<style scoped>\n",
       "    .dataframe tbody tr th:only-of-type {\n",
       "        vertical-align: middle;\n",
       "    }\n",
       "\n",
       "    .dataframe tbody tr th {\n",
       "        vertical-align: top;\n",
       "    }\n",
       "\n",
       "    .dataframe thead th {\n",
       "        text-align: right;\n",
       "    }\n",
       "</style>\n",
       "<table border=\"1\" class=\"dataframe\">\n",
       "  <thead>\n",
       "    <tr style=\"text-align: right;\">\n",
       "      <th></th>\n",
       "      <th>MPG</th>\n",
       "      <th>POS</th>\n",
       "      <th>TEAM</th>\n",
       "    </tr>\n",
       "    <tr>\n",
       "      <th>PLAYER</th>\n",
       "      <th></th>\n",
       "      <th></th>\n",
       "      <th></th>\n",
       "    </tr>\n",
       "  </thead>\n",
       "  <tbody>\n",
       "    <tr>\n",
       "      <th>James Harden</th>\n",
       "      <td>37.1</td>\n",
       "      <td>PG</td>\n",
       "      <td>HOU</td>\n",
       "    </tr>\n",
       "    <tr>\n",
       "      <th>Anthony Davis</th>\n",
       "      <td>36.9</td>\n",
       "      <td>PF</td>\n",
       "      <td>NO</td>\n",
       "    </tr>\n",
       "    <tr>\n",
       "      <th>Paul George</th>\n",
       "      <td>35.7</td>\n",
       "      <td>SF</td>\n",
       "      <td>OKC</td>\n",
       "    </tr>\n",
       "    <tr>\n",
       "      <th>Nikola Jokic</th>\n",
       "      <td>31.3</td>\n",
       "      <td>C</td>\n",
       "      <td>DEN</td>\n",
       "    </tr>\n",
       "    <tr>\n",
       "      <th>Kyrie Irving</th>\n",
       "      <td>32.1</td>\n",
       "      <td>PG</td>\n",
       "      <td>BOS</td>\n",
       "    </tr>\n",
       "    <tr>\n",
       "      <th>...</th>\n",
       "      <td>...</td>\n",
       "      <td>...</td>\n",
       "      <td>...</td>\n",
       "    </tr>\n",
       "    <tr>\n",
       "      <th>Allonzo Trier</th>\n",
       "      <td>22.1</td>\n",
       "      <td>SG</td>\n",
       "      <td>NY</td>\n",
       "    </tr>\n",
       "    <tr>\n",
       "      <th>Frank Ntilikina</th>\n",
       "      <td>21.1</td>\n",
       "      <td>PG</td>\n",
       "      <td>NY</td>\n",
       "    </tr>\n",
       "    <tr>\n",
       "      <th>Kevin Knox</th>\n",
       "      <td>26.6</td>\n",
       "      <td>SF</td>\n",
       "      <td>NY</td>\n",
       "    </tr>\n",
       "    <tr>\n",
       "      <th>Jamal Crawford</th>\n",
       "      <td>17.2</td>\n",
       "      <td>SG</td>\n",
       "      <td>PHX</td>\n",
       "    </tr>\n",
       "    <tr>\n",
       "      <th>Collin Sexton</th>\n",
       "      <td>29.6</td>\n",
       "      <td>PG</td>\n",
       "      <td>CLE</td>\n",
       "    </tr>\n",
       "  </tbody>\n",
       "</table>\n",
       "<p>343 rows × 3 columns</p>\n",
       "</div>"
      ],
      "text/plain": [
       "                  MPG POS TEAM\n",
       "PLAYER                        \n",
       "James Harden     37.1  PG  HOU\n",
       "Anthony Davis    36.9  PF   NO\n",
       "Paul George      35.7  SF  OKC\n",
       "Nikola Jokic     31.3   C  DEN\n",
       "Kyrie Irving     32.1  PG  BOS\n",
       "...               ...  ..  ...\n",
       "Allonzo Trier    22.1  SG   NY\n",
       "Frank Ntilikina  21.1  PG   NY\n",
       "Kevin Knox       26.6  SF   NY\n",
       "Jamal Crawford   17.2  SG  PHX\n",
       "Collin Sexton    29.6  PG  CLE\n",
       "\n",
       "[343 rows x 3 columns]"
      ]
     },
     "execution_count": 5,
     "metadata": {},
     "output_type": "execute_result"
    }
   ],
   "source": [
    "df[['MPG', 'POS', 'TEAM']]"
   ]
  },
  {
   "cell_type": "markdown",
   "metadata": {},
   "source": [
    "Note: The outputs are styled differently because selecting a single column returns a Series, while selecting multiple columns returns another DataFrame. (Series objects are always renedered by the notebook in plain font and without styling). It always helps to know what type of object you are working with, as some methods only apply to Series and not DataFrames, or vice versa."
   ]
  },
  {
   "cell_type": "markdown",
   "metadata": {},
   "source": [
    "### The Label Selector"
   ]
  },
  {
   "cell_type": "markdown",
   "metadata": {},
   "source": [
    "Because this type of exploratory data analysis is so common, pandas makes it very easy to select the data in a column using column labels. But we can also select data using row labels - that is, the values that populate the Index - using the `.loc` method."
   ]
  },
  {
   "cell_type": "markdown",
   "metadata": {},
   "source": [
    "For example, we can use `.loc` to select all statistics related to James Harden:"
   ]
  },
  {
   "cell_type": "code",
   "execution_count": 6,
   "metadata": {},
   "outputs": [
    {
     "data": {
      "text/plain": [
       "MPG      37.1\n",
       "TEAM      HOU\n",
       "POS        PG\n",
       "TS%     0.622\n",
       "AST      20.8\n",
       "        ...  \n",
       "REBR      9.3\n",
       "PER     29.21\n",
       "ORPM     7.76\n",
       "DRPM    -0.06\n",
       "RPM       7.7\n",
       "Name: James Harden, Length: 14, dtype: object"
      ]
     },
     "execution_count": 6,
     "metadata": {},
     "output_type": "execute_result"
    }
   ],
   "source": [
    "harden = df.loc['James Harden']\n",
    "harden"
   ]
  },
  {
   "cell_type": "markdown",
   "metadata": {},
   "source": [
    "This returns a row of our DataFrame as a Series object. As a quick aside, note that index of this Series is exactly the same as the columns of our original DataFrame:"
   ]
  },
  {
   "cell_type": "code",
   "execution_count": 7,
   "metadata": {},
   "outputs": [
    {
     "data": {
      "text/plain": [
       "True"
      ]
     },
     "execution_count": 7,
     "metadata": {},
     "output_type": "execute_result"
    }
   ],
   "source": [
    "harden.index is df.columns"
   ]
  },
  {
   "cell_type": "markdown",
   "metadata": {},
   "source": [
    "This gives us enough knowledge to solidify our understanding of the relationship between a DataFrame, Series, and Index that we introduced in the previous tutorial. **Selecting a single DataFrame column returns a Series with the same index as the original DataFrame, while selecting a single DataFrame row returns a Series with the original DataFrame's columns as its index.**"
   ]
  },
  {
   "cell_type": "markdown",
   "metadata": {},
   "source": [
    "The `.loc` method can be used in many ways. You can provide a \"slice\" of labels (provided the two labels bounding the slice exist):"
   ]
  },
  {
   "cell_type": "code",
   "execution_count": 8,
   "metadata": {},
   "outputs": [
    {
     "data": {
      "text/html": [
       "<div>\n",
       "<style scoped>\n",
       "    .dataframe tbody tr th:only-of-type {\n",
       "        vertical-align: middle;\n",
       "    }\n",
       "\n",
       "    .dataframe tbody tr th {\n",
       "        vertical-align: top;\n",
       "    }\n",
       "\n",
       "    .dataframe thead th {\n",
       "        text-align: right;\n",
       "    }\n",
       "</style>\n",
       "<table border=\"1\" class=\"dataframe\">\n",
       "  <thead>\n",
       "    <tr style=\"text-align: right;\">\n",
       "      <th></th>\n",
       "      <th>MPG</th>\n",
       "      <th>TEAM</th>\n",
       "      <th>POS</th>\n",
       "      <th>TS%</th>\n",
       "      <th>AST</th>\n",
       "      <th>TO</th>\n",
       "      <th>USG</th>\n",
       "      <th>ORR</th>\n",
       "      <th>DRR</th>\n",
       "      <th>REBR</th>\n",
       "      <th>PER</th>\n",
       "      <th>ORPM</th>\n",
       "      <th>DRPM</th>\n",
       "      <th>RPM</th>\n",
       "    </tr>\n",
       "    <tr>\n",
       "      <th>PLAYER</th>\n",
       "      <th></th>\n",
       "      <th></th>\n",
       "      <th></th>\n",
       "      <th></th>\n",
       "      <th></th>\n",
       "      <th></th>\n",
       "      <th></th>\n",
       "      <th></th>\n",
       "      <th></th>\n",
       "      <th></th>\n",
       "      <th></th>\n",
       "      <th></th>\n",
       "      <th></th>\n",
       "      <th></th>\n",
       "    </tr>\n",
       "  </thead>\n",
       "  <tbody>\n",
       "    <tr>\n",
       "      <th>James Harden</th>\n",
       "      <td>37.1</td>\n",
       "      <td>HOU</td>\n",
       "      <td>PG</td>\n",
       "      <td>0.622</td>\n",
       "      <td>20.8</td>\n",
       "      <td>13.5</td>\n",
       "      <td>40.0</td>\n",
       "      <td>2.1</td>\n",
       "      <td>17.0</td>\n",
       "      <td>9.3</td>\n",
       "      <td>29.21</td>\n",
       "      <td>7.76</td>\n",
       "      <td>-0.06</td>\n",
       "      <td>7.70</td>\n",
       "    </tr>\n",
       "    <tr>\n",
       "      <th>Anthony Davis</th>\n",
       "      <td>36.9</td>\n",
       "      <td>NO</td>\n",
       "      <td>PF</td>\n",
       "      <td>0.598</td>\n",
       "      <td>14.3</td>\n",
       "      <td>6.7</td>\n",
       "      <td>29.3</td>\n",
       "      <td>10.0</td>\n",
       "      <td>27.7</td>\n",
       "      <td>19.1</td>\n",
       "      <td>31.09</td>\n",
       "      <td>3.93</td>\n",
       "      <td>3.24</td>\n",
       "      <td>7.17</td>\n",
       "    </tr>\n",
       "    <tr>\n",
       "      <th>Paul George</th>\n",
       "      <td>35.7</td>\n",
       "      <td>OKC</td>\n",
       "      <td>SF</td>\n",
       "      <td>0.574</td>\n",
       "      <td>13.0</td>\n",
       "      <td>9.0</td>\n",
       "      <td>29.6</td>\n",
       "      <td>4.3</td>\n",
       "      <td>19.3</td>\n",
       "      <td>11.7</td>\n",
       "      <td>23.29</td>\n",
       "      <td>3.82</td>\n",
       "      <td>2.85</td>\n",
       "      <td>6.67</td>\n",
       "    </tr>\n",
       "    <tr>\n",
       "      <th>Nikola Jokic</th>\n",
       "      <td>31.3</td>\n",
       "      <td>DEN</td>\n",
       "      <td>C</td>\n",
       "      <td>0.587</td>\n",
       "      <td>27.6</td>\n",
       "      <td>12.0</td>\n",
       "      <td>29.1</td>\n",
       "      <td>9.7</td>\n",
       "      <td>25.6</td>\n",
       "      <td>17.6</td>\n",
       "      <td>26.09</td>\n",
       "      <td>4.46</td>\n",
       "      <td>1.83</td>\n",
       "      <td>6.29</td>\n",
       "    </tr>\n",
       "    <tr>\n",
       "      <th>Kyrie Irving</th>\n",
       "      <td>32.1</td>\n",
       "      <td>BOS</td>\n",
       "      <td>PG</td>\n",
       "      <td>0.592</td>\n",
       "      <td>22.9</td>\n",
       "      <td>8.9</td>\n",
       "      <td>29.9</td>\n",
       "      <td>3.8</td>\n",
       "      <td>12.2</td>\n",
       "      <td>8.0</td>\n",
       "      <td>24.55</td>\n",
       "      <td>4.60</td>\n",
       "      <td>0.92</td>\n",
       "      <td>5.52</td>\n",
       "    </tr>\n",
       "  </tbody>\n",
       "</table>\n",
       "</div>"
      ],
      "text/plain": [
       "                MPG TEAM POS    TS%   AST    TO   USG   ORR   DRR  REBR  \\\n",
       "PLAYER                                                                    \n",
       "James Harden   37.1  HOU  PG  0.622  20.8  13.5  40.0   2.1  17.0   9.3   \n",
       "Anthony Davis  36.9   NO  PF  0.598  14.3   6.7  29.3  10.0  27.7  19.1   \n",
       "Paul George    35.7  OKC  SF  0.574  13.0   9.0  29.6   4.3  19.3  11.7   \n",
       "Nikola Jokic   31.3  DEN   C  0.587  27.6  12.0  29.1   9.7  25.6  17.6   \n",
       "Kyrie Irving   32.1  BOS  PG  0.592  22.9   8.9  29.9   3.8  12.2   8.0   \n",
       "\n",
       "                 PER  ORPM  DRPM   RPM  \n",
       "PLAYER                                  \n",
       "James Harden   29.21  7.76 -0.06  7.70  \n",
       "Anthony Davis  31.09  3.93  3.24  7.17  \n",
       "Paul George    23.29  3.82  2.85  6.67  \n",
       "Nikola Jokic   26.09  4.46  1.83  6.29  \n",
       "Kyrie Irving   24.55  4.60  0.92  5.52  "
      ]
     },
     "execution_count": 8,
     "metadata": {},
     "output_type": "execute_result"
    }
   ],
   "source": [
    "df.loc['James Harden':'Kyrie Irving']"
   ]
  },
  {
   "cell_type": "markdown",
   "metadata": {},
   "source": [
    "Or a list of a labels:"
   ]
  },
  {
   "cell_type": "code",
   "execution_count": 9,
   "metadata": {},
   "outputs": [
    {
     "data": {
      "text/html": [
       "<div>\n",
       "<style scoped>\n",
       "    .dataframe tbody tr th:only-of-type {\n",
       "        vertical-align: middle;\n",
       "    }\n",
       "\n",
       "    .dataframe tbody tr th {\n",
       "        vertical-align: top;\n",
       "    }\n",
       "\n",
       "    .dataframe thead th {\n",
       "        text-align: right;\n",
       "    }\n",
       "</style>\n",
       "<table border=\"1\" class=\"dataframe\">\n",
       "  <thead>\n",
       "    <tr style=\"text-align: right;\">\n",
       "      <th></th>\n",
       "      <th>MPG</th>\n",
       "      <th>TEAM</th>\n",
       "      <th>POS</th>\n",
       "      <th>TS%</th>\n",
       "      <th>AST</th>\n",
       "      <th>TO</th>\n",
       "      <th>USG</th>\n",
       "      <th>ORR</th>\n",
       "      <th>DRR</th>\n",
       "      <th>REBR</th>\n",
       "      <th>PER</th>\n",
       "      <th>ORPM</th>\n",
       "      <th>DRPM</th>\n",
       "      <th>RPM</th>\n",
       "    </tr>\n",
       "    <tr>\n",
       "      <th>PLAYER</th>\n",
       "      <th></th>\n",
       "      <th></th>\n",
       "      <th></th>\n",
       "      <th></th>\n",
       "      <th></th>\n",
       "      <th></th>\n",
       "      <th></th>\n",
       "      <th></th>\n",
       "      <th></th>\n",
       "      <th></th>\n",
       "      <th></th>\n",
       "      <th></th>\n",
       "      <th></th>\n",
       "      <th></th>\n",
       "    </tr>\n",
       "  </thead>\n",
       "  <tbody>\n",
       "    <tr>\n",
       "      <th>James Harden</th>\n",
       "      <td>37.1</td>\n",
       "      <td>HOU</td>\n",
       "      <td>PG</td>\n",
       "      <td>0.622</td>\n",
       "      <td>20.8</td>\n",
       "      <td>13.5</td>\n",
       "      <td>40.0</td>\n",
       "      <td>2.1</td>\n",
       "      <td>17.0</td>\n",
       "      <td>9.3</td>\n",
       "      <td>29.21</td>\n",
       "      <td>7.76</td>\n",
       "      <td>-0.06</td>\n",
       "      <td>7.70</td>\n",
       "    </tr>\n",
       "    <tr>\n",
       "      <th>Kyrie Irving</th>\n",
       "      <td>32.1</td>\n",
       "      <td>BOS</td>\n",
       "      <td>PG</td>\n",
       "      <td>0.592</td>\n",
       "      <td>22.9</td>\n",
       "      <td>8.9</td>\n",
       "      <td>29.9</td>\n",
       "      <td>3.8</td>\n",
       "      <td>12.2</td>\n",
       "      <td>8.0</td>\n",
       "      <td>24.55</td>\n",
       "      <td>4.60</td>\n",
       "      <td>0.92</td>\n",
       "      <td>5.52</td>\n",
       "    </tr>\n",
       "    <tr>\n",
       "      <th>Paul George</th>\n",
       "      <td>35.7</td>\n",
       "      <td>OKC</td>\n",
       "      <td>SF</td>\n",
       "      <td>0.574</td>\n",
       "      <td>13.0</td>\n",
       "      <td>9.0</td>\n",
       "      <td>29.6</td>\n",
       "      <td>4.3</td>\n",
       "      <td>19.3</td>\n",
       "      <td>11.7</td>\n",
       "      <td>23.29</td>\n",
       "      <td>3.82</td>\n",
       "      <td>2.85</td>\n",
       "      <td>6.67</td>\n",
       "    </tr>\n",
       "  </tbody>\n",
       "</table>\n",
       "</div>"
      ],
      "text/plain": [
       "               MPG TEAM POS    TS%   AST    TO   USG  ORR   DRR  REBR    PER  \\\n",
       "PLAYER                                                                         \n",
       "James Harden  37.1  HOU  PG  0.622  20.8  13.5  40.0  2.1  17.0   9.3  29.21   \n",
       "Kyrie Irving  32.1  BOS  PG  0.592  22.9   8.9  29.9  3.8  12.2   8.0  24.55   \n",
       "Paul George   35.7  OKC  SF  0.574  13.0   9.0  29.6  4.3  19.3  11.7  23.29   \n",
       "\n",
       "              ORPM  DRPM   RPM  \n",
       "PLAYER                          \n",
       "James Harden  7.76 -0.06  7.70  \n",
       "Kyrie Irving  4.60  0.92  5.52  \n",
       "Paul George   3.82  2.85  6.67  "
      ]
     },
     "execution_count": 9,
     "metadata": {},
     "output_type": "execute_result"
    }
   ],
   "source": [
    "df.loc[['James Harden', 'Kyrie Irving', 'Paul George']]"
   ]
  },
  {
   "cell_type": "markdown",
   "metadata": {},
   "source": [
    "We learned above that column names are also labels, so the `.loc` method can also be used to select columns by passing in a second parameter, containing a column label. Like the row labels, these can a single label, a list of labels, or a slice of labels:"
   ]
  },
  {
   "cell_type": "code",
   "execution_count": 10,
   "metadata": {},
   "outputs": [
    {
     "data": {
      "text/plain": [
       "20.8"
      ]
     },
     "execution_count": 10,
     "metadata": {},
     "output_type": "execute_result"
    }
   ],
   "source": [
    "df.loc['James Harden', 'AST']"
   ]
  },
  {
   "cell_type": "code",
   "execution_count": 11,
   "metadata": {},
   "outputs": [
    {
     "data": {
      "text/html": [
       "<div>\n",
       "<style scoped>\n",
       "    .dataframe tbody tr th:only-of-type {\n",
       "        vertical-align: middle;\n",
       "    }\n",
       "\n",
       "    .dataframe tbody tr th {\n",
       "        vertical-align: top;\n",
       "    }\n",
       "\n",
       "    .dataframe thead th {\n",
       "        text-align: right;\n",
       "    }\n",
       "</style>\n",
       "<table border=\"1\" class=\"dataframe\">\n",
       "  <thead>\n",
       "    <tr style=\"text-align: right;\">\n",
       "      <th></th>\n",
       "      <th>MPG</th>\n",
       "      <th>TEAM</th>\n",
       "      <th>TS%</th>\n",
       "      <th>USG</th>\n",
       "    </tr>\n",
       "    <tr>\n",
       "      <th>PLAYER</th>\n",
       "      <th></th>\n",
       "      <th></th>\n",
       "      <th></th>\n",
       "      <th></th>\n",
       "    </tr>\n",
       "  </thead>\n",
       "  <tbody>\n",
       "    <tr>\n",
       "      <th>James Harden</th>\n",
       "      <td>37.1</td>\n",
       "      <td>HOU</td>\n",
       "      <td>0.622</td>\n",
       "      <td>40.0</td>\n",
       "    </tr>\n",
       "    <tr>\n",
       "      <th>Anthony Davis</th>\n",
       "      <td>36.9</td>\n",
       "      <td>NO</td>\n",
       "      <td>0.598</td>\n",
       "      <td>29.3</td>\n",
       "    </tr>\n",
       "    <tr>\n",
       "      <th>Nikola Jokic</th>\n",
       "      <td>31.3</td>\n",
       "      <td>DEN</td>\n",
       "      <td>0.587</td>\n",
       "      <td>29.1</td>\n",
       "    </tr>\n",
       "  </tbody>\n",
       "</table>\n",
       "</div>"
      ],
      "text/plain": [
       "                MPG TEAM    TS%   USG\n",
       "PLAYER                               \n",
       "James Harden   37.1  HOU  0.622  40.0\n",
       "Anthony Davis  36.9   NO  0.598  29.3\n",
       "Nikola Jokic   31.3  DEN  0.587  29.1"
      ]
     },
     "execution_count": 11,
     "metadata": {},
     "output_type": "execute_result"
    }
   ],
   "source": [
    "df.loc[['James Harden', 'Anthony Davis', 'Nikola Jokic'], ['MPG', 'TEAM', 'TS%', 'USG']]"
   ]
  },
  {
   "cell_type": "markdown",
   "metadata": {},
   "source": [
    "Side note: James Harden's combination of TS% and USG is absolutely incredible..."
   ]
  },
  {
   "cell_type": "code",
   "execution_count": 12,
   "metadata": {},
   "outputs": [
    {
     "data": {
      "text/html": [
       "<div>\n",
       "<style scoped>\n",
       "    .dataframe tbody tr th:only-of-type {\n",
       "        vertical-align: middle;\n",
       "    }\n",
       "\n",
       "    .dataframe tbody tr th {\n",
       "        vertical-align: top;\n",
       "    }\n",
       "\n",
       "    .dataframe thead th {\n",
       "        text-align: right;\n",
       "    }\n",
       "</style>\n",
       "<table border=\"1\" class=\"dataframe\">\n",
       "  <thead>\n",
       "    <tr style=\"text-align: right;\">\n",
       "      <th></th>\n",
       "      <th>MPG</th>\n",
       "      <th>TEAM</th>\n",
       "      <th>POS</th>\n",
       "      <th>TS%</th>\n",
       "      <th>AST</th>\n",
       "      <th>TO</th>\n",
       "    </tr>\n",
       "    <tr>\n",
       "      <th>PLAYER</th>\n",
       "      <th></th>\n",
       "      <th></th>\n",
       "      <th></th>\n",
       "      <th></th>\n",
       "      <th></th>\n",
       "      <th></th>\n",
       "    </tr>\n",
       "  </thead>\n",
       "  <tbody>\n",
       "    <tr>\n",
       "      <th>James Harden</th>\n",
       "      <td>37.1</td>\n",
       "      <td>HOU</td>\n",
       "      <td>PG</td>\n",
       "      <td>0.622</td>\n",
       "      <td>20.8</td>\n",
       "      <td>13.5</td>\n",
       "    </tr>\n",
       "    <tr>\n",
       "      <th>Anthony Davis</th>\n",
       "      <td>36.9</td>\n",
       "      <td>NO</td>\n",
       "      <td>PF</td>\n",
       "      <td>0.598</td>\n",
       "      <td>14.3</td>\n",
       "      <td>6.7</td>\n",
       "    </tr>\n",
       "    <tr>\n",
       "      <th>Paul George</th>\n",
       "      <td>35.7</td>\n",
       "      <td>OKC</td>\n",
       "      <td>SF</td>\n",
       "      <td>0.574</td>\n",
       "      <td>13.0</td>\n",
       "      <td>9.0</td>\n",
       "    </tr>\n",
       "    <tr>\n",
       "      <th>Nikola Jokic</th>\n",
       "      <td>31.3</td>\n",
       "      <td>DEN</td>\n",
       "      <td>C</td>\n",
       "      <td>0.587</td>\n",
       "      <td>27.6</td>\n",
       "      <td>12.0</td>\n",
       "    </tr>\n",
       "    <tr>\n",
       "      <th>Kyrie Irving</th>\n",
       "      <td>32.1</td>\n",
       "      <td>BOS</td>\n",
       "      <td>PG</td>\n",
       "      <td>0.592</td>\n",
       "      <td>22.9</td>\n",
       "      <td>8.9</td>\n",
       "    </tr>\n",
       "  </tbody>\n",
       "</table>\n",
       "</div>"
      ],
      "text/plain": [
       "                MPG TEAM POS    TS%   AST    TO\n",
       "PLAYER                                         \n",
       "James Harden   37.1  HOU  PG  0.622  20.8  13.5\n",
       "Anthony Davis  36.9   NO  PF  0.598  14.3   6.7\n",
       "Paul George    35.7  OKC  SF  0.574  13.0   9.0\n",
       "Nikola Jokic   31.3  DEN   C  0.587  27.6  12.0\n",
       "Kyrie Irving   32.1  BOS  PG  0.592  22.9   8.9"
      ]
     },
     "execution_count": 12,
     "metadata": {},
     "output_type": "execute_result"
    }
   ],
   "source": [
    "df.loc['James Harden':'Kyrie Irving', 'MPG':'TO']"
   ]
  },
  {
   "cell_type": "markdown",
   "metadata": {},
   "source": [
    "Finally, it's important to note that the labels in the Index do not have to be unique. Say, for instance, we were more interested at player metrics at the team level rather than the player level. To do so, we can use pandas built-in methods to manipulate our DataFrame to use team names instead of player names:"
   ]
  },
  {
   "cell_type": "code",
   "execution_count": 13,
   "metadata": {},
   "outputs": [
    {
     "data": {
      "text/html": [
       "<div>\n",
       "<style scoped>\n",
       "    .dataframe tbody tr th:only-of-type {\n",
       "        vertical-align: middle;\n",
       "    }\n",
       "\n",
       "    .dataframe tbody tr th {\n",
       "        vertical-align: top;\n",
       "    }\n",
       "\n",
       "    .dataframe thead th {\n",
       "        text-align: right;\n",
       "    }\n",
       "</style>\n",
       "<table border=\"1\" class=\"dataframe\">\n",
       "  <thead>\n",
       "    <tr style=\"text-align: right;\">\n",
       "      <th></th>\n",
       "      <th>PLAYER</th>\n",
       "      <th>MPG</th>\n",
       "      <th>POS</th>\n",
       "      <th>TS%</th>\n",
       "      <th>AST</th>\n",
       "      <th>TO</th>\n",
       "      <th>USG</th>\n",
       "      <th>ORR</th>\n",
       "      <th>DRR</th>\n",
       "      <th>REBR</th>\n",
       "      <th>PER</th>\n",
       "      <th>ORPM</th>\n",
       "      <th>DRPM</th>\n",
       "      <th>RPM</th>\n",
       "    </tr>\n",
       "    <tr>\n",
       "      <th>TEAM</th>\n",
       "      <th></th>\n",
       "      <th></th>\n",
       "      <th></th>\n",
       "      <th></th>\n",
       "      <th></th>\n",
       "      <th></th>\n",
       "      <th></th>\n",
       "      <th></th>\n",
       "      <th></th>\n",
       "      <th></th>\n",
       "      <th></th>\n",
       "      <th></th>\n",
       "      <th></th>\n",
       "      <th></th>\n",
       "    </tr>\n",
       "  </thead>\n",
       "  <tbody>\n",
       "    <tr>\n",
       "      <th>HOU</th>\n",
       "      <td>James Harden</td>\n",
       "      <td>37.1</td>\n",
       "      <td>PG</td>\n",
       "      <td>0.622</td>\n",
       "      <td>20.8</td>\n",
       "      <td>13.5</td>\n",
       "      <td>40.0</td>\n",
       "      <td>2.1</td>\n",
       "      <td>17.0</td>\n",
       "      <td>9.3</td>\n",
       "      <td>29.21</td>\n",
       "      <td>7.76</td>\n",
       "      <td>-0.06</td>\n",
       "      <td>7.70</td>\n",
       "    </tr>\n",
       "    <tr>\n",
       "      <th>NO</th>\n",
       "      <td>Anthony Davis</td>\n",
       "      <td>36.9</td>\n",
       "      <td>PF</td>\n",
       "      <td>0.598</td>\n",
       "      <td>14.3</td>\n",
       "      <td>6.7</td>\n",
       "      <td>29.3</td>\n",
       "      <td>10.0</td>\n",
       "      <td>27.7</td>\n",
       "      <td>19.1</td>\n",
       "      <td>31.09</td>\n",
       "      <td>3.93</td>\n",
       "      <td>3.24</td>\n",
       "      <td>7.17</td>\n",
       "    </tr>\n",
       "    <tr>\n",
       "      <th>OKC</th>\n",
       "      <td>Paul George</td>\n",
       "      <td>35.7</td>\n",
       "      <td>SF</td>\n",
       "      <td>0.574</td>\n",
       "      <td>13.0</td>\n",
       "      <td>9.0</td>\n",
       "      <td>29.6</td>\n",
       "      <td>4.3</td>\n",
       "      <td>19.3</td>\n",
       "      <td>11.7</td>\n",
       "      <td>23.29</td>\n",
       "      <td>3.82</td>\n",
       "      <td>2.85</td>\n",
       "      <td>6.67</td>\n",
       "    </tr>\n",
       "    <tr>\n",
       "      <th>DEN</th>\n",
       "      <td>Nikola Jokic</td>\n",
       "      <td>31.3</td>\n",
       "      <td>C</td>\n",
       "      <td>0.587</td>\n",
       "      <td>27.6</td>\n",
       "      <td>12.0</td>\n",
       "      <td>29.1</td>\n",
       "      <td>9.7</td>\n",
       "      <td>25.6</td>\n",
       "      <td>17.6</td>\n",
       "      <td>26.09</td>\n",
       "      <td>4.46</td>\n",
       "      <td>1.83</td>\n",
       "      <td>6.29</td>\n",
       "    </tr>\n",
       "    <tr>\n",
       "      <th>BOS</th>\n",
       "      <td>Kyrie Irving</td>\n",
       "      <td>32.1</td>\n",
       "      <td>PG</td>\n",
       "      <td>0.592</td>\n",
       "      <td>22.9</td>\n",
       "      <td>8.9</td>\n",
       "      <td>29.9</td>\n",
       "      <td>3.8</td>\n",
       "      <td>12.2</td>\n",
       "      <td>8.0</td>\n",
       "      <td>24.55</td>\n",
       "      <td>4.60</td>\n",
       "      <td>0.92</td>\n",
       "      <td>5.52</td>\n",
       "    </tr>\n",
       "    <tr>\n",
       "      <th>...</th>\n",
       "      <td>...</td>\n",
       "      <td>...</td>\n",
       "      <td>...</td>\n",
       "      <td>...</td>\n",
       "      <td>...</td>\n",
       "      <td>...</td>\n",
       "      <td>...</td>\n",
       "      <td>...</td>\n",
       "      <td>...</td>\n",
       "      <td>...</td>\n",
       "      <td>...</td>\n",
       "      <td>...</td>\n",
       "      <td>...</td>\n",
       "      <td>...</td>\n",
       "    </tr>\n",
       "    <tr>\n",
       "      <th>NY</th>\n",
       "      <td>Allonzo Trier</td>\n",
       "      <td>22.1</td>\n",
       "      <td>SG</td>\n",
       "      <td>0.543</td>\n",
       "      <td>14.2</td>\n",
       "      <td>13.7</td>\n",
       "      <td>20.8</td>\n",
       "      <td>2.2</td>\n",
       "      <td>11.5</td>\n",
       "      <td>6.6</td>\n",
       "      <td>11.50</td>\n",
       "      <td>-2.34</td>\n",
       "      <td>-2.96</td>\n",
       "      <td>-5.30</td>\n",
       "    </tr>\n",
       "    <tr>\n",
       "      <th>NY</th>\n",
       "      <td>Frank Ntilikina</td>\n",
       "      <td>21.1</td>\n",
       "      <td>PG</td>\n",
       "      <td>0.439</td>\n",
       "      <td>23.4</td>\n",
       "      <td>12.5</td>\n",
       "      <td>17.1</td>\n",
       "      <td>1.1</td>\n",
       "      <td>8.7</td>\n",
       "      <td>4.7</td>\n",
       "      <td>6.14</td>\n",
       "      <td>-3.29</td>\n",
       "      <td>-2.30</td>\n",
       "      <td>-5.59</td>\n",
       "    </tr>\n",
       "    <tr>\n",
       "      <th>NY</th>\n",
       "      <td>Kevin Knox</td>\n",
       "      <td>26.6</td>\n",
       "      <td>SF</td>\n",
       "      <td>0.482</td>\n",
       "      <td>6.2</td>\n",
       "      <td>8.5</td>\n",
       "      <td>21.2</td>\n",
       "      <td>3.1</td>\n",
       "      <td>13.5</td>\n",
       "      <td>8.1</td>\n",
       "      <td>9.58</td>\n",
       "      <td>-2.24</td>\n",
       "      <td>-3.78</td>\n",
       "      <td>-6.02</td>\n",
       "    </tr>\n",
       "    <tr>\n",
       "      <th>PHX</th>\n",
       "      <td>Jamal Crawford</td>\n",
       "      <td>17.2</td>\n",
       "      <td>SG</td>\n",
       "      <td>0.463</td>\n",
       "      <td>27.5</td>\n",
       "      <td>12.9</td>\n",
       "      <td>22.4</td>\n",
       "      <td>1.1</td>\n",
       "      <td>6.9</td>\n",
       "      <td>3.9</td>\n",
       "      <td>8.81</td>\n",
       "      <td>-2.97</td>\n",
       "      <td>-3.17</td>\n",
       "      <td>-6.14</td>\n",
       "    </tr>\n",
       "    <tr>\n",
       "      <th>CLE</th>\n",
       "      <td>Collin Sexton</td>\n",
       "      <td>29.6</td>\n",
       "      <td>PG</td>\n",
       "      <td>0.493</td>\n",
       "      <td>14.2</td>\n",
       "      <td>11.4</td>\n",
       "      <td>25.2</td>\n",
       "      <td>2.3</td>\n",
       "      <td>9.3</td>\n",
       "      <td>5.6</td>\n",
       "      <td>10.42</td>\n",
       "      <td>-2.82</td>\n",
       "      <td>-4.35</td>\n",
       "      <td>-7.17</td>\n",
       "    </tr>\n",
       "  </tbody>\n",
       "</table>\n",
       "<p>343 rows × 14 columns</p>\n",
       "</div>"
      ],
      "text/plain": [
       "               PLAYER   MPG POS    TS%   AST    TO   USG   ORR   DRR  REBR  \\\n",
       "TEAM                                                                         \n",
       "HOU      James Harden  37.1  PG  0.622  20.8  13.5  40.0   2.1  17.0   9.3   \n",
       "NO      Anthony Davis  36.9  PF  0.598  14.3   6.7  29.3  10.0  27.7  19.1   \n",
       "OKC       Paul George  35.7  SF  0.574  13.0   9.0  29.6   4.3  19.3  11.7   \n",
       "DEN      Nikola Jokic  31.3   C  0.587  27.6  12.0  29.1   9.7  25.6  17.6   \n",
       "BOS      Kyrie Irving  32.1  PG  0.592  22.9   8.9  29.9   3.8  12.2   8.0   \n",
       "...               ...   ...  ..    ...   ...   ...   ...   ...   ...   ...   \n",
       "NY      Allonzo Trier  22.1  SG  0.543  14.2  13.7  20.8   2.2  11.5   6.6   \n",
       "NY    Frank Ntilikina  21.1  PG  0.439  23.4  12.5  17.1   1.1   8.7   4.7   \n",
       "NY         Kevin Knox  26.6  SF  0.482   6.2   8.5  21.2   3.1  13.5   8.1   \n",
       "PHX    Jamal Crawford  17.2  SG  0.463  27.5  12.9  22.4   1.1   6.9   3.9   \n",
       "CLE     Collin Sexton  29.6  PG  0.493  14.2  11.4  25.2   2.3   9.3   5.6   \n",
       "\n",
       "        PER  ORPM  DRPM   RPM  \n",
       "TEAM                           \n",
       "HOU   29.21  7.76 -0.06  7.70  \n",
       "NO    31.09  3.93  3.24  7.17  \n",
       "OKC   23.29  3.82  2.85  6.67  \n",
       "DEN   26.09  4.46  1.83  6.29  \n",
       "BOS   24.55  4.60  0.92  5.52  \n",
       "...     ...   ...   ...   ...  \n",
       "NY    11.50 -2.34 -2.96 -5.30  \n",
       "NY     6.14 -3.29 -2.30 -5.59  \n",
       "NY     9.58 -2.24 -3.78 -6.02  \n",
       "PHX    8.81 -2.97 -3.17 -6.14  \n",
       "CLE   10.42 -2.82 -4.35 -7.17  \n",
       "\n",
       "[343 rows x 14 columns]"
      ]
     },
     "execution_count": 13,
     "metadata": {},
     "output_type": "execute_result"
    }
   ],
   "source": [
    "# reset_index turns a DataFrame's index back to its default index\n",
    "df_with_team_index = df.reset_index().set_index('TEAM')\n",
    "df_with_team_index"
   ]
  },
  {
   "cell_type": "markdown",
   "metadata": {},
   "source": [
    "And selecting stats for all players on a team is very easy:"
   ]
  },
  {
   "cell_type": "code",
   "execution_count": 14,
   "metadata": {},
   "outputs": [
    {
     "data": {
      "text/html": [
       "<div>\n",
       "<style scoped>\n",
       "    .dataframe tbody tr th:only-of-type {\n",
       "        vertical-align: middle;\n",
       "    }\n",
       "\n",
       "    .dataframe tbody tr th {\n",
       "        vertical-align: top;\n",
       "    }\n",
       "\n",
       "    .dataframe thead th {\n",
       "        text-align: right;\n",
       "    }\n",
       "</style>\n",
       "<table border=\"1\" class=\"dataframe\">\n",
       "  <thead>\n",
       "    <tr style=\"text-align: right;\">\n",
       "      <th></th>\n",
       "      <th>PLAYER</th>\n",
       "      <th>MPG</th>\n",
       "      <th>POS</th>\n",
       "      <th>TS%</th>\n",
       "      <th>AST</th>\n",
       "      <th>TO</th>\n",
       "      <th>USG</th>\n",
       "      <th>ORR</th>\n",
       "      <th>DRR</th>\n",
       "      <th>REBR</th>\n",
       "      <th>PER</th>\n",
       "      <th>ORPM</th>\n",
       "      <th>DRPM</th>\n",
       "      <th>RPM</th>\n",
       "    </tr>\n",
       "    <tr>\n",
       "      <th>TEAM</th>\n",
       "      <th></th>\n",
       "      <th></th>\n",
       "      <th></th>\n",
       "      <th></th>\n",
       "      <th></th>\n",
       "      <th></th>\n",
       "      <th></th>\n",
       "      <th></th>\n",
       "      <th></th>\n",
       "      <th></th>\n",
       "      <th></th>\n",
       "      <th></th>\n",
       "      <th></th>\n",
       "      <th></th>\n",
       "    </tr>\n",
       "  </thead>\n",
       "  <tbody>\n",
       "    <tr>\n",
       "      <th>HOU</th>\n",
       "      <td>James Harden</td>\n",
       "      <td>37.1</td>\n",
       "      <td>PG</td>\n",
       "      <td>0.622</td>\n",
       "      <td>20.8</td>\n",
       "      <td>13.5</td>\n",
       "      <td>40.0</td>\n",
       "      <td>2.1</td>\n",
       "      <td>17.0</td>\n",
       "      <td>9.3</td>\n",
       "      <td>29.21</td>\n",
       "      <td>7.76</td>\n",
       "      <td>-0.06</td>\n",
       "      <td>7.70</td>\n",
       "    </tr>\n",
       "    <tr>\n",
       "      <th>HOU</th>\n",
       "      <td>Chris Paul</td>\n",
       "      <td>33.2</td>\n",
       "      <td>PG</td>\n",
       "      <td>0.544</td>\n",
       "      <td>31.6</td>\n",
       "      <td>11.7</td>\n",
       "      <td>24.8</td>\n",
       "      <td>2.0</td>\n",
       "      <td>12.0</td>\n",
       "      <td>6.9</td>\n",
       "      <td>18.20</td>\n",
       "      <td>1.67</td>\n",
       "      <td>1.13</td>\n",
       "      <td>2.80</td>\n",
       "    </tr>\n",
       "    <tr>\n",
       "      <th>HOU</th>\n",
       "      <td>PJ Tucker</td>\n",
       "      <td>35.1</td>\n",
       "      <td>SF</td>\n",
       "      <td>0.566</td>\n",
       "      <td>13.1</td>\n",
       "      <td>9.3</td>\n",
       "      <td>9.8</td>\n",
       "      <td>4.4</td>\n",
       "      <td>15.8</td>\n",
       "      <td>9.9</td>\n",
       "      <td>9.09</td>\n",
       "      <td>-0.97</td>\n",
       "      <td>1.72</td>\n",
       "      <td>0.75</td>\n",
       "    </tr>\n",
       "    <tr>\n",
       "      <th>HOU</th>\n",
       "      <td>Danuel House Jr.</td>\n",
       "      <td>24.1</td>\n",
       "      <td>SF</td>\n",
       "      <td>0.639</td>\n",
       "      <td>11.7</td>\n",
       "      <td>9.7</td>\n",
       "      <td>13.4</td>\n",
       "      <td>3.8</td>\n",
       "      <td>13.7</td>\n",
       "      <td>8.6</td>\n",
       "      <td>13.00</td>\n",
       "      <td>0.51</td>\n",
       "      <td>-0.38</td>\n",
       "      <td>0.13</td>\n",
       "    </tr>\n",
       "    <tr>\n",
       "      <th>HOU</th>\n",
       "      <td>Gerald Green</td>\n",
       "      <td>20.3</td>\n",
       "      <td>SG</td>\n",
       "      <td>0.582</td>\n",
       "      <td>4.9</td>\n",
       "      <td>8.9</td>\n",
       "      <td>17.3</td>\n",
       "      <td>2.6</td>\n",
       "      <td>12.4</td>\n",
       "      <td>7.4</td>\n",
       "      <td>11.33</td>\n",
       "      <td>0.60</td>\n",
       "      <td>-0.79</td>\n",
       "      <td>-0.19</td>\n",
       "    </tr>\n",
       "    <tr>\n",
       "      <th>HOU</th>\n",
       "      <td>Clint Capela</td>\n",
       "      <td>34.1</td>\n",
       "      <td>C</td>\n",
       "      <td>0.642</td>\n",
       "      <td>8.6</td>\n",
       "      <td>9.5</td>\n",
       "      <td>19.1</td>\n",
       "      <td>16.0</td>\n",
       "      <td>26.2</td>\n",
       "      <td>21.0</td>\n",
       "      <td>24.72</td>\n",
       "      <td>-0.67</td>\n",
       "      <td>-0.20</td>\n",
       "      <td>-0.87</td>\n",
       "    </tr>\n",
       "    <tr>\n",
       "      <th>HOU</th>\n",
       "      <td>James Ennis III</td>\n",
       "      <td>23.0</td>\n",
       "      <td>SF</td>\n",
       "      <td>0.619</td>\n",
       "      <td>9.4</td>\n",
       "      <td>8.4</td>\n",
       "      <td>12.1</td>\n",
       "      <td>4.4</td>\n",
       "      <td>8.7</td>\n",
       "      <td>6.5</td>\n",
       "      <td>11.13</td>\n",
       "      <td>-0.49</td>\n",
       "      <td>-0.48</td>\n",
       "      <td>-0.97</td>\n",
       "    </tr>\n",
       "    <tr>\n",
       "      <th>HOU</th>\n",
       "      <td>Gary Clark</td>\n",
       "      <td>15.2</td>\n",
       "      <td>PF</td>\n",
       "      <td>0.476</td>\n",
       "      <td>12.5</td>\n",
       "      <td>1.8</td>\n",
       "      <td>9.9</td>\n",
       "      <td>3.9</td>\n",
       "      <td>16.5</td>\n",
       "      <td>10.0</td>\n",
       "      <td>9.08</td>\n",
       "      <td>-1.58</td>\n",
       "      <td>-0.02</td>\n",
       "      <td>-1.60</td>\n",
       "    </tr>\n",
       "    <tr>\n",
       "      <th>HOU</th>\n",
       "      <td>Eric Gordon</td>\n",
       "      <td>33.2</td>\n",
       "      <td>SG</td>\n",
       "      <td>0.498</td>\n",
       "      <td>11.1</td>\n",
       "      <td>7.7</td>\n",
       "      <td>22.3</td>\n",
       "      <td>1.3</td>\n",
       "      <td>7.1</td>\n",
       "      <td>4.2</td>\n",
       "      <td>10.13</td>\n",
       "      <td>0.82</td>\n",
       "      <td>-2.77</td>\n",
       "      <td>-1.95</td>\n",
       "    </tr>\n",
       "    <tr>\n",
       "      <th>HOU</th>\n",
       "      <td>Carmelo Anthony</td>\n",
       "      <td>29.4</td>\n",
       "      <td>PF</td>\n",
       "      <td>0.513</td>\n",
       "      <td>3.5</td>\n",
       "      <td>5.6</td>\n",
       "      <td>19.7</td>\n",
       "      <td>3.4</td>\n",
       "      <td>17.9</td>\n",
       "      <td>10.4</td>\n",
       "      <td>11.23</td>\n",
       "      <td>-2.36</td>\n",
       "      <td>0.17</td>\n",
       "      <td>-2.19</td>\n",
       "    </tr>\n",
       "  </tbody>\n",
       "</table>\n",
       "</div>"
      ],
      "text/plain": [
       "                PLAYER   MPG POS    TS%   AST    TO   USG   ORR   DRR  REBR  \\\n",
       "TEAM                                                                          \n",
       "HOU       James Harden  37.1  PG  0.622  20.8  13.5  40.0   2.1  17.0   9.3   \n",
       "HOU         Chris Paul  33.2  PG  0.544  31.6  11.7  24.8   2.0  12.0   6.9   \n",
       "HOU          PJ Tucker  35.1  SF  0.566  13.1   9.3   9.8   4.4  15.8   9.9   \n",
       "HOU   Danuel House Jr.  24.1  SF  0.639  11.7   9.7  13.4   3.8  13.7   8.6   \n",
       "HOU       Gerald Green  20.3  SG  0.582   4.9   8.9  17.3   2.6  12.4   7.4   \n",
       "HOU       Clint Capela  34.1   C  0.642   8.6   9.5  19.1  16.0  26.2  21.0   \n",
       "HOU    James Ennis III  23.0  SF  0.619   9.4   8.4  12.1   4.4   8.7   6.5   \n",
       "HOU         Gary Clark  15.2  PF  0.476  12.5   1.8   9.9   3.9  16.5  10.0   \n",
       "HOU        Eric Gordon  33.2  SG  0.498  11.1   7.7  22.3   1.3   7.1   4.2   \n",
       "HOU    Carmelo Anthony  29.4  PF  0.513   3.5   5.6  19.7   3.4  17.9  10.4   \n",
       "\n",
       "        PER  ORPM  DRPM   RPM  \n",
       "TEAM                           \n",
       "HOU   29.21  7.76 -0.06  7.70  \n",
       "HOU   18.20  1.67  1.13  2.80  \n",
       "HOU    9.09 -0.97  1.72  0.75  \n",
       "HOU   13.00  0.51 -0.38  0.13  \n",
       "HOU   11.33  0.60 -0.79 -0.19  \n",
       "HOU   24.72 -0.67 -0.20 -0.87  \n",
       "HOU   11.13 -0.49 -0.48 -0.97  \n",
       "HOU    9.08 -1.58 -0.02 -1.60  \n",
       "HOU   10.13  0.82 -2.77 -1.95  \n",
       "HOU   11.23 -2.36  0.17 -2.19  "
      ]
     },
     "execution_count": 14,
     "metadata": {},
     "output_type": "execute_result"
    }
   ],
   "source": [
    "df_with_team_index.loc['HOU']"
   ]
  },
  {
   "cell_type": "markdown",
   "metadata": {},
   "source": [
    "When you know the type of analysis you want to perform, familarity with the mechanics of a DataFrame can save you a good amount of effort. "
   ]
  },
  {
   "cell_type": "markdown",
   "metadata": {},
   "source": [
    "### The Index Selector"
   ]
  },
  {
   "cell_type": "markdown",
   "metadata": {},
   "source": [
    "The next method for selecting data, `.iloc`, is very similar to `.loc`. But rather than using row labels, `.iloc` uses positional indexers. \n",
    "\n",
    "These positional indexers work like they do for python lists. We can use `.iloc[0]` to select the first row of our DataFrame:"
   ]
  },
  {
   "cell_type": "code",
   "execution_count": 15,
   "metadata": {},
   "outputs": [
    {
     "data": {
      "text/plain": [
       "MPG      37.1\n",
       "TEAM      HOU\n",
       "POS        PG\n",
       "TS%     0.622\n",
       "AST      20.8\n",
       "        ...  \n",
       "REBR      9.3\n",
       "PER     29.21\n",
       "ORPM     7.76\n",
       "DRPM    -0.06\n",
       "RPM       7.7\n",
       "Name: James Harden, Length: 14, dtype: object"
      ]
     },
     "execution_count": 15,
     "metadata": {},
     "output_type": "execute_result"
    }
   ],
   "source": [
    "df.iloc[0]"
   ]
  },
  {
   "cell_type": "markdown",
   "metadata": {},
   "source": [
    "A list of positional indexes also works:"
   ]
  },
  {
   "cell_type": "code",
   "execution_count": 16,
   "metadata": {},
   "outputs": [
    {
     "data": {
      "text/html": [
       "<div>\n",
       "<style scoped>\n",
       "    .dataframe tbody tr th:only-of-type {\n",
       "        vertical-align: middle;\n",
       "    }\n",
       "\n",
       "    .dataframe tbody tr th {\n",
       "        vertical-align: top;\n",
       "    }\n",
       "\n",
       "    .dataframe thead th {\n",
       "        text-align: right;\n",
       "    }\n",
       "</style>\n",
       "<table border=\"1\" class=\"dataframe\">\n",
       "  <thead>\n",
       "    <tr style=\"text-align: right;\">\n",
       "      <th></th>\n",
       "      <th>MPG</th>\n",
       "      <th>TEAM</th>\n",
       "      <th>POS</th>\n",
       "      <th>TS%</th>\n",
       "      <th>AST</th>\n",
       "      <th>TO</th>\n",
       "      <th>USG</th>\n",
       "      <th>ORR</th>\n",
       "      <th>DRR</th>\n",
       "      <th>REBR</th>\n",
       "      <th>PER</th>\n",
       "      <th>ORPM</th>\n",
       "      <th>DRPM</th>\n",
       "      <th>RPM</th>\n",
       "    </tr>\n",
       "    <tr>\n",
       "      <th>PLAYER</th>\n",
       "      <th></th>\n",
       "      <th></th>\n",
       "      <th></th>\n",
       "      <th></th>\n",
       "      <th></th>\n",
       "      <th></th>\n",
       "      <th></th>\n",
       "      <th></th>\n",
       "      <th></th>\n",
       "      <th></th>\n",
       "      <th></th>\n",
       "      <th></th>\n",
       "      <th></th>\n",
       "      <th></th>\n",
       "    </tr>\n",
       "  </thead>\n",
       "  <tbody>\n",
       "    <tr>\n",
       "      <th>James Harden</th>\n",
       "      <td>37.1</td>\n",
       "      <td>HOU</td>\n",
       "      <td>PG</td>\n",
       "      <td>0.622</td>\n",
       "      <td>20.8</td>\n",
       "      <td>13.5</td>\n",
       "      <td>40.0</td>\n",
       "      <td>2.1</td>\n",
       "      <td>17.0</td>\n",
       "      <td>9.3</td>\n",
       "      <td>29.21</td>\n",
       "      <td>7.76</td>\n",
       "      <td>-0.06</td>\n",
       "      <td>7.70</td>\n",
       "    </tr>\n",
       "    <tr>\n",
       "      <th>Anthony Davis</th>\n",
       "      <td>36.9</td>\n",
       "      <td>NO</td>\n",
       "      <td>PF</td>\n",
       "      <td>0.598</td>\n",
       "      <td>14.3</td>\n",
       "      <td>6.7</td>\n",
       "      <td>29.3</td>\n",
       "      <td>10.0</td>\n",
       "      <td>27.7</td>\n",
       "      <td>19.1</td>\n",
       "      <td>31.09</td>\n",
       "      <td>3.93</td>\n",
       "      <td>3.24</td>\n",
       "      <td>7.17</td>\n",
       "    </tr>\n",
       "    <tr>\n",
       "      <th>Kyrie Irving</th>\n",
       "      <td>32.1</td>\n",
       "      <td>BOS</td>\n",
       "      <td>PG</td>\n",
       "      <td>0.592</td>\n",
       "      <td>22.9</td>\n",
       "      <td>8.9</td>\n",
       "      <td>29.9</td>\n",
       "      <td>3.8</td>\n",
       "      <td>12.2</td>\n",
       "      <td>8.0</td>\n",
       "      <td>24.55</td>\n",
       "      <td>4.60</td>\n",
       "      <td>0.92</td>\n",
       "      <td>5.52</td>\n",
       "    </tr>\n",
       "  </tbody>\n",
       "</table>\n",
       "</div>"
      ],
      "text/plain": [
       "                MPG TEAM POS    TS%   AST    TO   USG   ORR   DRR  REBR  \\\n",
       "PLAYER                                                                    \n",
       "James Harden   37.1  HOU  PG  0.622  20.8  13.5  40.0   2.1  17.0   9.3   \n",
       "Anthony Davis  36.9   NO  PF  0.598  14.3   6.7  29.3  10.0  27.7  19.1   \n",
       "Kyrie Irving   32.1  BOS  PG  0.592  22.9   8.9  29.9   3.8  12.2   8.0   \n",
       "\n",
       "                 PER  ORPM  DRPM   RPM  \n",
       "PLAYER                                  \n",
       "James Harden   29.21  7.76 -0.06  7.70  \n",
       "Anthony Davis  31.09  3.93  3.24  7.17  \n",
       "Kyrie Irving   24.55  4.60  0.92  5.52  "
      ]
     },
     "execution_count": 16,
     "metadata": {},
     "output_type": "execute_result"
    }
   ],
   "source": [
    "df.iloc[[0, 1, 4]]"
   ]
  },
  {
   "cell_type": "markdown",
   "metadata": {},
   "source": [
    "Or a slice of indexes:"
   ]
  },
  {
   "cell_type": "code",
   "execution_count": 17,
   "metadata": {},
   "outputs": [
    {
     "data": {
      "text/html": [
       "<div>\n",
       "<style scoped>\n",
       "    .dataframe tbody tr th:only-of-type {\n",
       "        vertical-align: middle;\n",
       "    }\n",
       "\n",
       "    .dataframe tbody tr th {\n",
       "        vertical-align: top;\n",
       "    }\n",
       "\n",
       "    .dataframe thead th {\n",
       "        text-align: right;\n",
       "    }\n",
       "</style>\n",
       "<table border=\"1\" class=\"dataframe\">\n",
       "  <thead>\n",
       "    <tr style=\"text-align: right;\">\n",
       "      <th></th>\n",
       "      <th>MPG</th>\n",
       "      <th>TEAM</th>\n",
       "      <th>POS</th>\n",
       "      <th>TS%</th>\n",
       "      <th>AST</th>\n",
       "      <th>TO</th>\n",
       "      <th>USG</th>\n",
       "      <th>ORR</th>\n",
       "      <th>DRR</th>\n",
       "      <th>REBR</th>\n",
       "      <th>PER</th>\n",
       "      <th>ORPM</th>\n",
       "      <th>DRPM</th>\n",
       "      <th>RPM</th>\n",
       "    </tr>\n",
       "    <tr>\n",
       "      <th>PLAYER</th>\n",
       "      <th></th>\n",
       "      <th></th>\n",
       "      <th></th>\n",
       "      <th></th>\n",
       "      <th></th>\n",
       "      <th></th>\n",
       "      <th></th>\n",
       "      <th></th>\n",
       "      <th></th>\n",
       "      <th></th>\n",
       "      <th></th>\n",
       "      <th></th>\n",
       "      <th></th>\n",
       "      <th></th>\n",
       "    </tr>\n",
       "  </thead>\n",
       "  <tbody>\n",
       "    <tr>\n",
       "      <th>James Harden</th>\n",
       "      <td>37.1</td>\n",
       "      <td>HOU</td>\n",
       "      <td>PG</td>\n",
       "      <td>0.622</td>\n",
       "      <td>20.8</td>\n",
       "      <td>13.5</td>\n",
       "      <td>40.0</td>\n",
       "      <td>2.1</td>\n",
       "      <td>17.0</td>\n",
       "      <td>9.3</td>\n",
       "      <td>29.21</td>\n",
       "      <td>7.76</td>\n",
       "      <td>-0.06</td>\n",
       "      <td>7.70</td>\n",
       "    </tr>\n",
       "    <tr>\n",
       "      <th>Anthony Davis</th>\n",
       "      <td>36.9</td>\n",
       "      <td>NO</td>\n",
       "      <td>PF</td>\n",
       "      <td>0.598</td>\n",
       "      <td>14.3</td>\n",
       "      <td>6.7</td>\n",
       "      <td>29.3</td>\n",
       "      <td>10.0</td>\n",
       "      <td>27.7</td>\n",
       "      <td>19.1</td>\n",
       "      <td>31.09</td>\n",
       "      <td>3.93</td>\n",
       "      <td>3.24</td>\n",
       "      <td>7.17</td>\n",
       "    </tr>\n",
       "    <tr>\n",
       "      <th>Paul George</th>\n",
       "      <td>35.7</td>\n",
       "      <td>OKC</td>\n",
       "      <td>SF</td>\n",
       "      <td>0.574</td>\n",
       "      <td>13.0</td>\n",
       "      <td>9.0</td>\n",
       "      <td>29.6</td>\n",
       "      <td>4.3</td>\n",
       "      <td>19.3</td>\n",
       "      <td>11.7</td>\n",
       "      <td>23.29</td>\n",
       "      <td>3.82</td>\n",
       "      <td>2.85</td>\n",
       "      <td>6.67</td>\n",
       "    </tr>\n",
       "    <tr>\n",
       "      <th>Nikola Jokic</th>\n",
       "      <td>31.3</td>\n",
       "      <td>DEN</td>\n",
       "      <td>C</td>\n",
       "      <td>0.587</td>\n",
       "      <td>27.6</td>\n",
       "      <td>12.0</td>\n",
       "      <td>29.1</td>\n",
       "      <td>9.7</td>\n",
       "      <td>25.6</td>\n",
       "      <td>17.6</td>\n",
       "      <td>26.09</td>\n",
       "      <td>4.46</td>\n",
       "      <td>1.83</td>\n",
       "      <td>6.29</td>\n",
       "    </tr>\n",
       "    <tr>\n",
       "      <th>Kyrie Irving</th>\n",
       "      <td>32.1</td>\n",
       "      <td>BOS</td>\n",
       "      <td>PG</td>\n",
       "      <td>0.592</td>\n",
       "      <td>22.9</td>\n",
       "      <td>8.9</td>\n",
       "      <td>29.9</td>\n",
       "      <td>3.8</td>\n",
       "      <td>12.2</td>\n",
       "      <td>8.0</td>\n",
       "      <td>24.55</td>\n",
       "      <td>4.60</td>\n",
       "      <td>0.92</td>\n",
       "      <td>5.52</td>\n",
       "    </tr>\n",
       "  </tbody>\n",
       "</table>\n",
       "</div>"
      ],
      "text/plain": [
       "                MPG TEAM POS    TS%   AST    TO   USG   ORR   DRR  REBR  \\\n",
       "PLAYER                                                                    \n",
       "James Harden   37.1  HOU  PG  0.622  20.8  13.5  40.0   2.1  17.0   9.3   \n",
       "Anthony Davis  36.9   NO  PF  0.598  14.3   6.7  29.3  10.0  27.7  19.1   \n",
       "Paul George    35.7  OKC  SF  0.574  13.0   9.0  29.6   4.3  19.3  11.7   \n",
       "Nikola Jokic   31.3  DEN   C  0.587  27.6  12.0  29.1   9.7  25.6  17.6   \n",
       "Kyrie Irving   32.1  BOS  PG  0.592  22.9   8.9  29.9   3.8  12.2   8.0   \n",
       "\n",
       "                 PER  ORPM  DRPM   RPM  \n",
       "PLAYER                                  \n",
       "James Harden   29.21  7.76 -0.06  7.70  \n",
       "Anthony Davis  31.09  3.93  3.24  7.17  \n",
       "Paul George    23.29  3.82  2.85  6.67  \n",
       "Nikola Jokic   26.09  4.46  1.83  6.29  \n",
       "Kyrie Irving   24.55  4.60  0.92  5.52  "
      ]
     },
     "execution_count": 17,
     "metadata": {},
     "output_type": "execute_result"
    }
   ],
   "source": [
    "df.iloc[0:5]"
   ]
  },
  {
   "cell_type": "markdown",
   "metadata": {},
   "source": [
    "Just like `.loc`, `.iloc` also accepts a second parameter, for selecting columns by their positions. Not suprisingly, this can be a single position, a list of positions, or a slice of positions:"
   ]
  },
  {
   "cell_type": "code",
   "execution_count": 18,
   "metadata": {},
   "outputs": [
    {
     "data": {
      "text/plain": [
       "37.1"
      ]
     },
     "execution_count": 18,
     "metadata": {},
     "output_type": "execute_result"
    }
   ],
   "source": [
    "df.iloc[0, 0]"
   ]
  },
  {
   "cell_type": "code",
   "execution_count": 19,
   "metadata": {},
   "outputs": [
    {
     "data": {
      "text/html": [
       "<div>\n",
       "<style scoped>\n",
       "    .dataframe tbody tr th:only-of-type {\n",
       "        vertical-align: middle;\n",
       "    }\n",
       "\n",
       "    .dataframe tbody tr th {\n",
       "        vertical-align: top;\n",
       "    }\n",
       "\n",
       "    .dataframe thead th {\n",
       "        text-align: right;\n",
       "    }\n",
       "</style>\n",
       "<table border=\"1\" class=\"dataframe\">\n",
       "  <thead>\n",
       "    <tr style=\"text-align: right;\">\n",
       "      <th></th>\n",
       "      <th>MPG</th>\n",
       "      <th>TEAM</th>\n",
       "      <th>POS</th>\n",
       "      <th>TS%</th>\n",
       "    </tr>\n",
       "    <tr>\n",
       "      <th>PLAYER</th>\n",
       "      <th></th>\n",
       "      <th></th>\n",
       "      <th></th>\n",
       "      <th></th>\n",
       "    </tr>\n",
       "  </thead>\n",
       "  <tbody>\n",
       "    <tr>\n",
       "      <th>James Harden</th>\n",
       "      <td>37.1</td>\n",
       "      <td>HOU</td>\n",
       "      <td>PG</td>\n",
       "      <td>0.622</td>\n",
       "    </tr>\n",
       "    <tr>\n",
       "      <th>Anthony Davis</th>\n",
       "      <td>36.9</td>\n",
       "      <td>NO</td>\n",
       "      <td>PF</td>\n",
       "      <td>0.598</td>\n",
       "    </tr>\n",
       "    <tr>\n",
       "      <th>Paul George</th>\n",
       "      <td>35.7</td>\n",
       "      <td>OKC</td>\n",
       "      <td>SF</td>\n",
       "      <td>0.574</td>\n",
       "    </tr>\n",
       "  </tbody>\n",
       "</table>\n",
       "</div>"
      ],
      "text/plain": [
       "                MPG TEAM POS    TS%\n",
       "PLAYER                             \n",
       "James Harden   37.1  HOU  PG  0.622\n",
       "Anthony Davis  36.9   NO  PF  0.598\n",
       "Paul George    35.7  OKC  SF  0.574"
      ]
     },
     "execution_count": 19,
     "metadata": {},
     "output_type": "execute_result"
    }
   ],
   "source": [
    "df.iloc[[0, 1, 2], [0, 1, 2, 3]]"
   ]
  },
  {
   "cell_type": "code",
   "execution_count": 20,
   "metadata": {},
   "outputs": [
    {
     "data": {
      "text/html": [
       "<div>\n",
       "<style scoped>\n",
       "    .dataframe tbody tr th:only-of-type {\n",
       "        vertical-align: middle;\n",
       "    }\n",
       "\n",
       "    .dataframe tbody tr th {\n",
       "        vertical-align: top;\n",
       "    }\n",
       "\n",
       "    .dataframe thead th {\n",
       "        text-align: right;\n",
       "    }\n",
       "</style>\n",
       "<table border=\"1\" class=\"dataframe\">\n",
       "  <thead>\n",
       "    <tr style=\"text-align: right;\">\n",
       "      <th></th>\n",
       "      <th>TO</th>\n",
       "      <th>USG</th>\n",
       "      <th>ORR</th>\n",
       "      <th>DRR</th>\n",
       "      <th>REBR</th>\n",
       "      <th>PER</th>\n",
       "      <th>ORPM</th>\n",
       "      <th>DRPM</th>\n",
       "    </tr>\n",
       "    <tr>\n",
       "      <th>PLAYER</th>\n",
       "      <th></th>\n",
       "      <th></th>\n",
       "      <th></th>\n",
       "      <th></th>\n",
       "      <th></th>\n",
       "      <th></th>\n",
       "      <th></th>\n",
       "      <th></th>\n",
       "    </tr>\n",
       "  </thead>\n",
       "  <tbody>\n",
       "    <tr>\n",
       "      <th>Nikola Jokic</th>\n",
       "      <td>12.0</td>\n",
       "      <td>29.1</td>\n",
       "      <td>9.7</td>\n",
       "      <td>25.6</td>\n",
       "      <td>17.6</td>\n",
       "      <td>26.09</td>\n",
       "      <td>4.46</td>\n",
       "      <td>1.83</td>\n",
       "    </tr>\n",
       "    <tr>\n",
       "      <th>Kyrie Irving</th>\n",
       "      <td>8.9</td>\n",
       "      <td>29.9</td>\n",
       "      <td>3.8</td>\n",
       "      <td>12.2</td>\n",
       "      <td>8.0</td>\n",
       "      <td>24.55</td>\n",
       "      <td>4.60</td>\n",
       "      <td>0.92</td>\n",
       "    </tr>\n",
       "    <tr>\n",
       "      <th>Stephen Curry</th>\n",
       "      <td>10.2</td>\n",
       "      <td>31.1</td>\n",
       "      <td>2.2</td>\n",
       "      <td>13.6</td>\n",
       "      <td>8.1</td>\n",
       "      <td>25.96</td>\n",
       "      <td>5.15</td>\n",
       "      <td>0.12</td>\n",
       "    </tr>\n",
       "    <tr>\n",
       "      <th>Nikola Vucevic</th>\n",
       "      <td>8.9</td>\n",
       "      <td>27.3</td>\n",
       "      <td>8.7</td>\n",
       "      <td>33.8</td>\n",
       "      <td>21.0</td>\n",
       "      <td>25.90</td>\n",
       "      <td>1.94</td>\n",
       "      <td>3.22</td>\n",
       "    </tr>\n",
       "  </tbody>\n",
       "</table>\n",
       "</div>"
      ],
      "text/plain": [
       "                  TO   USG  ORR   DRR  REBR    PER  ORPM  DRPM\n",
       "PLAYER                                                        \n",
       "Nikola Jokic    12.0  29.1  9.7  25.6  17.6  26.09  4.46  1.83\n",
       "Kyrie Irving     8.9  29.9  3.8  12.2   8.0  24.55  4.60  0.92\n",
       "Stephen Curry   10.2  31.1  2.2  13.6   8.1  25.96  5.15  0.12\n",
       "Nikola Vucevic   8.9  27.3  8.7  33.8  21.0  25.90  1.94  3.22"
      ]
     },
     "execution_count": 20,
     "metadata": {},
     "output_type": "execute_result"
    }
   ],
   "source": [
    "df.iloc[3:7, 5:13]"
   ]
  },
  {
   "cell_type": "markdown",
   "metadata": {},
   "source": [
    "I know what you're thinking - what is Nikola Vucevic doing on this list? "
   ]
  },
  {
   "cell_type": "markdown",
   "metadata": {},
   "source": [
    "### Conclusion\n"
   ]
  },
  {
   "cell_type": "markdown",
   "metadata": {},
   "source": [
    "Let's now apply what we have learned about selecting data to take a closer look at our advanced player metrics. We can begin by taking a look at RPM and PER statistics for some the three best and three worst teamas in the league."
   ]
  },
  {
   "cell_type": "markdown",
   "metadata": {},
   "source": [
    "To do so, we will take the `df_with_team_index` dataframe we created above, and use the `.loc` selector to select data for our teams of interest. This data can then be passed into a plotting function to visualize how PER and RPM vary across good and bad teams. (The details of how the plot is generated are hidden away in a function, and will be covered in depth in a later tutorial).\n",
    "\n",
    "Players on each team with a RPM or PER greater than the league average are colored in the darker color (remember that the league-wide average for PER is 15)."
   ]
  },
  {
   "cell_type": "code",
   "execution_count": 25,
   "metadata": {},
   "outputs": [],
   "source": [
    "import matplotlib.pyplot as plt\n",
    "%matplotlib inline\n",
    "\n",
    "from plotting import plot_team"
   ]
  },
  {
   "cell_type": "code",
   "execution_count": 21,
   "metadata": {},
   "outputs": [
    {
     "data": {
      "image/png": "[encoded data removed]",
      "text/plain": [
       "<Figure size 1152x288 with 2 Axes>"
      ]
     },
     "metadata": {
      "needs_background": "light"
     },
     "output_type": "display_data"
    },
    {
     "data": {
      "image/png": "[encoded data removed]",
      "text/plain": [
       "<Figure size 1152x288 with 2 Axes>"
      ]
     },
     "metadata": {
      "needs_background": "light"
     },
     "output_type": "display_data"
    },
    {
     "data": {
      "image/png": "[encoded data removed]",
      "text/plain": [
       "<Figure size 1152x288 with 2 Axes>"
      ]
     },
     "metadata": {
      "needs_background": "light"
     },
     "output_type": "display_data"
    },
    {
     "data": {
      "image/png": "[encoded data removed]",
      "text/plain": [
       "<Figure size 1152x288 with 2 Axes>"
      ]
     },
     "metadata": {
      "needs_background": "light"
     },
     "output_type": "display_data"
    }
   ],
   "source": [
    "bad_teams = ['CLE', 'PHX', 'CHI', 'NY']\n",
    "for team in bad_teams:\n",
    "    team_data = df_with_team_index.loc[team]\n",
    "    plot_team(team_data)"
   ]
  },
  {
   "cell_type": "markdown",
   "metadata": {},
   "source": [
    "Even the worst teams in the NBA have three or four players who are more \"productive/efficient\" than league average in terms of PER. At the same time, most players are below 0 in RPM, while some shockingly bad (hello Jamal Crawford, Collin Sexton). Constrast that to the RPM distribution for good teams, where a majority of the players are positive:"
   ]
  },
  {
   "cell_type": "code",
   "execution_count": 22,
   "metadata": {
    "scrolled": false
   },
   "outputs": [
    {
     "data": {
      "image/png": "[encoded data removed]",
      "text/plain": [
       "<Figure size 1152x288 with 2 Axes>"
      ]
     },
     "metadata": {
      "needs_background": "light"
     },
     "output_type": "display_data"
    },
    {
     "data": {
      "image/png": "[encoded data removed]",
      "text/plain": [
       "<Figure size 1152x288 with 2 Axes>"
      ]
     },
     "metadata": {
      "needs_background": "light"
     },
     "output_type": "display_data"
    },
    {
     "data": {
      "image/png": "[encoded data removed]",
      "text/plain": [
       "<Figure size 1152x288 with 2 Axes>"
      ]
     },
     "metadata": {
      "needs_background": "light"
     },
     "output_type": "display_data"
    },
    {
     "data": {
      "image/png": "[encoded data removed]",
      "text/plain": [
       "<Figure size 1152x288 with 2 Axes>"
      ]
     },
     "metadata": {
      "needs_background": "light"
     },
     "output_type": "display_data"
    }
   ],
   "source": [
    "good_teams = ['GS', 'MIL', 'TOR', 'DEN']\n",
    "for team in good_teams:\n",
    "    team_data = df_with_team_index.loc[team]\n",
    "    plot_team(team_data)"
   ]
  },
  {
   "cell_type": "markdown",
   "metadata": {},
   "source": [
    "This should come as no suprise, as RPM is rooted in team point-differential, and bad teams are usually trailing. What's more interesting to me is that there is no noticeable difference in the ratio of players above or below league average in PER amongst good and bad teams. Take the Knicks as an example, who have 6 players above league average in PER, while the Bucks have 4.\n",
    "\n",
    "This observation is illustrative of one of the shortcomings of PER as a metric. PER is based solely on box score statistics, numbers that players will put up regardless if their team wins or loses - Devin Booker scoring 70 points in a losing cause being an extreme example. It's as \n",
    "\n",
    "On the flip side, there are aspects of winning basketball that box scores fail to measure, most notably on the defensive side of the ball, and PER undervalues players who excel at those aspects of the game. Danny Green, Draymond Green, and Marcus Smart are prominent examples of players who are below league average in PER, yet rank high in RPM, in large part due to their defensive contributions:"
   ]
  },
  {
   "cell_type": "code",
   "execution_count": 26,
   "metadata": {},
   "outputs": [
    {
     "data": {
      "text/html": [
       "<div>\n",
       "<style scoped>\n",
       "    .dataframe tbody tr th:only-of-type {\n",
       "        vertical-align: middle;\n",
       "    }\n",
       "\n",
       "    .dataframe tbody tr th {\n",
       "        vertical-align: top;\n",
       "    }\n",
       "\n",
       "    .dataframe thead th {\n",
       "        text-align: right;\n",
       "    }\n",
       "</style>\n",
       "<table border=\"1\" class=\"dataframe\">\n",
       "  <thead>\n",
       "    <tr style=\"text-align: right;\">\n",
       "      <th></th>\n",
       "      <th>PER</th>\n",
       "      <th>RPM</th>\n",
       "      <th>DRPM</th>\n",
       "      <th>ORPM</th>\n",
       "    </tr>\n",
       "    <tr>\n",
       "      <th>PLAYER</th>\n",
       "      <th></th>\n",
       "      <th></th>\n",
       "      <th></th>\n",
       "      <th></th>\n",
       "    </tr>\n",
       "  </thead>\n",
       "  <tbody>\n",
       "    <tr>\n",
       "      <th>Danny Green</th>\n",
       "      <td>10.94</td>\n",
       "      <td>3.11</td>\n",
       "      <td>2.13</td>\n",
       "      <td>0.98</td>\n",
       "    </tr>\n",
       "    <tr>\n",
       "      <th>Draymond Green</th>\n",
       "      <td>12.22</td>\n",
       "      <td>1.88</td>\n",
       "      <td>3.84</td>\n",
       "      <td>-1.96</td>\n",
       "    </tr>\n",
       "    <tr>\n",
       "      <th>Marcus Smart</th>\n",
       "      <td>12.90</td>\n",
       "      <td>3.52</td>\n",
       "      <td>2.42</td>\n",
       "      <td>1.10</td>\n",
       "    </tr>\n",
       "  </tbody>\n",
       "</table>\n",
       "</div>"
      ],
      "text/plain": [
       "                  PER   RPM  DRPM  ORPM\n",
       "PLAYER                                 \n",
       "Danny Green     10.94  3.11  2.13  0.98\n",
       "Draymond Green  12.22  1.88  3.84 -1.96\n",
       "Marcus Smart    12.90  3.52  2.42  1.10"
      ]
     },
     "execution_count": 26,
     "metadata": {},
     "output_type": "execute_result"
    }
   ],
   "source": [
    "df.loc[['Danny Green', 'Draymond Green', 'Marcus Smart'], ['PER', 'RPM', 'DRPM', 'ORPM']]"
   ]
  },
  {
   "cell_type": "markdown",
   "metadata": {},
   "source": [
    "On the other hand, a player might be undervalued by RPM simply because his team is bad. From our charts above, we can see that all bad teams have at least one player who is positive in RPM - what does that tell us about those players? Are these \"good\" players whose contributions are being wasted by lack of surrounding talent? Or are these numbers flukes, more attributable to quirks in how RPM is calculated? \n",
    "\n",
    "Unfortunately, I don't have an answer - finding answers to these questions are difficult, but they are a large part of why the NBA is so intriguing to basketball nerds like us."
   ]
  }
 ],
 "metadata": {
  "kernelspec": {
   "display_name": "Python 3",
   "language": "python",
   "name": "python3"
  },
  "language_info": {
   "codemirror_mode": {
    "name": "ipython",
    "version": 3
   },
   "file_extension": ".py",
   "mimetype": "text/x-python",
   "name": "python",
   "nbconvert_exporter": "python",
   "pygments_lexer": "ipython3",
   "version": "3.6.5"
  }
 },
 "nbformat": 4,
 "nbformat_minor": 2
}
