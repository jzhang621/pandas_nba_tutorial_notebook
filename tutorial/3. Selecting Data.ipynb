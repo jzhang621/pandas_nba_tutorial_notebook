{
 "cells": [
  {
   "cell_type": "markdown",
   "metadata": {},
   "source": [
    "## Pandas for the NBA Lover\n",
    "## Selecting Data: Box Score Stats Versus Winning Games"
   ]
  },
  {
   "cell_type": "markdown",
   "metadata": {},
   "source": [
    "Now that we are familiar with the basic components of a DataFrame, let's take a look at how we can select or query the data inside a Dataframe. While doing so, we will take a closer look at two advanced player rating metrics, Player Efficiency Rating (PER) and Real Plus-Minus (RPM). At the end, we will use our knowledge about selecting data to gain a better understanding of what each metric is measuring, as well as their respective strengths and shortcomings.\n",
    "\n",
    "Let's get started!"
   ]
  },
  {
   "cell_type": "markdown",
   "metadata": {},
   "source": [
    "---"
   ]
  },
  {
   "cell_type": "markdown",
   "metadata": {},
   "source": [
    "##### TODO: introduce RPM and PER here? this introduction should be about the stats (i.e. how PER is box-score based, and RPM is based on on-court performance)"
   ]
  },
  {
   "cell_type": "markdown",
   "metadata": {},
   "source": [
    "Our data is located in a file named `advanced_metrics.csv`. Let's tell pandas to load this file into a DataFrame, using the first column as the Index. "
   ]
  },
  {
   "cell_type": "code",
   "execution_count": 1,
   "metadata": {},
   "outputs": [],
   "source": [
    "import pandas as pd\n",
    "\n",
    "# formatting options: \n",
    "pd.set_option('display.max_rows', 10)"
   ]
  },
  {
   "cell_type": "code",
   "execution_count": 17,
   "metadata": {},
   "outputs": [
    {
     "data": {
      "text/html": [
       "<div>\n",
       "<style scoped>\n",
       "    .dataframe tbody tr th:only-of-type {\n",
       "        vertical-align: middle;\n",
       "    }\n",
       "\n",
       "    .dataframe tbody tr th {\n",
       "        vertical-align: top;\n",
       "    }\n",
       "\n",
       "    .dataframe thead th {\n",
       "        text-align: right;\n",
       "    }\n",
       "</style>\n",
       "<table border=\"1\" class=\"dataframe\">\n",
       "  <thead>\n",
       "    <tr style=\"text-align: right;\">\n",
       "      <th></th>\n",
       "      <th>MPG</th>\n",
       "      <th>TEAM</th>\n",
       "      <th>TS%</th>\n",
       "      <th>AST</th>\n",
       "      <th>TO</th>\n",
       "      <th>USG</th>\n",
       "      <th>ORR</th>\n",
       "      <th>DRR</th>\n",
       "      <th>REBR</th>\n",
       "      <th>PER</th>\n",
       "      <th>ORPM</th>\n",
       "      <th>DRPM</th>\n",
       "      <th>RPM</th>\n",
       "    </tr>\n",
       "    <tr>\n",
       "      <th>PLAYER</th>\n",
       "      <th></th>\n",
       "      <th></th>\n",
       "      <th></th>\n",
       "      <th></th>\n",
       "      <th></th>\n",
       "      <th></th>\n",
       "      <th></th>\n",
       "      <th></th>\n",
       "      <th></th>\n",
       "      <th></th>\n",
       "      <th></th>\n",
       "      <th></th>\n",
       "      <th></th>\n",
       "    </tr>\n",
       "  </thead>\n",
       "  <tbody>\n",
       "    <tr>\n",
       "      <th>James Harden</th>\n",
       "      <td>37.1</td>\n",
       "      <td>HOU</td>\n",
       "      <td>0.622</td>\n",
       "      <td>20.8</td>\n",
       "      <td>13.5</td>\n",
       "      <td>40.0</td>\n",
       "      <td>2.1</td>\n",
       "      <td>17.0</td>\n",
       "      <td>9.3</td>\n",
       "      <td>29.21</td>\n",
       "      <td>7.76</td>\n",
       "      <td>-0.06</td>\n",
       "      <td>7.70</td>\n",
       "    </tr>\n",
       "    <tr>\n",
       "      <th>Anthony Davis</th>\n",
       "      <td>36.9</td>\n",
       "      <td>NO</td>\n",
       "      <td>0.598</td>\n",
       "      <td>14.3</td>\n",
       "      <td>6.7</td>\n",
       "      <td>29.3</td>\n",
       "      <td>10.0</td>\n",
       "      <td>27.7</td>\n",
       "      <td>19.1</td>\n",
       "      <td>31.09</td>\n",
       "      <td>3.93</td>\n",
       "      <td>3.24</td>\n",
       "      <td>7.17</td>\n",
       "    </tr>\n",
       "    <tr>\n",
       "      <th>Paul George</th>\n",
       "      <td>35.7</td>\n",
       "      <td>OKC</td>\n",
       "      <td>0.574</td>\n",
       "      <td>13.0</td>\n",
       "      <td>9.0</td>\n",
       "      <td>29.6</td>\n",
       "      <td>4.3</td>\n",
       "      <td>19.3</td>\n",
       "      <td>11.7</td>\n",
       "      <td>23.29</td>\n",
       "      <td>3.82</td>\n",
       "      <td>2.85</td>\n",
       "      <td>6.67</td>\n",
       "    </tr>\n",
       "    <tr>\n",
       "      <th>Nikola Jokic</th>\n",
       "      <td>31.3</td>\n",
       "      <td>DEN</td>\n",
       "      <td>0.587</td>\n",
       "      <td>27.6</td>\n",
       "      <td>12.0</td>\n",
       "      <td>29.1</td>\n",
       "      <td>9.7</td>\n",
       "      <td>25.6</td>\n",
       "      <td>17.6</td>\n",
       "      <td>26.09</td>\n",
       "      <td>4.46</td>\n",
       "      <td>1.83</td>\n",
       "      <td>6.29</td>\n",
       "    </tr>\n",
       "    <tr>\n",
       "      <th>Kyrie Irving</th>\n",
       "      <td>32.1</td>\n",
       "      <td>BOS</td>\n",
       "      <td>0.592</td>\n",
       "      <td>22.9</td>\n",
       "      <td>8.9</td>\n",
       "      <td>29.9</td>\n",
       "      <td>3.8</td>\n",
       "      <td>12.2</td>\n",
       "      <td>8.0</td>\n",
       "      <td>24.55</td>\n",
       "      <td>4.60</td>\n",
       "      <td>0.92</td>\n",
       "      <td>5.52</td>\n",
       "    </tr>\n",
       "    <tr>\n",
       "      <th>...</th>\n",
       "      <td>...</td>\n",
       "      <td>...</td>\n",
       "      <td>...</td>\n",
       "      <td>...</td>\n",
       "      <td>...</td>\n",
       "      <td>...</td>\n",
       "      <td>...</td>\n",
       "      <td>...</td>\n",
       "      <td>...</td>\n",
       "      <td>...</td>\n",
       "      <td>...</td>\n",
       "      <td>...</td>\n",
       "      <td>...</td>\n",
       "    </tr>\n",
       "    <tr>\n",
       "      <th>Allonzo Trier</th>\n",
       "      <td>22.1</td>\n",
       "      <td>NY</td>\n",
       "      <td>0.543</td>\n",
       "      <td>14.2</td>\n",
       "      <td>13.7</td>\n",
       "      <td>20.8</td>\n",
       "      <td>2.2</td>\n",
       "      <td>11.5</td>\n",
       "      <td>6.6</td>\n",
       "      <td>11.50</td>\n",
       "      <td>-2.34</td>\n",
       "      <td>-2.96</td>\n",
       "      <td>-5.30</td>\n",
       "    </tr>\n",
       "    <tr>\n",
       "      <th>Frank Ntilikina</th>\n",
       "      <td>21.1</td>\n",
       "      <td>NY</td>\n",
       "      <td>0.439</td>\n",
       "      <td>23.4</td>\n",
       "      <td>12.5</td>\n",
       "      <td>17.1</td>\n",
       "      <td>1.1</td>\n",
       "      <td>8.7</td>\n",
       "      <td>4.7</td>\n",
       "      <td>6.14</td>\n",
       "      <td>-3.29</td>\n",
       "      <td>-2.30</td>\n",
       "      <td>-5.59</td>\n",
       "    </tr>\n",
       "    <tr>\n",
       "      <th>Kevin Knox</th>\n",
       "      <td>26.6</td>\n",
       "      <td>NY</td>\n",
       "      <td>0.482</td>\n",
       "      <td>6.2</td>\n",
       "      <td>8.5</td>\n",
       "      <td>21.2</td>\n",
       "      <td>3.1</td>\n",
       "      <td>13.5</td>\n",
       "      <td>8.1</td>\n",
       "      <td>9.58</td>\n",
       "      <td>-2.24</td>\n",
       "      <td>-3.78</td>\n",
       "      <td>-6.02</td>\n",
       "    </tr>\n",
       "    <tr>\n",
       "      <th>Jamal Crawford</th>\n",
       "      <td>17.2</td>\n",
       "      <td>PHX</td>\n",
       "      <td>0.463</td>\n",
       "      <td>27.5</td>\n",
       "      <td>12.9</td>\n",
       "      <td>22.4</td>\n",
       "      <td>1.1</td>\n",
       "      <td>6.9</td>\n",
       "      <td>3.9</td>\n",
       "      <td>8.81</td>\n",
       "      <td>-2.97</td>\n",
       "      <td>-3.17</td>\n",
       "      <td>-6.14</td>\n",
       "    </tr>\n",
       "    <tr>\n",
       "      <th>Collin Sexton</th>\n",
       "      <td>29.6</td>\n",
       "      <td>CLE</td>\n",
       "      <td>0.493</td>\n",
       "      <td>14.2</td>\n",
       "      <td>11.4</td>\n",
       "      <td>25.2</td>\n",
       "      <td>2.3</td>\n",
       "      <td>9.3</td>\n",
       "      <td>5.6</td>\n",
       "      <td>10.42</td>\n",
       "      <td>-2.82</td>\n",
       "      <td>-4.35</td>\n",
       "      <td>-7.17</td>\n",
       "    </tr>\n",
       "  </tbody>\n",
       "</table>\n",
       "<p>343 rows × 13 columns</p>\n",
       "</div>"
      ],
      "text/plain": [
       "                  MPG TEAM    TS%   AST    TO   USG   ORR   DRR  REBR    PER  \\\n",
       "PLAYER                                                                         \n",
       "James Harden     37.1  HOU  0.622  20.8  13.5  40.0   2.1  17.0   9.3  29.21   \n",
       "Anthony Davis    36.9   NO  0.598  14.3   6.7  29.3  10.0  27.7  19.1  31.09   \n",
       "Paul George      35.7  OKC  0.574  13.0   9.0  29.6   4.3  19.3  11.7  23.29   \n",
       "Nikola Jokic     31.3  DEN  0.587  27.6  12.0  29.1   9.7  25.6  17.6  26.09   \n",
       "Kyrie Irving     32.1  BOS  0.592  22.9   8.9  29.9   3.8  12.2   8.0  24.55   \n",
       "...               ...  ...    ...   ...   ...   ...   ...   ...   ...    ...   \n",
       "Allonzo Trier    22.1   NY  0.543  14.2  13.7  20.8   2.2  11.5   6.6  11.50   \n",
       "Frank Ntilikina  21.1   NY  0.439  23.4  12.5  17.1   1.1   8.7   4.7   6.14   \n",
       "Kevin Knox       26.6   NY  0.482   6.2   8.5  21.2   3.1  13.5   8.1   9.58   \n",
       "Jamal Crawford   17.2  PHX  0.463  27.5  12.9  22.4   1.1   6.9   3.9   8.81   \n",
       "Collin Sexton    29.6  CLE  0.493  14.2  11.4  25.2   2.3   9.3   5.6  10.42   \n",
       "\n",
       "                 ORPM  DRPM   RPM  \n",
       "PLAYER                             \n",
       "James Harden     7.76 -0.06  7.70  \n",
       "Anthony Davis    3.93  3.24  7.17  \n",
       "Paul George      3.82  2.85  6.67  \n",
       "Nikola Jokic     4.46  1.83  6.29  \n",
       "Kyrie Irving     4.60  0.92  5.52  \n",
       "...               ...   ...   ...  \n",
       "Allonzo Trier   -2.34 -2.96 -5.30  \n",
       "Frank Ntilikina -3.29 -2.30 -5.59  \n",
       "Kevin Knox      -2.24 -3.78 -6.02  \n",
       "Jamal Crawford  -2.97 -3.17 -6.14  \n",
       "Collin Sexton   -2.82 -4.35 -7.17  \n",
       "\n",
       "[343 rows x 13 columns]"
      ]
     },
     "execution_count": 17,
     "metadata": {},
     "output_type": "execute_result"
    }
   ],
   "source": [
    "df = pd.read_csv('../data/advanced_metrics.csv', index_col=0)\n",
    "df"
   ]
  },
  {
   "cell_type": "markdown",
   "metadata": {},
   "source": [
    "The labels of our index are player names:"
   ]
  },
  {
   "cell_type": "code",
   "execution_count": 3,
   "metadata": {},
   "outputs": [
    {
     "data": {
      "text/plain": [
       "Index(['James Harden', 'Anthony Davis', 'Paul George', 'Nikola Jokic',\n",
       "       'Kyrie Irving', 'Stephen Curry', 'Nikola Vucevic', 'Kyle Lowry',\n",
       "       'LeBron James', 'Giannis Antetokounmpo',\n",
       "       ...\n",
       "       'Mo Bamba', 'Avery Bradley', 'Jonathon Simmons', 'Antonio Blakeney',\n",
       "       'Cedi Osman', 'Allonzo Trier', 'Frank Ntilikina', 'Kevin Knox',\n",
       "       'Jamal Crawford', 'Collin Sexton'],\n",
       "      dtype='object', name='PLAYER', length=343)"
      ]
     },
     "execution_count": 3,
     "metadata": {},
     "output_type": "execute_result"
    }
   ],
   "source": [
    "df.index"
   ]
  },
  {
   "cell_type": "markdown",
   "metadata": {},
   "source": [
    "The data is combined from two ESPN pages, one for [PER](http://insider.espn.com/nba/hollinger/statistics/_/page/1), and another for [RPM](http://www.espn.com/nba/statistics/rpm/_/page/1). Detailed descriptions for each statistic can be found at the bottom of each link."
   ]
  },
  {
   "cell_type": "markdown",
   "metadata": {},
   "source": [
    "### 3.1 Selecting Data"
   ]
  },
  {
   "cell_type": "markdown",
   "metadata": {},
   "source": [
    "#### 3.1.1 Selecting Columns"
   ]
  },
  {
   "cell_type": "markdown",
   "metadata": {},
   "source": [
    "We will begin by looking at selecting data within the columns of a DataFrame. The names of all our columns are stored in the `.columns` attribute of our DataFrame:"
   ]
  },
  {
   "cell_type": "code",
   "execution_count": 18,
   "metadata": {},
   "outputs": [
    {
     "data": {
      "text/plain": [
       "Index(['MPG', 'TEAM', 'TS%', 'AST', 'TO', 'USG', 'ORR', 'DRR', 'REBR', 'PER',\n",
       "       'ORPM', 'DRPM', 'RPM'],\n",
       "      dtype='object')"
      ]
     },
     "execution_count": 18,
     "metadata": {},
     "output_type": "execute_result"
    }
   ],
   "source": [
    "df.columns"
   ]
  },
  {
   "cell_type": "markdown",
   "metadata": {},
   "source": [
    "You'll notice these column names are also stored in an `Index` object. In pandas parlance, this means that each column name is also a label."
   ]
  },
  {
   "cell_type": "markdown",
   "metadata": {},
   "source": [
    "One way to think about a DataFrame is as a dictionary for columns of data - we can use a column label to get the associated data just like we would use a key in a dictionary to get its associated value. Here we select each player's average minutes per game."
   ]
  },
  {
   "cell_type": "code",
   "execution_count": 5,
   "metadata": {
    "scrolled": false
   },
   "outputs": [
    {
     "data": {
      "text/plain": [
       "PLAYER\n",
       "James Harden       37.1\n",
       "Anthony Davis      36.9\n",
       "Paul George        35.7\n",
       "Nikola Jokic       31.3\n",
       "Kyrie Irving       32.1\n",
       "                   ... \n",
       "Allonzo Trier      22.1\n",
       "Frank Ntilikina    21.1\n",
       "Kevin Knox         26.6\n",
       "Jamal Crawford     17.2\n",
       "Collin Sexton      29.6\n",
       "Name: MPG, Length: 343, dtype: float64"
      ]
     },
     "execution_count": 5,
     "metadata": {},
     "output_type": "execute_result"
    }
   ],
   "source": [
    "df['MPG']"
   ]
  },
  {
   "cell_type": "markdown",
   "metadata": {},
   "source": [
    "When the column label is also a valid Python variable name, column data can also be accessed as an attribute on the DataFrame. (If you are a working in an environment such as IPython or a Jupyter Notebook, columns that are accessible as attributes have the added benefit of being elgible for tab completion)."
   ]
  },
  {
   "cell_type": "code",
   "execution_count": 6,
   "metadata": {},
   "outputs": [
    {
     "data": {
      "text/plain": [
       "PLAYER\n",
       "James Harden       37.1\n",
       "Anthony Davis      36.9\n",
       "Paul George        35.7\n",
       "Nikola Jokic       31.3\n",
       "Kyrie Irving       32.1\n",
       "                   ... \n",
       "Allonzo Trier      22.1\n",
       "Frank Ntilikina    21.1\n",
       "Kevin Knox         26.6\n",
       "Jamal Crawford     17.2\n",
       "Collin Sexton      29.6\n",
       "Name: MPG, Length: 343, dtype: float64"
      ]
     },
     "execution_count": 6,
     "metadata": {},
     "output_type": "execute_result"
    }
   ],
   "source": [
    "df.MPG"
   ]
  },
  {
   "cell_type": "markdown",
   "metadata": {},
   "source": [
    "To select multiple columns at once, use a list of column labels as the \"key\":"
   ]
  },
  {
   "cell_type": "code",
   "execution_count": 7,
   "metadata": {
    "scrolled": true
   },
   "outputs": [
    {
     "data": {
      "text/html": [
       "<div>\n",
       "<style scoped>\n",
       "    .dataframe tbody tr th:only-of-type {\n",
       "        vertical-align: middle;\n",
       "    }\n",
       "\n",
       "    .dataframe tbody tr th {\n",
       "        vertical-align: top;\n",
       "    }\n",
       "\n",
       "    .dataframe thead th {\n",
       "        text-align: right;\n",
       "    }\n",
       "</style>\n",
       "<table border=\"1\" class=\"dataframe\">\n",
       "  <thead>\n",
       "    <tr style=\"text-align: right;\">\n",
       "      <th></th>\n",
       "      <th>MPG</th>\n",
       "      <th>TEAM</th>\n",
       "    </tr>\n",
       "    <tr>\n",
       "      <th>PLAYER</th>\n",
       "      <th></th>\n",
       "      <th></th>\n",
       "    </tr>\n",
       "  </thead>\n",
       "  <tbody>\n",
       "    <tr>\n",
       "      <th>James Harden</th>\n",
       "      <td>37.1</td>\n",
       "      <td>HOU</td>\n",
       "    </tr>\n",
       "    <tr>\n",
       "      <th>Anthony Davis</th>\n",
       "      <td>36.9</td>\n",
       "      <td>NO</td>\n",
       "    </tr>\n",
       "    <tr>\n",
       "      <th>Paul George</th>\n",
       "      <td>35.7</td>\n",
       "      <td>OKC</td>\n",
       "    </tr>\n",
       "    <tr>\n",
       "      <th>Nikola Jokic</th>\n",
       "      <td>31.3</td>\n",
       "      <td>DEN</td>\n",
       "    </tr>\n",
       "    <tr>\n",
       "      <th>Kyrie Irving</th>\n",
       "      <td>32.1</td>\n",
       "      <td>BOS</td>\n",
       "    </tr>\n",
       "    <tr>\n",
       "      <th>...</th>\n",
       "      <td>...</td>\n",
       "      <td>...</td>\n",
       "    </tr>\n",
       "    <tr>\n",
       "      <th>Allonzo Trier</th>\n",
       "      <td>22.1</td>\n",
       "      <td>NY</td>\n",
       "    </tr>\n",
       "    <tr>\n",
       "      <th>Frank Ntilikina</th>\n",
       "      <td>21.1</td>\n",
       "      <td>NY</td>\n",
       "    </tr>\n",
       "    <tr>\n",
       "      <th>Kevin Knox</th>\n",
       "      <td>26.6</td>\n",
       "      <td>NY</td>\n",
       "    </tr>\n",
       "    <tr>\n",
       "      <th>Jamal Crawford</th>\n",
       "      <td>17.2</td>\n",
       "      <td>PHX</td>\n",
       "    </tr>\n",
       "    <tr>\n",
       "      <th>Collin Sexton</th>\n",
       "      <td>29.6</td>\n",
       "      <td>CLE</td>\n",
       "    </tr>\n",
       "  </tbody>\n",
       "</table>\n",
       "<p>343 rows × 2 columns</p>\n",
       "</div>"
      ],
      "text/plain": [
       "                  MPG TEAM\n",
       "PLAYER                    \n",
       "James Harden     37.1  HOU\n",
       "Anthony Davis    36.9   NO\n",
       "Paul George      35.7  OKC\n",
       "Nikola Jokic     31.3  DEN\n",
       "Kyrie Irving     32.1  BOS\n",
       "...               ...  ...\n",
       "Allonzo Trier    22.1   NY\n",
       "Frank Ntilikina  21.1   NY\n",
       "Kevin Knox       26.6   NY\n",
       "Jamal Crawford   17.2  PHX\n",
       "Collin Sexton    29.6  CLE\n",
       "\n",
       "[343 rows x 2 columns]"
      ]
     },
     "execution_count": 7,
     "metadata": {},
     "output_type": "execute_result"
    }
   ],
   "source": [
    "df[['MPG', 'TEAM']]"
   ]
  },
  {
   "cell_type": "markdown",
   "metadata": {},
   "source": [
    "Note: The outputs are styled differently because selecting a single column returns a Series, while selecting multiple columns returns another DataFrame. While this distinction is mostly unimportant when it comes to selecting data in a column, it always helps to know what type of object you are working with."
   ]
  },
  {
   "cell_type": "markdown",
   "metadata": {},
   "source": [
    "What can we do with a selected column? We can start by leveraging some pandas functionality to get a feel for how RPM varies across players in the league. The `describe()` method summarizes the distribution:"
   ]
  },
  {
   "cell_type": "code",
   "execution_count": 42,
   "metadata": {
    "scrolled": false
   },
   "outputs": [
    {
     "data": {
      "text/plain": [
       "count    343.000000\n",
       "mean      -0.370466\n",
       "std        2.322694\n",
       "min       -7.170000\n",
       "25%       -1.940000\n",
       "50%       -0.570000\n",
       "75%        1.020000\n",
       "max        7.700000\n",
       "Name: RPM, dtype: float64"
      ]
     },
     "execution_count": 42,
     "metadata": {},
     "output_type": "execute_result"
    }
   ],
   "source": [
    "rpm = df['RPM']\n",
    "rpm.describe()"
   ]
  },
  {
   "cell_type": "markdown",
   "metadata": {},
   "source": [
    "We can also plot the values:"
   ]
  },
  {
   "cell_type": "code",
   "execution_count": 44,
   "metadata": {},
   "outputs": [
    {
     "data": {
      "text/plain": [
       "<matplotlib.axes._subplots.AxesSubplot at 0x11d5c0780>"
      ]
     },
     "execution_count": 44,
     "metadata": {},
     "output_type": "execute_result"
    },
    {
     "data": {
      "image/png": "[encoded data removed]",
      "text/plain": [
       "<Figure size 432x288 with 1 Axes>"
      ]
     },
     "metadata": {
      "needs_background": "light"
     },
     "output_type": "display_data"
    }
   ],
   "source": [
    "%matplotlib inline\n",
    "import matplotlib.pyplot as plt\n",
    "\n",
    "rpm.plot(kind='line')"
   ]
  },
  {
   "cell_type": "markdown",
   "metadata": {},
   "source": [
    "It's interesting to see how RPM varies at the extremes: the best performers are much more valuable than the average player, while the worst performers seem to do as much as harm as the best players add value."
   ]
  },
  {
   "cell_type": "markdown",
   "metadata": {},
   "source": [
    "### 3.1.2 The Label Selector"
   ]
  },
  {
   "cell_type": "markdown",
   "metadata": {},
   "source": [
    "Because this type of exploratory data analysis is so common, pandas makes it very easy to select the data in a column using each column label. But we can also select data using a row label - that is, the values that populate the Index - using the `.loc` method."
   ]
  },
  {
   "cell_type": "markdown",
   "metadata": {},
   "source": [
    "We can use `.loc` to select all statistics related to James Harden:"
   ]
  },
  {
   "cell_type": "code",
   "execution_count": 77,
   "metadata": {},
   "outputs": [
    {
     "data": {
      "text/plain": [
       "MPG      37.1\n",
       "TEAM      HOU\n",
       "TS%     0.622\n",
       "AST      20.8\n",
       "TO       13.5\n",
       "        ...  \n",
       "REBR      9.3\n",
       "PER     29.21\n",
       "ORPM     7.76\n",
       "DRPM    -0.06\n",
       "RPM       7.7\n",
       "Name: James Harden, Length: 13, dtype: object"
      ]
     },
     "execution_count": 77,
     "metadata": {},
     "output_type": "execute_result"
    }
   ],
   "source": [
    "df.loc['James Harden']"
   ]
  },
  {
   "cell_type": "markdown",
   "metadata": {},
   "source": [
    "1) start with labeled dictionary, selecting columns, and groups of columns\n",
    "\n",
    "2) next, move to loc (labeled based selecting). don't forget that these labels can # include both row and column labels (df.loc['MIA', 'Pts Scored']). mention here that the index does not need to be unique. if we were analyzing the data where each row was a player name, then it makes sense to set the index to column name. touch on slicing data frame. (df.loc['MIA:'GSW], and df.loc[:, 'G':'Opp']\n",
    "\n",
    "3) touch on method chaining here? many operations return dataframes as a result, which allows you to method chain.\n",
    "\n",
    "4) next, move to .iloc. show that df.iloc[2, 5] works as well, and df.iloc[:, :5]. (which is a good way to see output in a notebook without columns truncate, the sideways version of head(), if you will) end with df.iloc[:5] which is equivalent to df.head(). df.iloc[:5] == df.head(), which leads us to boolean indexing\n",
    "\n",
    "5) boolean indexing is very commonly used. introduction to vectorized operation (operate on every element of the array. \n"
   ]
  },
  {
   "cell_type": "code",
   "execution_count": 74,
   "metadata": {},
   "outputs": [
    {
     "data": {
      "text/plain": [
       "<matplotlib.axes._subplots.AxesSubplot at 0x11f9eaeb8>"
      ]
     },
     "execution_count": 74,
     "metadata": {},
     "output_type": "execute_result"
    },
    {
     "data": {
      "image/png": "[encoded data removed]",
      "text/plain": [
       "<Figure size 432x288 with 1 Axes>"
      ]
     },
     "metadata": {
      "needs_background": "light"
     },
     "output_type": "display_data"
    }
   ],
   "source": [
    "df[df.TEAM == 'PHX'].PER.sort_values(ascending=True).plot(kind='barh', figsize=(6, 4))"
   ]
  },
  {
   "cell_type": "code",
   "execution_count": 78,
   "metadata": {},
   "outputs": [
    {
     "data": {
      "text/plain": [
       "<matplotlib.axes._subplots.AxesSubplot at 0x11f9c23c8>"
      ]
     },
     "execution_count": 78,
     "metadata": {},
     "output_type": "execute_result"
    },
    {
     "data": {
      "image/png": "[encoded data removed]",
      "text/plain": [
       "<Figure size 432x288 with 1 Axes>"
      ]
     },
     "metadata": {
      "needs_background": "light"
     },
     "output_type": "display_data"
    }
   ],
   "source": [
    "df.plot(kind='scatter', x='PER', y='ORPM')"
   ]
  },
  {
   "cell_type": "code",
   "execution_count": 79,
   "metadata": {},
   "outputs": [
    {
     "data": {
      "text/plain": [
       "<matplotlib.axes._subplots.AxesSubplot at 0x11fbb6240>"
      ]
     },
     "execution_count": 79,
     "metadata": {},
     "output_type": "execute_result"
    },
    {
     "data": {
      "image/png": "[encoded data removed]",
      "text/plain": [
       "<Figure size 432x288 with 1 Axes>"
      ]
     },
     "metadata": {
      "needs_background": "light"
     },
     "output_type": "display_data"
    }
   ],
   "source": [
    "df.plot(kind='scatter', x='PER', y='DRPM')"
   ]
  },
  {
   "cell_type": "code",
   "execution_count": null,
   "metadata": {},
   "outputs": [],
   "source": []
  }
 ],
 "metadata": {
  "kernelspec": {
   "display_name": "Python 3",
   "language": "python",
   "name": "python3"
  },
  "language_info": {
   "codemirror_mode": {
    "name": "ipython",
    "version": 3
   },
   "file_extension": ".py",
   "mimetype": "text/x-python",
   "name": "python",
   "nbconvert_exporter": "python",
   "pygments_lexer": "ipython3",
   "version": "3.6.5"
  }
 },
 "nbformat": 4,
 "nbformat_minor": 2
}
