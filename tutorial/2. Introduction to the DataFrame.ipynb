{
 "cells": [
  {
   "cell_type": "markdown",
   "metadata": {},
   "source": [
    "## Pandas for the NBA Lover\n",
    "## Introduction to the DataFrame"
   ]
  },
  {
   "cell_type": "markdown",
   "metadata": {},
   "source": [
    "Welcome to the tutorial! "
   ]
  },
  {
   "cell_type": "markdown",
   "metadata": {},
   "source": [
    "For our first introduction to pandas, we will be examining how the NBA has changed over the past 20 years. By doing so, we will learn about the **DataFrame**, the core data structure of the pandas library. \n",
    "\n",
    "By the end of this tutorial, you will be familiar with the basics of a DataFrame. You will also be familiar with the two pandas objects that help power the DataFrame, as well as some terms, definitions, and rules that relate to how DataFrame's are used."
   ]
  },
  {
   "cell_type": "markdown",
   "metadata": {},
   "source": [
    "---"
   ]
  },
  {
   "cell_type": "markdown",
   "metadata": {},
   "source": [
    "### 2.1 What is a DataFrame?"
   ]
  },
  {
   "cell_type": "markdown",
   "metadata": {},
   "source": [
    "First things first, let's import the pandas library."
   ]
  },
  {
   "cell_type": "code",
   "execution_count": 1,
   "metadata": {},
   "outputs": [],
   "source": [
    "import pandas as pd"
   ]
  },
  {
   "cell_type": "markdown",
   "metadata": {},
   "source": [
    "A DataFrame is a pandas data structure that makes it easy to work with tabular data.\n",
    "\n",
    "Data can be loaded into a DataFrame in a variety of ways, some of which we will use in later sections.  Let's start  by loading a `.csv` file containing averages statistics from the past 20 NBA regular seasons. The first few rows of this file look like this:"
   ]
  },
  {
   "cell_type": "code",
   "execution_count": 2,
   "metadata": {},
   "outputs": [
    {
     "name": "stdout",
     "output_type": "stream",
     "text": [
      "Season,FG,FGA,3P,3PA,FT,FTA,ORB,DRB,TRB,AST,STL,BLK,TOV,PF,PTS,FG%,3P%,Pace\r\n",
      "2018-19,40.7,88.7,11.0,31.2,17.7,23.2,10.4,34.5,44.8,23.9,7.8,5.1,14.2,21.6,110.2,0.459,0.352,99.7\r\n",
      "2017-18,39.6,86.1,10.5,29.0,16.6,21.7,9.7,33.8,43.5,23.2,7.7,4.8,14.3,19.9,106.3,0.46,0.362,97.3\r\n",
      "2016-17,39.0,85.4,9.7,27.0,17.8,23.1,10.1,33.4,43.5,22.6,7.7,4.7,14.0,19.9,105.6,0.457,0.358,96.4\r\n",
      "2015-16,38.2,84.6,8.5,24.1,17.7,23.4,10.4,33.3,43.8,22.3,7.8,5.0,14.4,20.3,102.7,0.452,0.354,95.8\r\n",
      "2014-15,37.5,83.6,7.8,22.4,17.1,22.8,10.9,32.4,43.3,22.0,7.7,4.8,14.4,20.2,100.0,0.449,0.35,93.9\r\n"
     ]
    }
   ],
   "source": [
    "!cat ../data/season_avg.csv | head -n 6"
   ]
  },
  {
   "cell_type": "markdown",
   "metadata": {},
   "source": [
    "Loading it into a DataFrame is easy:"
   ]
  },
  {
   "cell_type": "code",
   "execution_count": 3,
   "metadata": {},
   "outputs": [
    {
     "data": {
      "text/plain": [
       "pandas.core.frame.DataFrame"
      ]
     },
     "execution_count": 3,
     "metadata": {},
     "output_type": "execute_result"
    }
   ],
   "source": [
    "df = pd.read_csv(\"../data/season_avg.csv\")\n",
    "type(df)"
   ]
  },
  {
   "cell_type": "markdown",
   "metadata": {},
   "source": [
    "#### 2.1.1 Quick Peek into Functionality"
   ]
  },
  {
   "cell_type": "markdown",
   "metadata": {},
   "source": [
    "The `.head()` method prints the DataFrame's first 5 rows:"
   ]
  },
  {
   "cell_type": "code",
   "execution_count": 4,
   "metadata": {},
   "outputs": [
    {
     "data": {
      "text/html": [
       "<div>\n",
       "<style scoped>\n",
       "    .dataframe tbody tr th:only-of-type {\n",
       "        vertical-align: middle;\n",
       "    }\n",
       "\n",
       "    .dataframe tbody tr th {\n",
       "        vertical-align: top;\n",
       "    }\n",
       "\n",
       "    .dataframe thead th {\n",
       "        text-align: right;\n",
       "    }\n",
       "</style>\n",
       "<table border=\"1\" class=\"dataframe\">\n",
       "  <thead>\n",
       "    <tr style=\"text-align: right;\">\n",
       "      <th></th>\n",
       "      <th>Season</th>\n",
       "      <th>FG</th>\n",
       "      <th>FGA</th>\n",
       "      <th>3P</th>\n",
       "      <th>3PA</th>\n",
       "      <th>FT</th>\n",
       "      <th>FTA</th>\n",
       "      <th>ORB</th>\n",
       "      <th>DRB</th>\n",
       "      <th>TRB</th>\n",
       "      <th>AST</th>\n",
       "      <th>STL</th>\n",
       "      <th>BLK</th>\n",
       "      <th>TOV</th>\n",
       "      <th>PF</th>\n",
       "      <th>PTS</th>\n",
       "      <th>FG%</th>\n",
       "      <th>3P%</th>\n",
       "      <th>Pace</th>\n",
       "    </tr>\n",
       "  </thead>\n",
       "  <tbody>\n",
       "    <tr>\n",
       "      <th>0</th>\n",
       "      <td>2018-19</td>\n",
       "      <td>40.7</td>\n",
       "      <td>88.7</td>\n",
       "      <td>11.0</td>\n",
       "      <td>31.2</td>\n",
       "      <td>17.7</td>\n",
       "      <td>23.2</td>\n",
       "      <td>10.4</td>\n",
       "      <td>34.5</td>\n",
       "      <td>44.8</td>\n",
       "      <td>23.9</td>\n",
       "      <td>7.8</td>\n",
       "      <td>5.1</td>\n",
       "      <td>14.2</td>\n",
       "      <td>21.6</td>\n",
       "      <td>110.2</td>\n",
       "      <td>0.459</td>\n",
       "      <td>0.352</td>\n",
       "      <td>99.7</td>\n",
       "    </tr>\n",
       "    <tr>\n",
       "      <th>1</th>\n",
       "      <td>2017-18</td>\n",
       "      <td>39.6</td>\n",
       "      <td>86.1</td>\n",
       "      <td>10.5</td>\n",
       "      <td>29.0</td>\n",
       "      <td>16.6</td>\n",
       "      <td>21.7</td>\n",
       "      <td>9.7</td>\n",
       "      <td>33.8</td>\n",
       "      <td>43.5</td>\n",
       "      <td>23.2</td>\n",
       "      <td>7.7</td>\n",
       "      <td>4.8</td>\n",
       "      <td>14.3</td>\n",
       "      <td>19.9</td>\n",
       "      <td>106.3</td>\n",
       "      <td>0.460</td>\n",
       "      <td>0.362</td>\n",
       "      <td>97.3</td>\n",
       "    </tr>\n",
       "    <tr>\n",
       "      <th>2</th>\n",
       "      <td>2016-17</td>\n",
       "      <td>39.0</td>\n",
       "      <td>85.4</td>\n",
       "      <td>9.7</td>\n",
       "      <td>27.0</td>\n",
       "      <td>17.8</td>\n",
       "      <td>23.1</td>\n",
       "      <td>10.1</td>\n",
       "      <td>33.4</td>\n",
       "      <td>43.5</td>\n",
       "      <td>22.6</td>\n",
       "      <td>7.7</td>\n",
       "      <td>4.7</td>\n",
       "      <td>14.0</td>\n",
       "      <td>19.9</td>\n",
       "      <td>105.6</td>\n",
       "      <td>0.457</td>\n",
       "      <td>0.358</td>\n",
       "      <td>96.4</td>\n",
       "    </tr>\n",
       "    <tr>\n",
       "      <th>3</th>\n",
       "      <td>2015-16</td>\n",
       "      <td>38.2</td>\n",
       "      <td>84.6</td>\n",
       "      <td>8.5</td>\n",
       "      <td>24.1</td>\n",
       "      <td>17.7</td>\n",
       "      <td>23.4</td>\n",
       "      <td>10.4</td>\n",
       "      <td>33.3</td>\n",
       "      <td>43.8</td>\n",
       "      <td>22.3</td>\n",
       "      <td>7.8</td>\n",
       "      <td>5.0</td>\n",
       "      <td>14.4</td>\n",
       "      <td>20.3</td>\n",
       "      <td>102.7</td>\n",
       "      <td>0.452</td>\n",
       "      <td>0.354</td>\n",
       "      <td>95.8</td>\n",
       "    </tr>\n",
       "    <tr>\n",
       "      <th>4</th>\n",
       "      <td>2014-15</td>\n",
       "      <td>37.5</td>\n",
       "      <td>83.6</td>\n",
       "      <td>7.8</td>\n",
       "      <td>22.4</td>\n",
       "      <td>17.1</td>\n",
       "      <td>22.8</td>\n",
       "      <td>10.9</td>\n",
       "      <td>32.4</td>\n",
       "      <td>43.3</td>\n",
       "      <td>22.0</td>\n",
       "      <td>7.7</td>\n",
       "      <td>4.8</td>\n",
       "      <td>14.4</td>\n",
       "      <td>20.2</td>\n",
       "      <td>100.0</td>\n",
       "      <td>0.449</td>\n",
       "      <td>0.350</td>\n",
       "      <td>93.9</td>\n",
       "    </tr>\n",
       "  </tbody>\n",
       "</table>\n",
       "</div>"
      ],
      "text/plain": [
       "    Season    FG   FGA    3P   3PA    FT   FTA   ORB   DRB   TRB   AST  STL  \\\n",
       "0  2018-19  40.7  88.7  11.0  31.2  17.7  23.2  10.4  34.5  44.8  23.9  7.8   \n",
       "1  2017-18  39.6  86.1  10.5  29.0  16.6  21.7   9.7  33.8  43.5  23.2  7.7   \n",
       "2  2016-17  39.0  85.4   9.7  27.0  17.8  23.1  10.1  33.4  43.5  22.6  7.7   \n",
       "3  2015-16  38.2  84.6   8.5  24.1  17.7  23.4  10.4  33.3  43.8  22.3  7.8   \n",
       "4  2014-15  37.5  83.6   7.8  22.4  17.1  22.8  10.9  32.4  43.3  22.0  7.7   \n",
       "\n",
       "   BLK   TOV    PF    PTS    FG%    3P%  Pace  \n",
       "0  5.1  14.2  21.6  110.2  0.459  0.352  99.7  \n",
       "1  4.8  14.3  19.9  106.3  0.460  0.362  97.3  \n",
       "2  4.7  14.0  19.9  105.6  0.457  0.358  96.4  \n",
       "3  5.0  14.4  20.3  102.7  0.452  0.354  95.8  \n",
       "4  4.8  14.4  20.2  100.0  0.449  0.350  93.9  "
      ]
     },
     "execution_count": 4,
     "metadata": {},
     "output_type": "execute_result"
    }
   ],
   "source": [
    "df.head()"
   ]
  },
  {
   "cell_type": "markdown",
   "metadata": {},
   "source": [
    "The `.shape` property tells us our DataFrame has 20 rows and 19 columns, respectively:"
   ]
  },
  {
   "cell_type": "code",
   "execution_count": 5,
   "metadata": {},
   "outputs": [
    {
     "data": {
      "text/plain": [
       "(20, 19)"
      ]
     },
     "execution_count": 5,
     "metadata": {},
     "output_type": "execute_result"
    }
   ],
   "source": [
    "df.shape"
   ]
  },
  {
   "cell_type": "markdown",
   "metadata": {},
   "source": [
    "The `.describe()` method gives us a quick summary of our data:"
   ]
  },
  {
   "cell_type": "code",
   "execution_count": 6,
   "metadata": {
    "scrolled": true
   },
   "outputs": [
    {
     "data": {
      "text/html": [
       "<div>\n",
       "<style scoped>\n",
       "    .dataframe tbody tr th:only-of-type {\n",
       "        vertical-align: middle;\n",
       "    }\n",
       "\n",
       "    .dataframe tbody tr th {\n",
       "        vertical-align: top;\n",
       "    }\n",
       "\n",
       "    .dataframe thead th {\n",
       "        text-align: right;\n",
       "    }\n",
       "</style>\n",
       "<table border=\"1\" class=\"dataframe\">\n",
       "  <thead>\n",
       "    <tr style=\"text-align: right;\">\n",
       "      <th></th>\n",
       "      <th>FG</th>\n",
       "      <th>FGA</th>\n",
       "      <th>3P</th>\n",
       "      <th>3PA</th>\n",
       "      <th>FT</th>\n",
       "      <th>FTA</th>\n",
       "      <th>ORB</th>\n",
       "      <th>DRB</th>\n",
       "      <th>TRB</th>\n",
       "      <th>AST</th>\n",
       "      <th>STL</th>\n",
       "      <th>BLK</th>\n",
       "      <th>TOV</th>\n",
       "      <th>PF</th>\n",
       "      <th>PTS</th>\n",
       "      <th>FG%</th>\n",
       "      <th>3P%</th>\n",
       "      <th>Pace</th>\n",
       "    </tr>\n",
       "  </thead>\n",
       "  <tbody>\n",
       "    <tr>\n",
       "      <th>count</th>\n",
       "      <td>20.0</td>\n",
       "      <td>20.0</td>\n",
       "      <td>20.0</td>\n",
       "      <td>20.0</td>\n",
       "      <td>20.0</td>\n",
       "      <td>20.0</td>\n",
       "      <td>20.0</td>\n",
       "      <td>20.0</td>\n",
       "      <td>20.0</td>\n",
       "      <td>20.0</td>\n",
       "      <td>20.0</td>\n",
       "      <td>20.0</td>\n",
       "      <td>20.0</td>\n",
       "      <td>20.0</td>\n",
       "      <td>20.0</td>\n",
       "      <td>20.0</td>\n",
       "      <td>20.0</td>\n",
       "      <td>20.0</td>\n",
       "    </tr>\n",
       "    <tr>\n",
       "      <th>mean</th>\n",
       "      <td>37.2</td>\n",
       "      <td>82.2</td>\n",
       "      <td>6.9</td>\n",
       "      <td>19.3</td>\n",
       "      <td>18.2</td>\n",
       "      <td>24.1</td>\n",
       "      <td>11.2</td>\n",
       "      <td>31.2</td>\n",
       "      <td>42.4</td>\n",
       "      <td>21.8</td>\n",
       "      <td>7.6</td>\n",
       "      <td>4.9</td>\n",
       "      <td>14.5</td>\n",
       "      <td>21.2</td>\n",
       "      <td>99.5</td>\n",
       "      <td>0.5</td>\n",
       "      <td>0.4</td>\n",
       "      <td>92.9</td>\n",
       "    </tr>\n",
       "    <tr>\n",
       "      <th>std</th>\n",
       "      <td>1.4</td>\n",
       "      <td>2.4</td>\n",
       "      <td>1.8</td>\n",
       "      <td>5.1</td>\n",
       "      <td>1.0</td>\n",
       "      <td>1.3</td>\n",
       "      <td>0.7</td>\n",
       "      <td>1.5</td>\n",
       "      <td>1.0</td>\n",
       "      <td>0.8</td>\n",
       "      <td>0.3</td>\n",
       "      <td>0.2</td>\n",
       "      <td>0.4</td>\n",
       "      <td>1.1</td>\n",
       "      <td>4.2</td>\n",
       "      <td>0.0</td>\n",
       "      <td>0.0</td>\n",
       "      <td>2.6</td>\n",
       "    </tr>\n",
       "    <tr>\n",
       "      <th>min</th>\n",
       "      <td>35.0</td>\n",
       "      <td>79.0</td>\n",
       "      <td>4.8</td>\n",
       "      <td>13.7</td>\n",
       "      <td>16.6</td>\n",
       "      <td>21.7</td>\n",
       "      <td>9.7</td>\n",
       "      <td>29.8</td>\n",
       "      <td>41.0</td>\n",
       "      <td>20.6</td>\n",
       "      <td>7.2</td>\n",
       "      <td>4.6</td>\n",
       "      <td>14.0</td>\n",
       "      <td>19.6</td>\n",
       "      <td>93.4</td>\n",
       "      <td>0.4</td>\n",
       "      <td>0.3</td>\n",
       "      <td>90.1</td>\n",
       "    </tr>\n",
       "    <tr>\n",
       "      <th>25%</th>\n",
       "      <td>36.1</td>\n",
       "      <td>80.8</td>\n",
       "      <td>5.5</td>\n",
       "      <td>15.6</td>\n",
       "      <td>17.7</td>\n",
       "      <td>23.2</td>\n",
       "      <td>10.9</td>\n",
       "      <td>30.3</td>\n",
       "      <td>41.8</td>\n",
       "      <td>21.3</td>\n",
       "      <td>7.3</td>\n",
       "      <td>4.8</td>\n",
       "      <td>14.3</td>\n",
       "      <td>20.3</td>\n",
       "      <td>96.8</td>\n",
       "      <td>0.4</td>\n",
       "      <td>0.4</td>\n",
       "      <td>91.2</td>\n",
       "    </tr>\n",
       "    <tr>\n",
       "      <th>50%</th>\n",
       "      <td>37.1</td>\n",
       "      <td>81.4</td>\n",
       "      <td>6.4</td>\n",
       "      <td>18.1</td>\n",
       "      <td>18.4</td>\n",
       "      <td>24.3</td>\n",
       "      <td>11.1</td>\n",
       "      <td>30.6</td>\n",
       "      <td>42.2</td>\n",
       "      <td>21.8</td>\n",
       "      <td>7.7</td>\n",
       "      <td>4.9</td>\n",
       "      <td>14.4</td>\n",
       "      <td>21.0</td>\n",
       "      <td>99.2</td>\n",
       "      <td>0.5</td>\n",
       "      <td>0.4</td>\n",
       "      <td>92.0</td>\n",
       "    </tr>\n",
       "    <tr>\n",
       "      <th>75%</th>\n",
       "      <td>37.7</td>\n",
       "      <td>83.2</td>\n",
       "      <td>7.7</td>\n",
       "      <td>21.7</td>\n",
       "      <td>18.8</td>\n",
       "      <td>24.9</td>\n",
       "      <td>12.0</td>\n",
       "      <td>32.0</td>\n",
       "      <td>43.0</td>\n",
       "      <td>22.2</td>\n",
       "      <td>7.8</td>\n",
       "      <td>5.1</td>\n",
       "      <td>14.7</td>\n",
       "      <td>21.9</td>\n",
       "      <td>100.6</td>\n",
       "      <td>0.5</td>\n",
       "      <td>0.4</td>\n",
       "      <td>93.9</td>\n",
       "    </tr>\n",
       "    <tr>\n",
       "      <th>max</th>\n",
       "      <td>40.7</td>\n",
       "      <td>88.7</td>\n",
       "      <td>11.0</td>\n",
       "      <td>31.2</td>\n",
       "      <td>19.7</td>\n",
       "      <td>26.3</td>\n",
       "      <td>12.4</td>\n",
       "      <td>34.5</td>\n",
       "      <td>44.8</td>\n",
       "      <td>23.9</td>\n",
       "      <td>7.9</td>\n",
       "      <td>5.3</td>\n",
       "      <td>15.5</td>\n",
       "      <td>23.3</td>\n",
       "      <td>110.2</td>\n",
       "      <td>0.5</td>\n",
       "      <td>0.4</td>\n",
       "      <td>99.7</td>\n",
       "    </tr>\n",
       "  </tbody>\n",
       "</table>\n",
       "</div>"
      ],
      "text/plain": [
       "         FG   FGA    3P   3PA    FT   FTA   ORB   DRB   TRB   AST   STL   BLK  \\\n",
       "count  20.0  20.0  20.0  20.0  20.0  20.0  20.0  20.0  20.0  20.0  20.0  20.0   \n",
       "mean   37.2  82.2   6.9  19.3  18.2  24.1  11.2  31.2  42.4  21.8   7.6   4.9   \n",
       "std     1.4   2.4   1.8   5.1   1.0   1.3   0.7   1.5   1.0   0.8   0.3   0.2   \n",
       "min    35.0  79.0   4.8  13.7  16.6  21.7   9.7  29.8  41.0  20.6   7.2   4.6   \n",
       "25%    36.1  80.8   5.5  15.6  17.7  23.2  10.9  30.3  41.8  21.3   7.3   4.8   \n",
       "50%    37.1  81.4   6.4  18.1  18.4  24.3  11.1  30.6  42.2  21.8   7.7   4.9   \n",
       "75%    37.7  83.2   7.7  21.7  18.8  24.9  12.0  32.0  43.0  22.2   7.8   5.1   \n",
       "max    40.7  88.7  11.0  31.2  19.7  26.3  12.4  34.5  44.8  23.9   7.9   5.3   \n",
       "\n",
       "        TOV    PF    PTS   FG%   3P%  Pace  \n",
       "count  20.0  20.0   20.0  20.0  20.0  20.0  \n",
       "mean   14.5  21.2   99.5   0.5   0.4  92.9  \n",
       "std     0.4   1.1    4.2   0.0   0.0   2.6  \n",
       "min    14.0  19.6   93.4   0.4   0.3  90.1  \n",
       "25%    14.3  20.3   96.8   0.4   0.4  91.2  \n",
       "50%    14.4  21.0   99.2   0.5   0.4  92.0  \n",
       "75%    14.7  21.9  100.6   0.5   0.4  93.9  \n",
       "max    15.5  23.3  110.2   0.5   0.4  99.7  "
      ]
     },
     "execution_count": 6,
     "metadata": {},
     "output_type": "execute_result"
    }
   ],
   "source": [
    "df.describe().round(decimals=1)"
   ]
  },
  {
   "cell_type": "markdown",
   "metadata": {},
   "source": [
    "The cells above demonstrate that we can loosely define a DataFrame as a structure equipped with numerous methods for working with tabular data. For a more formal definition, let's now look at two of the objects that power a DataFrame. Becoming familiar with these two objects will lay the groundwork for using pandas effectively.  "
   ]
  },
  {
   "cell_type": "markdown",
   "metadata": {},
   "source": [
    "---"
   ]
  },
  {
   "cell_type": "markdown",
   "metadata": {},
   "source": [
    "### 2.2 DataFrame Concepts"
   ]
  },
  {
   "cell_type": "markdown",
   "metadata": {},
   "source": [
    "**Formal Definition**: A DataFrame is a collection of one of more `Series` objects that share a common `Index`. To understand what this means, let's start by examining one of the columns in our DataFrame."
   ]
  },
  {
   "cell_type": "markdown",
   "metadata": {},
   "source": [
    "To select a single column in a DataFrame, we can treat the DataFrame as if it is dictionary, using the column name as a key."
   ]
  },
  {
   "cell_type": "code",
   "execution_count": 17,
   "metadata": {
    "scrolled": false
   },
   "outputs": [
    {
     "data": {
      "text/plain": [
       "0     2018-19\n",
       "1     2017-18\n",
       "2     2016-17\n",
       "3     2015-16\n",
       "4     2014-15\n",
       "5     2013-14\n",
       "6     2012-13\n",
       "7     2011-12\n",
       "8     2010-11\n",
       "9     2009-10\n",
       "10    2008-09\n",
       "11    2007-08\n",
       "12    2006-07\n",
       "13    2005-06\n",
       "14    2004-05\n",
       "15    2003-04\n",
       "16    2002-03\n",
       "17    2001-02\n",
       "18    2000-01\n",
       "19    1999-00\n",
       "Name: Season, dtype: object"
      ]
     },
     "execution_count": 17,
     "metadata": {},
     "output_type": "execute_result"
    }
   ],
   "source": [
    "col = df['Season']\n",
    "col"
   ]
  },
  {
   "cell_type": "code",
   "execution_count": 16,
   "metadata": {},
   "outputs": [
    {
     "data": {
      "text/plain": [
       "pandas.core.series.Series"
      ]
     },
     "execution_count": 16,
     "metadata": {},
     "output_type": "execute_result"
    }
   ],
   "source": [
    "type(col)"
   ]
  },
  {
   "cell_type": "markdown",
   "metadata": {},
   "source": [
    "\n",
    "<div class=\"alert\"> <sup>[1]</sup> Handles like the ones that make a box easier to carry, not the filthy ones that Kyrie has</div>"
   ]
  }
 ],
 "metadata": {
  "kernelspec": {
   "display_name": "Python 3",
   "language": "python",
   "name": "python3"
  },
  "language_info": {
   "codemirror_mode": {
    "name": "ipython",
    "version": 3
   },
   "file_extension": ".py",
   "mimetype": "text/x-python",
   "name": "python",
   "nbconvert_exporter": "python",
   "pygments_lexer": "ipython3",
   "version": "3.4.3"
  }
 },
 "nbformat": 4,
 "nbformat_minor": 2
}
