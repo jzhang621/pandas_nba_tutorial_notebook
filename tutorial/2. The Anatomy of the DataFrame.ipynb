{
 "cells": [
  {
   "cell_type": "markdown",
   "metadata": {},
   "source": [
    "## Pandas for the NBA Lover\n",
    "## The Three Point Revolution and the Anatomy of the DataFrame"
   ]
  },
  {
   "cell_type": "markdown",
   "metadata": {},
   "source": [
    "Welcome!"
   ]
  },
  {
   "cell_type": "markdown",
   "metadata": {},
   "source": [
    "For our first tuturial, we will be examining some NBA data from the past 20 seasons. This will be our introduction to the **DataFrame**, the core data structure of the pandas library. We will learn about the DataFrame's key concepts, as well as some terms, definitions, and rules that relate to how DataFrame's are used. At the end, we will produce a chart illustrating how the NBA has evolved over the past 20 years."
   ]
  },
  {
   "cell_type": "markdown",
   "metadata": {},
   "source": [
    "---"
   ]
  },
  {
   "cell_type": "markdown",
   "metadata": {},
   "source": [
    "### 2.1 What is a DataFrame?"
   ]
  },
  {
   "cell_type": "markdown",
   "metadata": {},
   "source": [
    "First things first, let's import the pandas library."
   ]
  },
  {
   "cell_type": "code",
   "execution_count": 1,
   "metadata": {},
   "outputs": [],
   "source": [
    "import pandas as pd"
   ]
  },
  {
   "cell_type": "markdown",
   "metadata": {},
   "source": [
    "A DataFrame is a data structure that makes it easy to work with tabular data.\n",
    "\n",
    "Let's create our first DataFrame by reading a `.csv` file containing league-wide, per-game averages for each of the past 20 regular seasons. The first few rows of this file look like this:"
   ]
  },
  {
   "cell_type": "code",
   "execution_count": 2,
   "metadata": {},
   "outputs": [
    {
     "name": "stdout",
     "output_type": "stream",
     "text": [
      "Season,FG,FGA,3P,3PA,FT,FTA,ORB,DRB,TRB,AST,STL,BLK,TOV,PF,PTS,FG%,3P%,Pace\r\n",
      "2019,40.7,88.7,11.0,31.2,17.7,23.2,10.4,34.5,44.8,23.9,7.8,5.1,14.2,21.6,110.2,0.459,0.352,99.7\r\n",
      "2018,39.6,86.1,10.5,29.0,16.6,21.7,9.7,33.8,43.5,23.2,7.7,4.8,14.3,19.9,106.3,0.46,0.362,97.3\r\n",
      "2017,39.0,85.4,9.7,27.0,17.8,23.1,10.1,33.4,43.5,22.6,7.7,4.7,14.0,19.9,105.6,0.457,0.358,96.4\r\n",
      "2016,38.2,84.6,8.5,24.1,17.7,23.4,10.4,33.3,43.8,22.3,7.8,5.0,14.4,20.3,102.7,0.452,0.354,95.8\r\n",
      "2015,37.5,83.6,7.8,22.4,17.1,22.8,10.9,32.4,43.3,22.0,7.7,4.8,14.4,20.2,100.0,0.449,0.35,93.9\r\n"
     ]
    }
   ],
   "source": [
    "!cat ../data/season_avg.csv | head -n 6"
   ]
  },
  {
   "cell_type": "markdown",
   "metadata": {},
   "source": [
    "There are a variety of ways to loading data into a DataFrame, some of which we will see in later sections. We will use pandas' `read_csv()` method here:"
   ]
  },
  {
   "cell_type": "code",
   "execution_count": 3,
   "metadata": {},
   "outputs": [
    {
     "data": {
      "text/plain": [
       "pandas.core.frame.DataFrame"
      ]
     },
     "execution_count": 3,
     "metadata": {},
     "output_type": "execute_result"
    }
   ],
   "source": [
    "df = pd.read_csv(\"../data/season_avg.csv\")\n",
    "type(df)"
   ]
  },
  {
   "cell_type": "markdown",
   "metadata": {},
   "source": [
    "#### 2.1.1 Quick Peek into DataFrame Functionality"
   ]
  },
  {
   "cell_type": "markdown",
   "metadata": {},
   "source": [
    "Before diving into technical details of what a DataFrame is, let's  first take a quick peek at some the things we can do with our DataFrame. <br><br> The `.head()` method prints the DataFrame's first 5 rows:"
   ]
  },
  {
   "cell_type": "code",
   "execution_count": 4,
   "metadata": {},
   "outputs": [
    {
     "data": {
      "text/html": [
       "<div>\n",
       "<style scoped>\n",
       "    .dataframe tbody tr th:only-of-type {\n",
       "        vertical-align: middle;\n",
       "    }\n",
       "\n",
       "    .dataframe tbody tr th {\n",
       "        vertical-align: top;\n",
       "    }\n",
       "\n",
       "    .dataframe thead th {\n",
       "        text-align: right;\n",
       "    }\n",
       "</style>\n",
       "<table border=\"1\" class=\"dataframe\">\n",
       "  <thead>\n",
       "    <tr style=\"text-align: right;\">\n",
       "      <th></th>\n",
       "      <th>Season</th>\n",
       "      <th>FG</th>\n",
       "      <th>FGA</th>\n",
       "      <th>3P</th>\n",
       "      <th>3PA</th>\n",
       "      <th>FT</th>\n",
       "      <th>FTA</th>\n",
       "      <th>ORB</th>\n",
       "      <th>DRB</th>\n",
       "      <th>TRB</th>\n",
       "      <th>AST</th>\n",
       "      <th>STL</th>\n",
       "      <th>BLK</th>\n",
       "      <th>TOV</th>\n",
       "      <th>PF</th>\n",
       "      <th>PTS</th>\n",
       "      <th>FG%</th>\n",
       "      <th>3P%</th>\n",
       "      <th>Pace</th>\n",
       "    </tr>\n",
       "  </thead>\n",
       "  <tbody>\n",
       "    <tr>\n",
       "      <th>0</th>\n",
       "      <td>2019</td>\n",
       "      <td>40.7</td>\n",
       "      <td>88.7</td>\n",
       "      <td>11.0</td>\n",
       "      <td>31.2</td>\n",
       "      <td>17.7</td>\n",
       "      <td>23.2</td>\n",
       "      <td>10.4</td>\n",
       "      <td>34.5</td>\n",
       "      <td>44.8</td>\n",
       "      <td>23.9</td>\n",
       "      <td>7.8</td>\n",
       "      <td>5.1</td>\n",
       "      <td>14.2</td>\n",
       "      <td>21.6</td>\n",
       "      <td>110.2</td>\n",
       "      <td>0.459</td>\n",
       "      <td>0.352</td>\n",
       "      <td>99.7</td>\n",
       "    </tr>\n",
       "    <tr>\n",
       "      <th>1</th>\n",
       "      <td>2018</td>\n",
       "      <td>39.6</td>\n",
       "      <td>86.1</td>\n",
       "      <td>10.5</td>\n",
       "      <td>29.0</td>\n",
       "      <td>16.6</td>\n",
       "      <td>21.7</td>\n",
       "      <td>9.7</td>\n",
       "      <td>33.8</td>\n",
       "      <td>43.5</td>\n",
       "      <td>23.2</td>\n",
       "      <td>7.7</td>\n",
       "      <td>4.8</td>\n",
       "      <td>14.3</td>\n",
       "      <td>19.9</td>\n",
       "      <td>106.3</td>\n",
       "      <td>0.460</td>\n",
       "      <td>0.362</td>\n",
       "      <td>97.3</td>\n",
       "    </tr>\n",
       "    <tr>\n",
       "      <th>2</th>\n",
       "      <td>2017</td>\n",
       "      <td>39.0</td>\n",
       "      <td>85.4</td>\n",
       "      <td>9.7</td>\n",
       "      <td>27.0</td>\n",
       "      <td>17.8</td>\n",
       "      <td>23.1</td>\n",
       "      <td>10.1</td>\n",
       "      <td>33.4</td>\n",
       "      <td>43.5</td>\n",
       "      <td>22.6</td>\n",
       "      <td>7.7</td>\n",
       "      <td>4.7</td>\n",
       "      <td>14.0</td>\n",
       "      <td>19.9</td>\n",
       "      <td>105.6</td>\n",
       "      <td>0.457</td>\n",
       "      <td>0.358</td>\n",
       "      <td>96.4</td>\n",
       "    </tr>\n",
       "    <tr>\n",
       "      <th>3</th>\n",
       "      <td>2016</td>\n",
       "      <td>38.2</td>\n",
       "      <td>84.6</td>\n",
       "      <td>8.5</td>\n",
       "      <td>24.1</td>\n",
       "      <td>17.7</td>\n",
       "      <td>23.4</td>\n",
       "      <td>10.4</td>\n",
       "      <td>33.3</td>\n",
       "      <td>43.8</td>\n",
       "      <td>22.3</td>\n",
       "      <td>7.8</td>\n",
       "      <td>5.0</td>\n",
       "      <td>14.4</td>\n",
       "      <td>20.3</td>\n",
       "      <td>102.7</td>\n",
       "      <td>0.452</td>\n",
       "      <td>0.354</td>\n",
       "      <td>95.8</td>\n",
       "    </tr>\n",
       "    <tr>\n",
       "      <th>4</th>\n",
       "      <td>2015</td>\n",
       "      <td>37.5</td>\n",
       "      <td>83.6</td>\n",
       "      <td>7.8</td>\n",
       "      <td>22.4</td>\n",
       "      <td>17.1</td>\n",
       "      <td>22.8</td>\n",
       "      <td>10.9</td>\n",
       "      <td>32.4</td>\n",
       "      <td>43.3</td>\n",
       "      <td>22.0</td>\n",
       "      <td>7.7</td>\n",
       "      <td>4.8</td>\n",
       "      <td>14.4</td>\n",
       "      <td>20.2</td>\n",
       "      <td>100.0</td>\n",
       "      <td>0.449</td>\n",
       "      <td>0.350</td>\n",
       "      <td>93.9</td>\n",
       "    </tr>\n",
       "  </tbody>\n",
       "</table>\n",
       "</div>"
      ],
      "text/plain": [
       "   Season    FG   FGA    3P   3PA    FT   FTA   ORB   DRB   TRB   AST  STL  \\\n",
       "0    2019  40.7  88.7  11.0  31.2  17.7  23.2  10.4  34.5  44.8  23.9  7.8   \n",
       "1    2018  39.6  86.1  10.5  29.0  16.6  21.7   9.7  33.8  43.5  23.2  7.7   \n",
       "2    2017  39.0  85.4   9.7  27.0  17.8  23.1  10.1  33.4  43.5  22.6  7.7   \n",
       "3    2016  38.2  84.6   8.5  24.1  17.7  23.4  10.4  33.3  43.8  22.3  7.8   \n",
       "4    2015  37.5  83.6   7.8  22.4  17.1  22.8  10.9  32.4  43.3  22.0  7.7   \n",
       "\n",
       "   BLK   TOV    PF    PTS    FG%    3P%  Pace  \n",
       "0  5.1  14.2  21.6  110.2  0.459  0.352  99.7  \n",
       "1  4.8  14.3  19.9  106.3  0.460  0.362  97.3  \n",
       "2  4.7  14.0  19.9  105.6  0.457  0.358  96.4  \n",
       "3  5.0  14.4  20.3  102.7  0.452  0.354  95.8  \n",
       "4  4.8  14.4  20.2  100.0  0.449  0.350  93.9  "
      ]
     },
     "execution_count": 4,
     "metadata": {},
     "output_type": "execute_result"
    }
   ],
   "source": [
    "df.head()"
   ]
  },
  {
   "cell_type": "markdown",
   "metadata": {},
   "source": [
    "The `.shape` property tells us our DataFrame has 20 rows and 19 columns, respectively:"
   ]
  },
  {
   "cell_type": "code",
   "execution_count": 5,
   "metadata": {},
   "outputs": [
    {
     "data": {
      "text/plain": [
       "(20, 19)"
      ]
     },
     "execution_count": 5,
     "metadata": {},
     "output_type": "execute_result"
    }
   ],
   "source": [
    "df.shape"
   ]
  },
  {
   "cell_type": "markdown",
   "metadata": {},
   "source": [
    "The `.describe()` method gives us a quick summary of our data:"
   ]
  },
  {
   "cell_type": "code",
   "execution_count": 6,
   "metadata": {
    "scrolled": true
   },
   "outputs": [
    {
     "data": {
      "text/html": [
       "<div>\n",
       "<style scoped>\n",
       "    .dataframe tbody tr th:only-of-type {\n",
       "        vertical-align: middle;\n",
       "    }\n",
       "\n",
       "    .dataframe tbody tr th {\n",
       "        vertical-align: top;\n",
       "    }\n",
       "\n",
       "    .dataframe thead th {\n",
       "        text-align: right;\n",
       "    }\n",
       "</style>\n",
       "<table border=\"1\" class=\"dataframe\">\n",
       "  <thead>\n",
       "    <tr style=\"text-align: right;\">\n",
       "      <th></th>\n",
       "      <th>Season</th>\n",
       "      <th>FG</th>\n",
       "      <th>FGA</th>\n",
       "      <th>3P</th>\n",
       "      <th>3PA</th>\n",
       "      <th>FT</th>\n",
       "      <th>FTA</th>\n",
       "      <th>ORB</th>\n",
       "      <th>DRB</th>\n",
       "      <th>TRB</th>\n",
       "      <th>AST</th>\n",
       "      <th>STL</th>\n",
       "      <th>BLK</th>\n",
       "      <th>TOV</th>\n",
       "      <th>PF</th>\n",
       "      <th>PTS</th>\n",
       "      <th>FG%</th>\n",
       "      <th>3P%</th>\n",
       "      <th>Pace</th>\n",
       "    </tr>\n",
       "  </thead>\n",
       "  <tbody>\n",
       "    <tr>\n",
       "      <th>count</th>\n",
       "      <td>20.0</td>\n",
       "      <td>20.0</td>\n",
       "      <td>20.0</td>\n",
       "      <td>20.0</td>\n",
       "      <td>20.0</td>\n",
       "      <td>20.0</td>\n",
       "      <td>20.0</td>\n",
       "      <td>20.0</td>\n",
       "      <td>20.0</td>\n",
       "      <td>20.0</td>\n",
       "      <td>20.0</td>\n",
       "      <td>20.0</td>\n",
       "      <td>20.0</td>\n",
       "      <td>20.0</td>\n",
       "      <td>20.0</td>\n",
       "      <td>20.0</td>\n",
       "      <td>20.0</td>\n",
       "      <td>20.0</td>\n",
       "      <td>20.0</td>\n",
       "    </tr>\n",
       "    <tr>\n",
       "      <th>mean</th>\n",
       "      <td>2009.5</td>\n",
       "      <td>37.2</td>\n",
       "      <td>82.2</td>\n",
       "      <td>6.9</td>\n",
       "      <td>19.3</td>\n",
       "      <td>18.2</td>\n",
       "      <td>24.1</td>\n",
       "      <td>11.2</td>\n",
       "      <td>31.2</td>\n",
       "      <td>42.4</td>\n",
       "      <td>21.8</td>\n",
       "      <td>7.6</td>\n",
       "      <td>4.9</td>\n",
       "      <td>14.5</td>\n",
       "      <td>21.2</td>\n",
       "      <td>99.5</td>\n",
       "      <td>0.5</td>\n",
       "      <td>0.4</td>\n",
       "      <td>92.9</td>\n",
       "    </tr>\n",
       "    <tr>\n",
       "      <th>std</th>\n",
       "      <td>5.9</td>\n",
       "      <td>1.4</td>\n",
       "      <td>2.4</td>\n",
       "      <td>1.8</td>\n",
       "      <td>5.1</td>\n",
       "      <td>1.0</td>\n",
       "      <td>1.3</td>\n",
       "      <td>0.7</td>\n",
       "      <td>1.5</td>\n",
       "      <td>1.0</td>\n",
       "      <td>0.8</td>\n",
       "      <td>0.3</td>\n",
       "      <td>0.2</td>\n",
       "      <td>0.4</td>\n",
       "      <td>1.1</td>\n",
       "      <td>4.2</td>\n",
       "      <td>0.0</td>\n",
       "      <td>0.0</td>\n",
       "      <td>2.6</td>\n",
       "    </tr>\n",
       "    <tr>\n",
       "      <th>min</th>\n",
       "      <td>2000.0</td>\n",
       "      <td>35.0</td>\n",
       "      <td>79.0</td>\n",
       "      <td>4.8</td>\n",
       "      <td>13.7</td>\n",
       "      <td>16.6</td>\n",
       "      <td>21.7</td>\n",
       "      <td>9.7</td>\n",
       "      <td>29.8</td>\n",
       "      <td>41.0</td>\n",
       "      <td>20.6</td>\n",
       "      <td>7.2</td>\n",
       "      <td>4.6</td>\n",
       "      <td>14.0</td>\n",
       "      <td>19.6</td>\n",
       "      <td>93.4</td>\n",
       "      <td>0.4</td>\n",
       "      <td>0.3</td>\n",
       "      <td>90.1</td>\n",
       "    </tr>\n",
       "    <tr>\n",
       "      <th>25%</th>\n",
       "      <td>2004.8</td>\n",
       "      <td>36.1</td>\n",
       "      <td>80.8</td>\n",
       "      <td>5.5</td>\n",
       "      <td>15.6</td>\n",
       "      <td>17.7</td>\n",
       "      <td>23.2</td>\n",
       "      <td>10.9</td>\n",
       "      <td>30.3</td>\n",
       "      <td>41.8</td>\n",
       "      <td>21.3</td>\n",
       "      <td>7.3</td>\n",
       "      <td>4.8</td>\n",
       "      <td>14.3</td>\n",
       "      <td>20.3</td>\n",
       "      <td>96.8</td>\n",
       "      <td>0.4</td>\n",
       "      <td>0.4</td>\n",
       "      <td>91.2</td>\n",
       "    </tr>\n",
       "    <tr>\n",
       "      <th>50%</th>\n",
       "      <td>2009.5</td>\n",
       "      <td>37.1</td>\n",
       "      <td>81.4</td>\n",
       "      <td>6.4</td>\n",
       "      <td>18.1</td>\n",
       "      <td>18.4</td>\n",
       "      <td>24.3</td>\n",
       "      <td>11.1</td>\n",
       "      <td>30.6</td>\n",
       "      <td>42.2</td>\n",
       "      <td>21.8</td>\n",
       "      <td>7.7</td>\n",
       "      <td>4.9</td>\n",
       "      <td>14.4</td>\n",
       "      <td>21.0</td>\n",
       "      <td>99.2</td>\n",
       "      <td>0.5</td>\n",
       "      <td>0.4</td>\n",
       "      <td>92.0</td>\n",
       "    </tr>\n",
       "    <tr>\n",
       "      <th>75%</th>\n",
       "      <td>2014.2</td>\n",
       "      <td>37.7</td>\n",
       "      <td>83.2</td>\n",
       "      <td>7.7</td>\n",
       "      <td>21.7</td>\n",
       "      <td>18.8</td>\n",
       "      <td>24.9</td>\n",
       "      <td>12.0</td>\n",
       "      <td>32.0</td>\n",
       "      <td>43.0</td>\n",
       "      <td>22.2</td>\n",
       "      <td>7.8</td>\n",
       "      <td>5.1</td>\n",
       "      <td>14.7</td>\n",
       "      <td>21.9</td>\n",
       "      <td>100.6</td>\n",
       "      <td>0.5</td>\n",
       "      <td>0.4</td>\n",
       "      <td>93.9</td>\n",
       "    </tr>\n",
       "    <tr>\n",
       "      <th>max</th>\n",
       "      <td>2019.0</td>\n",
       "      <td>40.7</td>\n",
       "      <td>88.7</td>\n",
       "      <td>11.0</td>\n",
       "      <td>31.2</td>\n",
       "      <td>19.7</td>\n",
       "      <td>26.3</td>\n",
       "      <td>12.4</td>\n",
       "      <td>34.5</td>\n",
       "      <td>44.8</td>\n",
       "      <td>23.9</td>\n",
       "      <td>7.9</td>\n",
       "      <td>5.3</td>\n",
       "      <td>15.5</td>\n",
       "      <td>23.3</td>\n",
       "      <td>110.2</td>\n",
       "      <td>0.5</td>\n",
       "      <td>0.4</td>\n",
       "      <td>99.7</td>\n",
       "    </tr>\n",
       "  </tbody>\n",
       "</table>\n",
       "</div>"
      ],
      "text/plain": [
       "       Season    FG   FGA    3P   3PA    FT   FTA   ORB   DRB   TRB   AST  \\\n",
       "count    20.0  20.0  20.0  20.0  20.0  20.0  20.0  20.0  20.0  20.0  20.0   \n",
       "mean   2009.5  37.2  82.2   6.9  19.3  18.2  24.1  11.2  31.2  42.4  21.8   \n",
       "std       5.9   1.4   2.4   1.8   5.1   1.0   1.3   0.7   1.5   1.0   0.8   \n",
       "min    2000.0  35.0  79.0   4.8  13.7  16.6  21.7   9.7  29.8  41.0  20.6   \n",
       "25%    2004.8  36.1  80.8   5.5  15.6  17.7  23.2  10.9  30.3  41.8  21.3   \n",
       "50%    2009.5  37.1  81.4   6.4  18.1  18.4  24.3  11.1  30.6  42.2  21.8   \n",
       "75%    2014.2  37.7  83.2   7.7  21.7  18.8  24.9  12.0  32.0  43.0  22.2   \n",
       "max    2019.0  40.7  88.7  11.0  31.2  19.7  26.3  12.4  34.5  44.8  23.9   \n",
       "\n",
       "        STL   BLK   TOV    PF    PTS   FG%   3P%  Pace  \n",
       "count  20.0  20.0  20.0  20.0   20.0  20.0  20.0  20.0  \n",
       "mean    7.6   4.9  14.5  21.2   99.5   0.5   0.4  92.9  \n",
       "std     0.3   0.2   0.4   1.1    4.2   0.0   0.0   2.6  \n",
       "min     7.2   4.6  14.0  19.6   93.4   0.4   0.3  90.1  \n",
       "25%     7.3   4.8  14.3  20.3   96.8   0.4   0.4  91.2  \n",
       "50%     7.7   4.9  14.4  21.0   99.2   0.5   0.4  92.0  \n",
       "75%     7.8   5.1  14.7  21.9  100.6   0.5   0.4  93.9  \n",
       "max     7.9   5.3  15.5  23.3  110.2   0.5   0.4  99.7  "
      ]
     },
     "execution_count": 6,
     "metadata": {},
     "output_type": "execute_result"
    }
   ],
   "source": [
    "df.describe().round(decimals=1)"
   ]
  },
  {
   "cell_type": "markdown",
   "metadata": {},
   "source": [
    "The cells above demonstrate that we can loosely describe a DataFrame as a structure equipped with numerous methods for working with tabular data. Let's now turn to two underlying structures that power a DataFrame, the **Series** and the **Index**. Becoming familiar with these two structures will both paint a clearer picture of what a DataFrame is, and help us build the necessary groundwork to work with pandas effectively."
   ]
  },
  {
   "cell_type": "markdown",
   "metadata": {},
   "source": [
    "---"
   ]
  },
  {
   "cell_type": "markdown",
   "metadata": {},
   "source": [
    "### 2.2 DataFrame Concepts"
   ]
  },
  {
   "cell_type": "markdown",
   "metadata": {},
   "source": [
    "A DataFrame can also be described as a \"labeled container\" for tabular data. A Python dictionary is a more common example of a \"labeled container\" - we use a key to query a dictionary for an associated value. Similarily, we can use column names to query our DataFrame for a statistic, such as Pace of Game:"
   ]
  },
  {
   "cell_type": "code",
   "execution_count": 7,
   "metadata": {
    "scrolled": false
   },
   "outputs": [
    {
     "data": {
      "text/plain": [
       "0     99.7\n",
       "1     97.3\n",
       "2     96.4\n",
       "3     95.8\n",
       "4     93.9\n",
       "5     93.9\n",
       "6     92.0\n",
       "7     91.3\n",
       "8     92.1\n",
       "9     92.7\n",
       "10    91.7\n",
       "11    92.4\n",
       "12    91.9\n",
       "13    90.5\n",
       "14    90.9\n",
       "15    90.1\n",
       "16    91.0\n",
       "17    90.7\n",
       "18    91.3\n",
       "19    93.1\n",
       "Name: Pace, dtype: float64"
      ]
     },
     "execution_count": 7,
     "metadata": {},
     "output_type": "execute_result"
    }
   ],
   "source": [
    "df['Pace']  # df.Pace works as well"
   ]
  },
  {
   "cell_type": "markdown",
   "metadata": {},
   "source": [
    "We can see from the outpt that the fastest season of the last 20 years was almost 10 possessions per game faster than the slowest season. However, there's one slight problem: it isn't immeadiately clear which season each data point corresponds to. Instead, we only see a column with numbers from 0 to 19 to the left. This same column also appears when we query for another statistic:"
   ]
  },
  {
   "cell_type": "code",
   "execution_count": 8,
   "metadata": {},
   "outputs": [
    {
     "data": {
      "text/plain": [
       "0     31.2\n",
       "1     29.0\n",
       "2     27.0\n",
       "3     24.1\n",
       "4     22.4\n",
       "5     21.5\n",
       "6     20.0\n",
       "7     18.4\n",
       "8     18.0\n",
       "9     18.1\n",
       "10    18.1\n",
       "11    18.1\n",
       "12    16.9\n",
       "13    16.0\n",
       "14    15.8\n",
       "15    14.9\n",
       "16    14.7\n",
       "17    14.7\n",
       "18    13.7\n",
       "19    13.7\n",
       "Name: 3PA, dtype: float64"
      ]
     },
     "execution_count": 8,
     "metadata": {},
     "output_type": "execute_result"
    }
   ],
   "source": [
    "df['3PA']"
   ]
  },
  {
   "cell_type": "markdown",
   "metadata": {},
   "source": [
    "Fortunately, this is easy to fix."
   ]
  },
  {
   "cell_type": "markdown",
   "metadata": {},
   "source": [
    "### 2.2.1 The Index"
   ]
  },
  {
   "cell_type": "markdown",
   "metadata": {},
   "source": [
    "These numbers exist because every row in a DataFrame has a \"name\", which are formally referred to as **labels**. Collectively, these labels are known as an **Index**, and can be accessed through the DataFrame's `.index` property. We didn't specify how we wanted to label our rows when we created our DataFrame, so the index we see is the one pandas created one for us, ranging from 0 to the number of rows in our data."
   ]
  },
  {
   "cell_type": "code",
   "execution_count": 9,
   "metadata": {
    "scrolled": true
   },
   "outputs": [
    {
     "data": {
      "text/plain": [
       "RangeIndex(start=0, stop=20, step=1)"
      ]
     },
     "execution_count": 9,
     "metadata": {},
     "output_type": "execute_result"
    }
   ],
   "source": [
    "df.index"
   ]
  },
  {
   "cell_type": "markdown",
   "metadata": {},
   "source": [
    "Although they can be anything we want them to be, the labels of an Index often come from a column in the original dataset. Let's now go ahead and re-create our DataFrame with the `index_col` parameter set to the \"Season\" column:"
   ]
  },
  {
   "cell_type": "code",
   "execution_count": 10,
   "metadata": {},
   "outputs": [
    {
     "data": {
      "text/plain": [
       "Int64Index([2019, 2018, 2017, 2016, 2015, 2014, 2013, 2012, 2011, 2010, 2009,\n",
       "            2008, 2007, 2006, 2005, 2004, 2003, 2002, 2001, 2000],\n",
       "           dtype='int64', name='Season')"
      ]
     },
     "execution_count": 10,
     "metadata": {},
     "output_type": "execute_result"
    }
   ],
   "source": [
    "df_with_index = pd.read_csv(\"../data/season_avg.csv\", index_col=0)\n",
    "df_with_index.index"
   ]
  },
  {
   "cell_type": "markdown",
   "metadata": {},
   "source": [
    "Now, when we query the DataFrame for a particular statistic, we see the corresponding season as well:"
   ]
  },
  {
   "cell_type": "code",
   "execution_count": 11,
   "metadata": {},
   "outputs": [
    {
     "data": {
      "text/plain": [
       "Season\n",
       "2019    31.2\n",
       "2018    29.0\n",
       "2017    27.0\n",
       "2016    24.1\n",
       "2015    22.4\n",
       "2014    21.5\n",
       "2013    20.0\n",
       "2012    18.4\n",
       "2011    18.0\n",
       "2010    18.1\n",
       "2009    18.1\n",
       "2008    18.1\n",
       "2007    16.9\n",
       "2006    16.0\n",
       "2005    15.8\n",
       "2004    14.9\n",
       "2003    14.7\n",
       "2002    14.7\n",
       "2001    13.7\n",
       "2000    13.7\n",
       "Name: 3PA, dtype: float64"
      ]
     },
     "execution_count": 11,
     "metadata": {},
     "output_type": "execute_result"
    }
   ],
   "source": [
    "df_with_index['3PA']"
   ]
  },
  {
   "cell_type": "markdown",
   "metadata": {},
   "source": [
    "This is what is meant by \"labeled container\" for tabular data. Thanks to spreadsheets and database tables, we're already familiar with the idea of labeled columns of data. But in a DataFrame, each row also has a label, which is stored in the Index. This has some important consequences, one of which we'll see soon below."
   ]
  },
  {
   "cell_type": "markdown",
   "metadata": {},
   "source": [
    "And I don't know about you, but some of those numbers really stand out. In particular, the number of three point attempts has increased 13.7 per game in 1999-00 to a staggering 31.2! \n",
    "\n",
    "Let's see what this looks like visually."
   ]
  },
  {
   "cell_type": "markdown",
   "metadata": {},
   "source": [
    "### 2.2.2 Why is the Index Important?"
   ]
  },
  {
   "cell_type": "markdown",
   "metadata": {},
   "source": [
    "As I mentioned in the introduction to this tutorial series, pandas is popular because it simplifies data analysis. Case in point: it only takes a few lines of code to produce a chart that encapsulates how the NBA has changed over the years: "
   ]
  },
  {
   "cell_type": "code",
   "execution_count": 36,
   "metadata": {},
   "outputs": [
    {
     "data": {
      "image/png": "[encoded data removed]",
      "text/plain": [
       "<Figure size 432x288 with 1 Axes>"
      ]
     },
     "metadata": {
      "needs_background": "light"
     },
     "output_type": "display_data"
    }
   ],
   "source": [
    "import matplotlib.pyplot as plt\n",
    "\n",
    "df_with_index['3PA'].plot(legend=True)\n",
    "plt.show()"
   ]
  },
  {
   "cell_type": "markdown",
   "metadata": {},
   "source": [
    "But taking advantage of this simplicity requires pre-requisite knowledge. The above plot was so easy to create because under the hood, pandas used our DataFrame's index labels as the x-axis values. Pandas is full of subtle details like this, which can equally annoying and confusing at times. But if you've made it this far, you're well on your way to understanding them."
   ]
  },
  {
   "cell_type": "markdown",
   "metadata": {},
   "source": [
    "And now with that out of the way, I can get back to talking about what brought us all here in the first place: the NBA. I'm incredibly interested to see how long this steady increase in three point shooting will continue. Even more interesting to think about: if and when it does end, what will be the cause?"
   ]
  },
  {
   "cell_type": "markdown",
   "metadata": {},
   "source": []
  }
 ],
 "metadata": {
  "kernelspec": {
   "display_name": "Python 3",
   "language": "python",
   "name": "python3"
  },
  "language_info": {
   "codemirror_mode": {
    "name": "ipython",
    "version": 3
   },
   "file_extension": ".py",
   "mimetype": "text/x-python",
   "name": "python",
   "nbconvert_exporter": "python",
   "pygments_lexer": "ipython3",
   "version": "3.4.3"
  }
 },
 "nbformat": 4,
 "nbformat_minor": 2
}
