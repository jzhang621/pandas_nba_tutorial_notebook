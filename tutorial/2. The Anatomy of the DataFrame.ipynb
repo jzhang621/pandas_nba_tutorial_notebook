{
 "cells": [
  {
   "cell_type": "markdown",
   "metadata": {},
   "source": [
    "## Pandas for the NBA Lover\n",
    "## RPM, PER, and The Anatomy of the DataFrame"
   ]
  },
  {
   "cell_type": "markdown",
   "metadata": {},
   "source": [
    "Welcome!"
   ]
  },
  {
   "cell_type": "markdown",
   "metadata": {},
   "source": [
    "For our first tutorial, we will be looking at a dataset containing two advanced metrics for players from ESPN - Real Plus-Minus (RPM), and Player Efficiency (PER). RPM is based on how a team performs (in terms of point differential) while a player is on the court, adjusted for factors such as teammate quality. PER, on the other hand, summarizes a player's box-score contributions into one statistic, and can be compared across players and seasons. \n",
    "\n",
    "Each of the next few tutorials will use this dataset, and as we build our pandas knowledge, we will gain more insight into both PER and RPM, including what each metric is and isn't good at measuring.\n",
    "\n",
    "For our first tutorial, we will learn about the **DataFrame**, the core data structure of the pandas library. In particular, we will learn about the key concepts and the terms, definitions, and rules that govern how DataFrames are used. At the end, we will produce a chart illustrating how PER and RPM vary across player's in the league."
   ]
  },
  {
   "cell_type": "markdown",
   "metadata": {},
   "source": [
    "---"
   ]
  },
  {
   "cell_type": "markdown",
   "metadata": {},
   "source": [
    "First things first, let's import the pandas library."
   ]
  },
  {
   "cell_type": "code",
   "execution_count": 1,
   "metadata": {},
   "outputs": [],
   "source": [
    "import pandas as pd\n",
    "\n",
    "# formatting options: \n",
    "pd.set_option('display.max_rows', 10)"
   ]
  },
  {
   "cell_type": "markdown",
   "metadata": {},
   "source": [
    "### What is a DataFrame?"
   ]
  },
  {
   "cell_type": "markdown",
   "metadata": {},
   "source": [
    "A DataFrame is a data structure that makes it easy to work with tabular data.\n",
    "\n",
    "Let's create our first DataFrame by reading a `.csv` file containing our data. The first few rows of our dataset look like this:"
   ]
  },
  {
   "cell_type": "code",
   "execution_count": 2,
   "metadata": {},
   "outputs": [
    {
     "name": "stdout",
     "output_type": "stream",
     "text": [
      "PLAYER,MPG,TEAM,POS,TS%,AST,TO,USG,ORR,DRR,REBR,PER,ORPM,DRPM,RPM\r\n",
      "James Harden,37.1,HOU,PG,0.622,20.8,13.5,40.0,2.1,17.0,9.3,29.21,7.76,-0.06,7.7\r\n",
      "Anthony Davis,36.9,NO,PF,0.598,14.3,6.7,29.3,10.0,27.7,19.1,31.09,3.93,3.24,7.17\r\n",
      "Paul George,35.7,OKC,SF,0.574,13.0,9.0,29.6,4.3,19.3,11.7,23.29,3.82,2.85,6.67\r\n",
      "Nikola Jokic,31.3,DEN,C,0.5870000000000001,27.6,12.0,29.1,9.7,25.6,17.6,26.09,4.46,1.83,6.29\r\n",
      "Kyrie Irving,32.1,BOS,PG,0.5920000000000001,22.9,8.9,29.9,3.8,12.2,8.0,24.55,4.6,0.92,5.52\r\n"
     ]
    }
   ],
   "source": [
    "!cat ../data/advanced_metrics.csv | head -n 6"
   ]
  },
  {
   "cell_type": "markdown",
   "metadata": {},
   "source": [
    "There are a variety of ways to loading data into a DataFrame, a few of which we will cover in later sections. We  use the `read_csv()` method here, which takes a filename string as a parameter:"
   ]
  },
  {
   "cell_type": "code",
   "execution_count": 3,
   "metadata": {},
   "outputs": [
    {
     "data": {
      "text/plain": [
       "pandas.core.frame.DataFrame"
      ]
     },
     "execution_count": 3,
     "metadata": {},
     "output_type": "execute_result"
    }
   ],
   "source": [
    "df = pd.read_csv(\"../data/advanced_metrics.csv\")\n",
    "type(df)"
   ]
  },
  {
   "cell_type": "markdown",
   "metadata": {},
   "source": [
    "#### Quick Peek into DataFrame Functionality"
   ]
  },
  {
   "cell_type": "markdown",
   "metadata": {},
   "source": [
    "Before diving into technical details of what a DataFrame is, let's  first take a quick peek at some of the things we can do with our DataFrame. <br><br> The `head()` method prints the DataFrame's first 5 rows:"
   ]
  },
  {
   "cell_type": "code",
   "execution_count": 4,
   "metadata": {},
   "outputs": [
    {
     "data": {
      "text/html": [
       "<div>\n",
       "<style scoped>\n",
       "    .dataframe tbody tr th:only-of-type {\n",
       "        vertical-align: middle;\n",
       "    }\n",
       "\n",
       "    .dataframe tbody tr th {\n",
       "        vertical-align: top;\n",
       "    }\n",
       "\n",
       "    .dataframe thead th {\n",
       "        text-align: right;\n",
       "    }\n",
       "</style>\n",
       "<table border=\"1\" class=\"dataframe\">\n",
       "  <thead>\n",
       "    <tr style=\"text-align: right;\">\n",
       "      <th></th>\n",
       "      <th>PLAYER</th>\n",
       "      <th>MPG</th>\n",
       "      <th>TEAM</th>\n",
       "      <th>POS</th>\n",
       "      <th>TS%</th>\n",
       "      <th>AST</th>\n",
       "      <th>TO</th>\n",
       "      <th>USG</th>\n",
       "      <th>ORR</th>\n",
       "      <th>DRR</th>\n",
       "      <th>REBR</th>\n",
       "      <th>PER</th>\n",
       "      <th>ORPM</th>\n",
       "      <th>DRPM</th>\n",
       "      <th>RPM</th>\n",
       "    </tr>\n",
       "  </thead>\n",
       "  <tbody>\n",
       "    <tr>\n",
       "      <th>0</th>\n",
       "      <td>James Harden</td>\n",
       "      <td>37.1</td>\n",
       "      <td>HOU</td>\n",
       "      <td>PG</td>\n",
       "      <td>0.622</td>\n",
       "      <td>20.8</td>\n",
       "      <td>13.5</td>\n",
       "      <td>40.0</td>\n",
       "      <td>2.1</td>\n",
       "      <td>17.0</td>\n",
       "      <td>9.3</td>\n",
       "      <td>29.21</td>\n",
       "      <td>7.76</td>\n",
       "      <td>-0.06</td>\n",
       "      <td>7.70</td>\n",
       "    </tr>\n",
       "    <tr>\n",
       "      <th>1</th>\n",
       "      <td>Anthony Davis</td>\n",
       "      <td>36.9</td>\n",
       "      <td>NO</td>\n",
       "      <td>PF</td>\n",
       "      <td>0.598</td>\n",
       "      <td>14.3</td>\n",
       "      <td>6.7</td>\n",
       "      <td>29.3</td>\n",
       "      <td>10.0</td>\n",
       "      <td>27.7</td>\n",
       "      <td>19.1</td>\n",
       "      <td>31.09</td>\n",
       "      <td>3.93</td>\n",
       "      <td>3.24</td>\n",
       "      <td>7.17</td>\n",
       "    </tr>\n",
       "    <tr>\n",
       "      <th>2</th>\n",
       "      <td>Paul George</td>\n",
       "      <td>35.7</td>\n",
       "      <td>OKC</td>\n",
       "      <td>SF</td>\n",
       "      <td>0.574</td>\n",
       "      <td>13.0</td>\n",
       "      <td>9.0</td>\n",
       "      <td>29.6</td>\n",
       "      <td>4.3</td>\n",
       "      <td>19.3</td>\n",
       "      <td>11.7</td>\n",
       "      <td>23.29</td>\n",
       "      <td>3.82</td>\n",
       "      <td>2.85</td>\n",
       "      <td>6.67</td>\n",
       "    </tr>\n",
       "    <tr>\n",
       "      <th>3</th>\n",
       "      <td>Nikola Jokic</td>\n",
       "      <td>31.3</td>\n",
       "      <td>DEN</td>\n",
       "      <td>C</td>\n",
       "      <td>0.587</td>\n",
       "      <td>27.6</td>\n",
       "      <td>12.0</td>\n",
       "      <td>29.1</td>\n",
       "      <td>9.7</td>\n",
       "      <td>25.6</td>\n",
       "      <td>17.6</td>\n",
       "      <td>26.09</td>\n",
       "      <td>4.46</td>\n",
       "      <td>1.83</td>\n",
       "      <td>6.29</td>\n",
       "    </tr>\n",
       "    <tr>\n",
       "      <th>4</th>\n",
       "      <td>Kyrie Irving</td>\n",
       "      <td>32.1</td>\n",
       "      <td>BOS</td>\n",
       "      <td>PG</td>\n",
       "      <td>0.592</td>\n",
       "      <td>22.9</td>\n",
       "      <td>8.9</td>\n",
       "      <td>29.9</td>\n",
       "      <td>3.8</td>\n",
       "      <td>12.2</td>\n",
       "      <td>8.0</td>\n",
       "      <td>24.55</td>\n",
       "      <td>4.60</td>\n",
       "      <td>0.92</td>\n",
       "      <td>5.52</td>\n",
       "    </tr>\n",
       "  </tbody>\n",
       "</table>\n",
       "</div>"
      ],
      "text/plain": [
       "          PLAYER   MPG TEAM POS    TS%   AST    TO   USG   ORR   DRR  REBR  \\\n",
       "0   James Harden  37.1  HOU  PG  0.622  20.8  13.5  40.0   2.1  17.0   9.3   \n",
       "1  Anthony Davis  36.9   NO  PF  0.598  14.3   6.7  29.3  10.0  27.7  19.1   \n",
       "2    Paul George  35.7  OKC  SF  0.574  13.0   9.0  29.6   4.3  19.3  11.7   \n",
       "3   Nikola Jokic  31.3  DEN   C  0.587  27.6  12.0  29.1   9.7  25.6  17.6   \n",
       "4   Kyrie Irving  32.1  BOS  PG  0.592  22.9   8.9  29.9   3.8  12.2   8.0   \n",
       "\n",
       "     PER  ORPM  DRPM   RPM  \n",
       "0  29.21  7.76 -0.06  7.70  \n",
       "1  31.09  3.93  3.24  7.17  \n",
       "2  23.29  3.82  2.85  6.67  \n",
       "3  26.09  4.46  1.83  6.29  \n",
       "4  24.55  4.60  0.92  5.52  "
      ]
     },
     "execution_count": 4,
     "metadata": {},
     "output_type": "execute_result"
    }
   ],
   "source": [
    "df.head()"
   ]
  },
  {
   "cell_type": "markdown",
   "metadata": {},
   "source": [
    "The `shape` property tells us our DataFrame has 343 rows and 15 columns, respectively:"
   ]
  },
  {
   "cell_type": "code",
   "execution_count": 5,
   "metadata": {},
   "outputs": [
    {
     "data": {
      "text/plain": [
       "(343, 15)"
      ]
     },
     "execution_count": 5,
     "metadata": {},
     "output_type": "execute_result"
    }
   ],
   "source": [
    "df.shape"
   ]
  },
  {
   "cell_type": "markdown",
   "metadata": {},
   "source": [
    "The `describe()` method gives us a quick summary of our data:"
   ]
  },
  {
   "cell_type": "code",
   "execution_count": 6,
   "metadata": {
    "scrolled": true
   },
   "outputs": [
    {
     "data": {
      "text/html": [
       "<div>\n",
       "<style scoped>\n",
       "    .dataframe tbody tr th:only-of-type {\n",
       "        vertical-align: middle;\n",
       "    }\n",
       "\n",
       "    .dataframe tbody tr th {\n",
       "        vertical-align: top;\n",
       "    }\n",
       "\n",
       "    .dataframe thead th {\n",
       "        text-align: right;\n",
       "    }\n",
       "</style>\n",
       "<table border=\"1\" class=\"dataframe\">\n",
       "  <thead>\n",
       "    <tr style=\"text-align: right;\">\n",
       "      <th></th>\n",
       "      <th>MPG</th>\n",
       "      <th>TS%</th>\n",
       "      <th>AST</th>\n",
       "      <th>TO</th>\n",
       "      <th>USG</th>\n",
       "      <th>ORR</th>\n",
       "      <th>DRR</th>\n",
       "      <th>REBR</th>\n",
       "      <th>PER</th>\n",
       "      <th>ORPM</th>\n",
       "      <th>DRPM</th>\n",
       "      <th>RPM</th>\n",
       "    </tr>\n",
       "  </thead>\n",
       "  <tbody>\n",
       "    <tr>\n",
       "      <th>count</th>\n",
       "      <td>343.0</td>\n",
       "      <td>343.0</td>\n",
       "      <td>343.0</td>\n",
       "      <td>343.0</td>\n",
       "      <td>343.0</td>\n",
       "      <td>343.0</td>\n",
       "      <td>343.0</td>\n",
       "      <td>343.0</td>\n",
       "      <td>343.0</td>\n",
       "      <td>343.0</td>\n",
       "      <td>343.0</td>\n",
       "      <td>343.0</td>\n",
       "    </tr>\n",
       "    <tr>\n",
       "      <th>mean</th>\n",
       "      <td>23.9</td>\n",
       "      <td>0.6</td>\n",
       "      <td>16.9</td>\n",
       "      <td>10.2</td>\n",
       "      <td>19.2</td>\n",
       "      <td>4.7</td>\n",
       "      <td>15.2</td>\n",
       "      <td>9.9</td>\n",
       "      <td>14.4</td>\n",
       "      <td>-0.3</td>\n",
       "      <td>-0.0</td>\n",
       "      <td>-0.4</td>\n",
       "    </tr>\n",
       "    <tr>\n",
       "      <th>std</th>\n",
       "      <td>7.1</td>\n",
       "      <td>0.1</td>\n",
       "      <td>7.6</td>\n",
       "      <td>2.6</td>\n",
       "      <td>5.4</td>\n",
       "      <td>3.8</td>\n",
       "      <td>6.3</td>\n",
       "      <td>4.7</td>\n",
       "      <td>4.8</td>\n",
       "      <td>1.8</td>\n",
       "      <td>1.5</td>\n",
       "      <td>2.3</td>\n",
       "    </tr>\n",
       "    <tr>\n",
       "      <th>min</th>\n",
       "      <td>9.3</td>\n",
       "      <td>0.4</td>\n",
       "      <td>3.5</td>\n",
       "      <td>1.8</td>\n",
       "      <td>8.2</td>\n",
       "      <td>0.2</td>\n",
       "      <td>4.5</td>\n",
       "      <td>3.2</td>\n",
       "      <td>4.7</td>\n",
       "      <td>-4.0</td>\n",
       "      <td>-4.4</td>\n",
       "      <td>-7.2</td>\n",
       "    </tr>\n",
       "    <tr>\n",
       "      <th>25%</th>\n",
       "      <td>17.9</td>\n",
       "      <td>0.5</td>\n",
       "      <td>11.2</td>\n",
       "      <td>8.5</td>\n",
       "      <td>15.1</td>\n",
       "      <td>2.0</td>\n",
       "      <td>10.2</td>\n",
       "      <td>6.3</td>\n",
       "      <td>11.3</td>\n",
       "      <td>-1.6</td>\n",
       "      <td>-1.0</td>\n",
       "      <td>-1.9</td>\n",
       "    </tr>\n",
       "    <tr>\n",
       "      <th>50%</th>\n",
       "      <td>24.4</td>\n",
       "      <td>0.6</td>\n",
       "      <td>15.6</td>\n",
       "      <td>10.1</td>\n",
       "      <td>18.2</td>\n",
       "      <td>3.3</td>\n",
       "      <td>13.6</td>\n",
       "      <td>8.6</td>\n",
       "      <td>13.6</td>\n",
       "      <td>-0.6</td>\n",
       "      <td>-0.1</td>\n",
       "      <td>-0.6</td>\n",
       "    </tr>\n",
       "    <tr>\n",
       "      <th>75%</th>\n",
       "      <td>29.6</td>\n",
       "      <td>0.6</td>\n",
       "      <td>21.0</td>\n",
       "      <td>11.9</td>\n",
       "      <td>22.7</td>\n",
       "      <td>6.5</td>\n",
       "      <td>18.6</td>\n",
       "      <td>12.6</td>\n",
       "      <td>17.2</td>\n",
       "      <td>0.7</td>\n",
       "      <td>1.0</td>\n",
       "      <td>1.0</td>\n",
       "    </tr>\n",
       "    <tr>\n",
       "      <th>max</th>\n",
       "      <td>37.1</td>\n",
       "      <td>0.7</td>\n",
       "      <td>42.9</td>\n",
       "      <td>19.2</td>\n",
       "      <td>40.0</td>\n",
       "      <td>17.8</td>\n",
       "      <td>36.5</td>\n",
       "      <td>25.5</td>\n",
       "      <td>31.1</td>\n",
       "      <td>7.8</td>\n",
       "      <td>4.1</td>\n",
       "      <td>7.7</td>\n",
       "    </tr>\n",
       "  </tbody>\n",
       "</table>\n",
       "</div>"
      ],
      "text/plain": [
       "         MPG    TS%    AST     TO    USG    ORR    DRR   REBR    PER   ORPM  \\\n",
       "count  343.0  343.0  343.0  343.0  343.0  343.0  343.0  343.0  343.0  343.0   \n",
       "mean    23.9    0.6   16.9   10.2   19.2    4.7   15.2    9.9   14.4   -0.3   \n",
       "std      7.1    0.1    7.6    2.6    5.4    3.8    6.3    4.7    4.8    1.8   \n",
       "min      9.3    0.4    3.5    1.8    8.2    0.2    4.5    3.2    4.7   -4.0   \n",
       "25%     17.9    0.5   11.2    8.5   15.1    2.0   10.2    6.3   11.3   -1.6   \n",
       "50%     24.4    0.6   15.6   10.1   18.2    3.3   13.6    8.6   13.6   -0.6   \n",
       "75%     29.6    0.6   21.0   11.9   22.7    6.5   18.6   12.6   17.2    0.7   \n",
       "max     37.1    0.7   42.9   19.2   40.0   17.8   36.5   25.5   31.1    7.8   \n",
       "\n",
       "        DRPM    RPM  \n",
       "count  343.0  343.0  \n",
       "mean    -0.0   -0.4  \n",
       "std      1.5    2.3  \n",
       "min     -4.4   -7.2  \n",
       "25%     -1.0   -1.9  \n",
       "50%     -0.1   -0.6  \n",
       "75%      1.0    1.0  \n",
       "max      4.1    7.7  "
      ]
     },
     "execution_count": 6,
     "metadata": {},
     "output_type": "execute_result"
    }
   ],
   "source": [
    "df.describe().round(decimals=1)"
   ]
  },
  {
   "cell_type": "markdown",
   "metadata": {},
   "source": [
    "The cells above demonstrate that we can loosely describe a DataFrame as a structure equipped with numerous methods for working with tabular data. Let's now turn to two of the DataFrame's underlying structures, the **Series** and the **Index**. Becoming familiar with them will paint a clearer picture of what a DataFrame is, and help us build the necessary groundwork to work with pandas effectively."
   ]
  },
  {
   "cell_type": "markdown",
   "metadata": {},
   "source": [
    "---"
   ]
  },
  {
   "cell_type": "markdown",
   "metadata": {},
   "source": [
    "### The DataFrame: A Labeled Container"
   ]
  },
  {
   "cell_type": "markdown",
   "metadata": {},
   "source": [
    "A DataFrame is also described as a \"labeled container\" for tabular data. The first level of labels are the columns - we can use column names to select data for a column in our DataFrame the same way we would select a value in a Python dictionary using a key. Let's start with RPM: \n",
    "\n",
    "Note: selecting data will be covered much more in depth in the next section."
   ]
  },
  {
   "cell_type": "code",
   "execution_count": 7,
   "metadata": {
    "scrolled": false
   },
   "outputs": [
    {
     "data": {
      "text/plain": [
       "0      7.70\n",
       "1      7.17\n",
       "2      6.67\n",
       "3      6.29\n",
       "4      5.52\n",
       "       ... \n",
       "338   -5.30\n",
       "339   -5.59\n",
       "340   -6.02\n",
       "341   -6.14\n",
       "342   -7.17\n",
       "Name: RPM, Length: 343, dtype: float64"
      ]
     },
     "execution_count": 7,
     "metadata": {},
     "output_type": "execute_result"
    }
   ],
   "source": [
    "df['RPM']"
   ]
  },
  {
   "cell_type": "markdown",
   "metadata": {},
   "source": [
    "We can see from the output our dataset is already sorted in terms of descending RPM values. However, there's one slight problem: it isn't immeadiately clear which player each data point corresponds to - all we see is a column with numbers from 0 to 342 to the left."
   ]
  },
  {
   "cell_type": "markdown",
   "metadata": {},
   "source": [
    "Fortunately, this is easy to fix."
   ]
  },
  {
   "cell_type": "markdown",
   "metadata": {},
   "source": [
    "### The Index"
   ]
  },
  {
   "cell_type": "markdown",
   "metadata": {},
   "source": [
    "The second level of labeling in a DataFrame are the rows. Every row in a DataFrame has a \"name\", which are formally referred to as **labels**. Collectively, these labels are known as an **Index**, and can be accessed through the DataFrame's `.index` property. We didn't specify how we wanted to label our rows when we created our DataFrame, so the index we see is the one pandas created one for us, ranging from 0 to the number of rows in our data."
   ]
  },
  {
   "cell_type": "code",
   "execution_count": 8,
   "metadata": {
    "scrolled": true
   },
   "outputs": [
    {
     "data": {
      "text/plain": [
       "RangeIndex(start=0, stop=343, step=1)"
      ]
     },
     "execution_count": 8,
     "metadata": {},
     "output_type": "execute_result"
    }
   ],
   "source": [
    "df.index"
   ]
  },
  {
   "cell_type": "markdown",
   "metadata": {},
   "source": [
    "Although they can be anything we want them to be, the labels of an Index often come from a column in the original dataset. Let's now go ahead and reload our DataFrame with the `index_col` parameter set to the first column, the \"Player\" column:"
   ]
  },
  {
   "cell_type": "code",
   "execution_count": 9,
   "metadata": {},
   "outputs": [
    {
     "data": {
      "text/plain": [
       "Index(['James Harden', 'Anthony Davis', 'Paul George', 'Nikola Jokic',\n",
       "       'Kyrie Irving', 'Stephen Curry', 'Nikola Vucevic', 'Kyle Lowry',\n",
       "       'LeBron James', 'Giannis Antetokounmpo',\n",
       "       ...\n",
       "       'Mo Bamba', 'Avery Bradley', 'Jonathon Simmons', 'Antonio Blakeney',\n",
       "       'Cedi Osman', 'Allonzo Trier', 'Frank Ntilikina', 'Kevin Knox',\n",
       "       'Jamal Crawford', 'Collin Sexton'],\n",
       "      dtype='object', name='PLAYER', length=343)"
      ]
     },
     "execution_count": 9,
     "metadata": {},
     "output_type": "execute_result"
    }
   ],
   "source": [
    "df_with_index = pd.read_csv(\"../data/advanced_metrics.csv\", index_col=0)\n",
    "df_with_index.index"
   ]
  },
  {
   "cell_type": "markdown",
   "metadata": {},
   "source": [
    "Now, when we select RPM again, we see the corresponding player names in the output, which is much more useful:"
   ]
  },
  {
   "cell_type": "code",
   "execution_count": 10,
   "metadata": {},
   "outputs": [
    {
     "data": {
      "text/plain": [
       "PLAYER\n",
       "James Harden       7.70\n",
       "Anthony Davis      7.17\n",
       "Paul George        6.67\n",
       "Nikola Jokic       6.29\n",
       "Kyrie Irving       5.52\n",
       "                   ... \n",
       "Allonzo Trier     -5.30\n",
       "Frank Ntilikina   -5.59\n",
       "Kevin Knox        -6.02\n",
       "Jamal Crawford    -6.14\n",
       "Collin Sexton     -7.17\n",
       "Name: RPM, Length: 343, dtype: float64"
      ]
     },
     "execution_count": 10,
     "metadata": {},
     "output_type": "execute_result"
    }
   ],
   "source": [
    "df_with_index['RPM']"
   ]
  },
  {
   "cell_type": "markdown",
   "metadata": {},
   "source": [
    "Got to love the Young Bull Collin Sexton, the number 8 overall draft pick, coming in last place!"
   ]
  },
  {
   "cell_type": "markdown",
   "metadata": {},
   "source": [
    "### Columns"
   ]
  },
  {
   "cell_type": "markdown",
   "metadata": {},
   "source": [
    "The column names of our Dataframe are also stored in an index data structure, which we can see by accessing the `columns` attribute:"
   ]
  },
  {
   "cell_type": "code",
   "execution_count": 11,
   "metadata": {},
   "outputs": [
    {
     "data": {
      "text/plain": [
       "Index(['PLAYER', 'MPG', 'TEAM', 'POS', 'TS%', 'AST', 'TO', 'USG', 'ORR', 'DRR',\n",
       "       'REBR', 'PER', 'ORPM', 'DRPM', 'RPM'],\n",
       "      dtype='object')"
      ]
     },
     "execution_count": 11,
     "metadata": {},
     "output_type": "execute_result"
    }
   ],
   "source": [
    "df.columns"
   ]
  },
  {
   "cell_type": "markdown",
   "metadata": {},
   "source": [
    "Because they are stored in an Index, columm names can also be referred to as labels. However, \"the index\" of a DataFrame always refers to the index which labels the rows."
   ]
  },
  {
   "cell_type": "markdown",
   "metadata": {},
   "source": [
    "### Each Column is a Series"
   ]
  },
  {
   "cell_type": "markdown",
   "metadata": {},
   "source": [
    "The data associated with each of these column labels have the data type **Series**, which is another pandas data object:"
   ]
  },
  {
   "cell_type": "code",
   "execution_count": 12,
   "metadata": {},
   "outputs": [
    {
     "data": {
      "text/plain": [
       "pandas.core.series.Series"
      ]
     },
     "execution_count": 12,
     "metadata": {},
     "output_type": "execute_result"
    }
   ],
   "source": [
    "rpm = df_with_index['RPM']\n",
    "type(rpm)"
   ]
  },
  {
   "cell_type": "markdown",
   "metadata": {},
   "source": [
    "A Series is a one-dimensional labeled list of data values, where each \"row\" has a label. You'll notice these labels are the exactly the same as the index labels in our original DataFrame."
   ]
  },
  {
   "cell_type": "code",
   "execution_count": 17,
   "metadata": {},
   "outputs": [
    {
     "data": {
      "text/plain": [
       "PLAYER\n",
       "James Harden       7.70\n",
       "Anthony Davis      7.17\n",
       "Paul George        6.67\n",
       "Nikola Jokic       6.29\n",
       "Kyrie Irving       5.52\n",
       "                   ... \n",
       "Allonzo Trier     -5.30\n",
       "Frank Ntilikina   -5.59\n",
       "Kevin Knox        -6.02\n",
       "Jamal Crawford    -6.14\n",
       "Collin Sexton     -7.17\n",
       "Name: RPM, Length: 343, dtype: float64"
      ]
     },
     "execution_count": 17,
     "metadata": {},
     "output_type": "execute_result"
    }
   ],
   "source": [
    "rpm"
   ]
  },
  {
   "cell_type": "markdown",
   "metadata": {},
   "source": [
    "Like the DataFrame, these labels can be accessed through the `.index` property."
   ]
  },
  {
   "cell_type": "code",
   "execution_count": 13,
   "metadata": {},
   "outputs": [
    {
     "data": {
      "text/plain": [
       "Index(['James Harden', 'Anthony Davis', 'Paul George', 'Nikola Jokic',\n",
       "       'Kyrie Irving', 'Stephen Curry', 'Nikola Vucevic', 'Kyle Lowry',\n",
       "       'LeBron James', 'Giannis Antetokounmpo',\n",
       "       ...\n",
       "       'Mo Bamba', 'Avery Bradley', 'Jonathon Simmons', 'Antonio Blakeney',\n",
       "       'Cedi Osman', 'Allonzo Trier', 'Frank Ntilikina', 'Kevin Knox',\n",
       "       'Jamal Crawford', 'Collin Sexton'],\n",
       "      dtype='object', name='PLAYER', length=343)"
      ]
     },
     "execution_count": 13,
     "metadata": {},
     "output_type": "execute_result"
    }
   ],
   "source": [
    "rpm.index"
   ]
  },
  {
   "cell_type": "markdown",
   "metadata": {},
   "source": [
    " A Series also has a name, which was the name of the column in our original DataFrame."
   ]
  },
  {
   "cell_type": "code",
   "execution_count": 14,
   "metadata": {},
   "outputs": [
    {
     "data": {
      "text/plain": [
       "'RPM'"
      ]
     },
     "execution_count": 14,
     "metadata": {},
     "output_type": "execute_result"
    }
   ],
   "source": [
    "rpm.name"
   ]
  },
  {
   "cell_type": "markdown",
   "metadata": {},
   "source": [
    "These observations leads to a more precise description of a DataFrame: a DataFrame is a group of equal length Series objects, glued together by a shared index. The names of the Series objects are the columns of the DataFrame."
   ]
  },
  {
   "cell_type": "markdown",
   "metadata": {},
   "source": [
    "<img src=\"../monodraw/dataframe.png\" width='85%' margin=\"0 auto\" >"
   ]
  },
  {
   "cell_type": "markdown",
   "metadata": {},
   "source": [
    "### Recap"
   ]
  },
  {
   "cell_type": "markdown",
   "metadata": {},
   "source": [
    "The above sections illustrate the concept of a \"labeled container\" for tabular data. Thanks to spreadsheets and database tables, we're already familiar with the idea of labeled columns of data. But each row of a DataFrame also has a label, which taken together, are known as the DataFrame's index. This has some important consequences, one of which we'll see below."
   ]
  },
  {
   "cell_type": "markdown",
   "metadata": {},
   "source": [
    "Let's now take a quick look at how RPM and PER vary for players across the league:"
   ]
  },
  {
   "cell_type": "markdown",
   "metadata": {},
   "source": [
    "### Why is the Index Important?"
   ]
  },
  {
   "cell_type": "markdown",
   "metadata": {},
   "source": [
    "Aside from labeling rows of data, a DataFrame's index has many other important functions. For example, the index determines how data is visualized.\n",
    "\n",
    "As I mentioned in the introduction to this tutorial series, pandas is popular because it simplifies data analysis. Case in point: it only takes a few lines of code to produce a chart showing the distribution of RPM across the league:"
   ]
  },
  {
   "cell_type": "code",
   "execution_count": 15,
   "metadata": {},
   "outputs": [
    {
     "data": {
      "text/plain": [
       "<matplotlib.axes._subplots.AxesSubplot at 0x11beb9e48>"
      ]
     },
     "execution_count": 15,
     "metadata": {},
     "output_type": "execute_result"
    },
    {
     "data": {
      "image/png": "[encoded data removed]",
      "text/plain": [
       "<Figure size 432x288 with 1 Axes>"
      ]
     },
     "metadata": {
      "needs_background": "light"
     },
     "output_type": "display_data"
    }
   ],
   "source": [
    "import matplotlib.pyplot as plt\n",
    "%matplotlib inline\n",
    "\n",
    "rpm.plot()"
   ]
  },
  {
   "cell_type": "markdown",
   "metadata": {},
   "source": [
    "Producing the same chart for PER is a little bit more invovled, since we want to first sort our values to get the same type of curve:"
   ]
  },
  {
   "cell_type": "code",
   "execution_count": 16,
   "metadata": {},
   "outputs": [
    {
     "data": {
      "text/plain": [
       "<matplotlib.axes._subplots.AxesSubplot at 0x11b1fc358>"
      ]
     },
     "execution_count": 16,
     "metadata": {},
     "output_type": "execute_result"
    },
    {
     "data": {
      "image/png": "[encoded data removed]",
      "text/plain": [
       "<Figure size 432x288 with 1 Axes>"
      ]
     },
     "metadata": {
      "needs_background": "light"
     },
     "output_type": "display_data"
    }
   ],
   "source": [
    "df_with_index['PER'].sort_values(ascending=False).plot()"
   ]
  },
  {
   "cell_type": "markdown",
   "metadata": {},
   "source": [
    "Right off the bat, we can make a couple of observations. RPM has a symmetric distribution, which makes sense because it is rooted in point-differential data, and the point differiential across the entire league is 0. PER is much less symmetric, and it looks as if differences in production (as measured by PER) is much more pronounced at the top of the league than it is at the bottom. Pandas made the above analysis simple. "
   ]
  },
  {
   "cell_type": "markdown",
   "metadata": {},
   "source": [
    "But taking advantage of this simplicity requires pre-requisite knowledge. The above visual was so easy to create because under the hood, pandas used our series's index labels (the player names) as the x-axis values of our plot. Pandas is full of subtle details like this, which can equally annoying and confusing at times. But if you've made it this far, you're well on your way to understanding them."
   ]
  }
 ],
 "metadata": {
  "kernelspec": {
   "display_name": "Python 3",
   "language": "python",
   "name": "python3"
  },
  "language_info": {
   "codemirror_mode": {
    "name": "ipython",
    "version": 3
   },
   "file_extension": ".py",
   "mimetype": "text/x-python",
   "name": "python",
   "nbconvert_exporter": "python",
   "pygments_lexer": "ipython3",
   "version": "3.6.5"
  }
 },
 "nbformat": 4,
 "nbformat_minor": 2
}
