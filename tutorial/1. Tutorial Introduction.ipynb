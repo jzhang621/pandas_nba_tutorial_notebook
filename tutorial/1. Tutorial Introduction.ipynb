{
 "cells": [
  {
   "cell_type": "markdown",
   "metadata": {},
   "source": [
    "## Pandas for the NBA Lover \n",
    "## Tutorial Introduction"
   ]
  },
  {
   "cell_type": "markdown",
   "metadata": {},
   "source": [
    "#### TODO: touch on the methodology of the tutorial: focus less on one-off methods, and more on the underlying concepts and terms that power pandas."
   ]
  },
  {
   "cell_type": "markdown",
   "metadata": {},
   "source": [
    "In recent years, [pandas](https://www.pandas.pydata.com) has become the de-facto standard for analyzing data with Python. And for good reason: pandas is powerful, able to simplify data analysis by abstracting away many of its tedious details. The end result is a win for analysts, who are free to achieve their objectives quicker and with more ease."
   ]
  },
  {
   "cell_type": "markdown",
   "metadata": {},
   "source": [
    "Learning pandas can be a bit challenging - there are many concepts to learn, not to mention quirks to get used to. And while there is no shortage of excellent tutorials out there, I'm writing this one with a specific person in mind: the pandas learner who also loves the NBA. If this sounds like you, please keep reading! "
   ]
  },
  {
   "cell_type": "markdown",
   "metadata": {},
   "source": [
    "Each entry in this tutorial will begin with a question about the NBA. It will then explain a key concept of pandas by demonstrating how that concept can be used to examine and answer the question at hand. These concepts, and their associated NBA questions, are as follows: \n",
    "\n",
    "1. Introduction to Data Structures and Key Terms (assists to tov viz)\n",
    "2. Data types and Selecting data (milwaukee bucks style of play)\n",
    "3. Basics of Visualization (curry third rack)\n",
    "4. Data manipulation operations: apply, group by, merge, join, concatenate (make or miss percentage)"
   ]
  },
  {
   "cell_type": "markdown",
   "metadata": {},
   "source": [
    "As you work your way through this tutorial, you might notice a pattern. In particular, each entry will use pandas to perform three functions:\n",
    "\n",
    "1. <b>Loading Data</b>: We will be loading data from a variety of formats into a DataFrame, the library’s core data structure.\n",
    "\n",
    "2. <b>Analysis</b>: Once loaded, we will analyze the data using the DataFrame’s data analysis interface.\n",
    "\n",
    "3. <b>Visualization</b>: Finally, we will visualize insights using panda’s plotting layer."
   ]
  },
  {
   "cell_type": "markdown",
   "metadata": {},
   "source": [
    "We will see how pandas makes our lives easier by integrating all three functions into one convenient library, and by providing flexibile but powerful options for each function."
   ]
  },
  {
   "cell_type": "markdown",
   "metadata": {},
   "source": [
    "And with that in mind, we're ready dive right in! "
   ]
  },
  {
   "cell_type": "markdown",
   "metadata": {},
   "source": [
    "<div class=\"alert alert-info\">Credit where credit is due: the notebook-form of this tutorial is heavily \"borrowed\" from Julia Evans' fanastic <a href=\"http://nbviewer.jupyter.org/github/jvns/pandas-cookbook/tree/v0.2/cookbook/\">pandas cookbook</a>. Check out her <a href=\"https://jvns.ca/\">blog</a> for more content. In addition, most of the techincal information in this tutorial comes from the official <a href=\"https://pandas.pydata.org/pandas-docs/stable/index.html\">pandas documentation</a>.</div>"
   ]
  }
 ],
 "metadata": {
  "kernelspec": {
   "display_name": "Python 3",
   "language": "python",
   "name": "python3"
  },
  "language_info": {
   "codemirror_mode": {
    "name": "ipython",
    "version": 3
   },
   "file_extension": ".py",
   "mimetype": "text/x-python",
   "name": "python",
   "nbconvert_exporter": "python",
   "pygments_lexer": "ipython3",
   "version": "3.6.5"
  }
 },
 "nbformat": 4,
 "nbformat_minor": 2
}
