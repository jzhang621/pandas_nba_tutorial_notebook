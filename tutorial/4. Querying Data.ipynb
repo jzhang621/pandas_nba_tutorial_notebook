{
 "cells": [
  {
   "cell_type": "markdown",
   "metadata": {},
   "source": [
    "## Pandas for the NBA Lover\n",
    "## Querying and Augmenting DataFrames"
   ]
  },
  {
   "cell_type": "markdown",
   "metadata": {},
   "source": [
    "The methods for selecting data in the previous section all relied on some sort of *prior knoweldge*, in the form of either label names or positional indexes. In this section, we will first learn about **boolean indexing**, which we use to select all data matching a certain a condition. Those familiar with databases will recognize the similarity between boolean indexing and SQL queries, and for that reason, I will be referring to conditionally selecting data as a *query* from now on.\n",
    "\n",
    "We will then take the database context one step further and learn how to perform \"group by\" operations. Finally, we will these two concepts to gain some insight on how PER and RPM vary across positions."
   ]
  },
  {
   "cell_type": "markdown",
   "metadata": {},
   "source": [
    "---"
   ]
  },
  {
   "cell_type": "markdown",
   "metadata": {},
   "source": [
    "First, let's load our dataset, along with our typical configuration options:"
   ]
  },
  {
   "cell_type": "code",
   "execution_count": 1,
   "metadata": {},
   "outputs": [],
   "source": [
    "import pandas as pd\n",
    "import matplotlib.pyplot as plt\n",
    "%matplotlib inline\n",
    "\n",
    "# formatting options: \n",
    "pd.set_option('display.max_rows', 10)"
   ]
  },
  {
   "cell_type": "code",
   "execution_count": 2,
   "metadata": {},
   "outputs": [],
   "source": [
    "advanced = pd.read_csv(\"../data/advanced_metrics.csv\", index_col=0)"
   ]
  },
  {
   "cell_type": "markdown",
   "metadata": {},
   "source": [
    "Everything in this tutorial will focus on around answering the following questions related to PER. First, how does PER vary across positions? And second, are there positions which are more conducive to higher PER values?\n",
    "\n",
    "To answer these questions, we need to know how to query our data. In pandas, this is done through a mechanism called **boolean indexing**."
   ]
  },
  {
   "cell_type": "markdown",
   "metadata": {},
   "source": [
    "### Boolean Indexing"
   ]
  },
  {
   "cell_type": "markdown",
   "metadata": {},
   "source": [
    "We already touched on how to use the `[]` selector to select data by column labels. But we can also use the bracket selectors with a list of booleans, provided the length of the input list matches the number of rows in the DataFrame. When met with such an input, pandas will return only the rows with positional indexes that correspond with `True` values."
   ]
  },
  {
   "cell_type": "markdown",
   "metadata": {},
   "source": [
    "Here's a contrived example, using the first 5 rows of our DataFrame for brevity:"
   ]
  },
  {
   "cell_type": "code",
   "execution_count": 3,
   "metadata": {},
   "outputs": [
    {
     "data": {
      "text/html": [
       "<div>\n",
       "<style scoped>\n",
       "    .dataframe tbody tr th:only-of-type {\n",
       "        vertical-align: middle;\n",
       "    }\n",
       "\n",
       "    .dataframe tbody tr th {\n",
       "        vertical-align: top;\n",
       "    }\n",
       "\n",
       "    .dataframe thead th {\n",
       "        text-align: right;\n",
       "    }\n",
       "</style>\n",
       "<table border=\"1\" class=\"dataframe\">\n",
       "  <thead>\n",
       "    <tr style=\"text-align: right;\">\n",
       "      <th></th>\n",
       "      <th>MPG</th>\n",
       "      <th>TEAM</th>\n",
       "      <th>POS</th>\n",
       "      <th>TS%</th>\n",
       "      <th>AST</th>\n",
       "      <th>TO</th>\n",
       "      <th>USG</th>\n",
       "      <th>ORR</th>\n",
       "      <th>DRR</th>\n",
       "      <th>REBR</th>\n",
       "      <th>PER</th>\n",
       "      <th>ORPM</th>\n",
       "      <th>DRPM</th>\n",
       "      <th>RPM</th>\n",
       "    </tr>\n",
       "    <tr>\n",
       "      <th>PLAYER</th>\n",
       "      <th></th>\n",
       "      <th></th>\n",
       "      <th></th>\n",
       "      <th></th>\n",
       "      <th></th>\n",
       "      <th></th>\n",
       "      <th></th>\n",
       "      <th></th>\n",
       "      <th></th>\n",
       "      <th></th>\n",
       "      <th></th>\n",
       "      <th></th>\n",
       "      <th></th>\n",
       "      <th></th>\n",
       "    </tr>\n",
       "  </thead>\n",
       "  <tbody>\n",
       "    <tr>\n",
       "      <th>James Harden</th>\n",
       "      <td>37.1</td>\n",
       "      <td>HOU</td>\n",
       "      <td>PG</td>\n",
       "      <td>0.622</td>\n",
       "      <td>20.8</td>\n",
       "      <td>13.5</td>\n",
       "      <td>40.0</td>\n",
       "      <td>2.1</td>\n",
       "      <td>17.0</td>\n",
       "      <td>9.3</td>\n",
       "      <td>29.21</td>\n",
       "      <td>7.76</td>\n",
       "      <td>-0.06</td>\n",
       "      <td>7.70</td>\n",
       "    </tr>\n",
       "    <tr>\n",
       "      <th>Nikola Jokic</th>\n",
       "      <td>31.3</td>\n",
       "      <td>DEN</td>\n",
       "      <td>C</td>\n",
       "      <td>0.587</td>\n",
       "      <td>27.6</td>\n",
       "      <td>12.0</td>\n",
       "      <td>29.1</td>\n",
       "      <td>9.7</td>\n",
       "      <td>25.6</td>\n",
       "      <td>17.6</td>\n",
       "      <td>26.09</td>\n",
       "      <td>4.46</td>\n",
       "      <td>1.83</td>\n",
       "      <td>6.29</td>\n",
       "    </tr>\n",
       "    <tr>\n",
       "      <th>Kyrie Irving</th>\n",
       "      <td>32.1</td>\n",
       "      <td>BOS</td>\n",
       "      <td>PG</td>\n",
       "      <td>0.592</td>\n",
       "      <td>22.9</td>\n",
       "      <td>8.9</td>\n",
       "      <td>29.9</td>\n",
       "      <td>3.8</td>\n",
       "      <td>12.2</td>\n",
       "      <td>8.0</td>\n",
       "      <td>24.55</td>\n",
       "      <td>4.60</td>\n",
       "      <td>0.92</td>\n",
       "      <td>5.52</td>\n",
       "    </tr>\n",
       "  </tbody>\n",
       "</table>\n",
       "</div>"
      ],
      "text/plain": [
       "               MPG TEAM POS    TS%   AST    TO   USG  ORR   DRR  REBR    PER  \\\n",
       "PLAYER                                                                         \n",
       "James Harden  37.1  HOU  PG  0.622  20.8  13.5  40.0  2.1  17.0   9.3  29.21   \n",
       "Nikola Jokic  31.3  DEN   C  0.587  27.6  12.0  29.1  9.7  25.6  17.6  26.09   \n",
       "Kyrie Irving  32.1  BOS  PG  0.592  22.9   8.9  29.9  3.8  12.2   8.0  24.55   \n",
       "\n",
       "              ORPM  DRPM   RPM  \n",
       "PLAYER                          \n",
       "James Harden  7.76 -0.06  7.70  \n",
       "Nikola Jokic  4.46  1.83  6.29  \n",
       "Kyrie Irving  4.60  0.92  5.52  "
      ]
     },
     "execution_count": 3,
     "metadata": {},
     "output_type": "execute_result"
    }
   ],
   "source": [
    "advanced.head()[[True, False, False, True, True]]"
   ]
  },
  {
   "cell_type": "markdown",
   "metadata": {},
   "source": [
    "For more useful examples of boolean indexing (e.g. querying data), we need to first introduce the concept of vectorized operations."
   ]
  },
  {
   "cell_type": "markdown",
   "metadata": {},
   "source": [
    "### Vectorized Operations"
   ]
  },
  {
   "cell_type": "markdown",
   "metadata": {},
   "source": [
    "As some of you may know, when we multiply a Python list by an integer n, we get n copies of the list stuffed into one:"
   ]
  },
  {
   "cell_type": "code",
   "execution_count": 4,
   "metadata": {},
   "outputs": [
    {
     "data": {
      "text/plain": [
       "[1, 2, 3, 1, 2, 3, 1, 2, 3]"
      ]
     },
     "execution_count": 4,
     "metadata": {},
     "output_type": "execute_result"
    }
   ],
   "source": [
    "[1, 2, 3] * 3"
   ]
  },
  {
   "cell_type": "markdown",
   "metadata": {},
   "source": [
    "When we do the same with a DataFrame or a Series, however, **the operation applies to each row individually**. To demonstrate, we will by dividing the `MPG` column by 48, to get minutes played as a percentage value of a total game:"
   ]
  },
  {
   "cell_type": "code",
   "execution_count": 5,
   "metadata": {},
   "outputs": [
    {
     "data": {
      "text/plain": [
       "PLAYER\n",
       "James Harden       77.291667\n",
       "Anthony Davis      76.875000\n",
       "Paul George        74.375000\n",
       "Nikola Jokic       65.208333\n",
       "Kyrie Irving       66.875000\n",
       "                     ...    \n",
       "Allonzo Trier      46.041667\n",
       "Frank Ntilikina    43.958333\n",
       "Kevin Knox         55.416667\n",
       "Jamal Crawford     35.833333\n",
       "Collin Sexton      61.666667\n",
       "Name: MPG, Length: 343, dtype: float64"
      ]
     },
     "execution_count": 5,
     "metadata": {},
     "output_type": "execute_result"
    }
   ],
   "source": [
    "(advanced.MPG / 48) * 100"
   ]
  },
  {
   "cell_type": "markdown",
   "metadata": {},
   "source": [
    "Comparision operations that return booleans are also vectorized - for example, greater than:"
   ]
  },
  {
   "cell_type": "code",
   "execution_count": 6,
   "metadata": {
    "scrolled": true
   },
   "outputs": [
    {
     "data": {
      "text/plain": [
       "PLAYER\n",
       "James Harden        True\n",
       "Anthony Davis       True\n",
       "Paul George         True\n",
       "Nikola Jokic        True\n",
       "Kyrie Irving        True\n",
       "                   ...  \n",
       "Allonzo Trier      False\n",
       "Frank Ntilikina    False\n",
       "Kevin Knox         False\n",
       "Jamal Crawford     False\n",
       "Collin Sexton       True\n",
       "Name: USG, Length: 343, dtype: bool"
      ]
     },
     "execution_count": 6,
     "metadata": {},
     "output_type": "execute_result"
    }
   ],
   "source": [
    "advanced.USG > 25.0"
   ]
  },
  {
   "cell_type": "markdown",
   "metadata": {},
   "source": [
    "Or equal to:"
   ]
  },
  {
   "cell_type": "code",
   "execution_count": 7,
   "metadata": {},
   "outputs": [
    {
     "data": {
      "text/plain": [
       "PLAYER\n",
       "James Harden       False\n",
       "Anthony Davis      False\n",
       "Paul George        False\n",
       "Nikola Jokic        True\n",
       "Kyrie Irving       False\n",
       "                   ...  \n",
       "Allonzo Trier      False\n",
       "Frank Ntilikina    False\n",
       "Kevin Knox         False\n",
       "Jamal Crawford     False\n",
       "Collin Sexton      False\n",
       "Name: POS, Length: 343, dtype: bool"
      ]
     },
     "execution_count": 7,
     "metadata": {},
     "output_type": "execute_result"
    }
   ],
   "source": [
    "advanced.POS == 'C'"
   ]
  },
  {
   "cell_type": "markdown",
   "metadata": {},
   "source": [
    "### Querying DataFrames"
   ]
  },
  {
   "cell_type": "markdown",
   "metadata": {},
   "source": [
    "When we combine these vectorized operations with boolean indexing, we get the ability to query DataFrames. To query for all centers in our DataFrame, we can pass the vectorized output from above into the `[]` selector. \n",
    "\n",
    "For those familiar with SQL, this is equivalent to the query `select * from advanced where POS = \"C\"`"
   ]
  },
  {
   "cell_type": "code",
   "execution_count": 8,
   "metadata": {
    "scrolled": false
   },
   "outputs": [
    {
     "data": {
      "text/html": [
       "<div>\n",
       "<style scoped>\n",
       "    .dataframe tbody tr th:only-of-type {\n",
       "        vertical-align: middle;\n",
       "    }\n",
       "\n",
       "    .dataframe tbody tr th {\n",
       "        vertical-align: top;\n",
       "    }\n",
       "\n",
       "    .dataframe thead th {\n",
       "        text-align: right;\n",
       "    }\n",
       "</style>\n",
       "<table border=\"1\" class=\"dataframe\">\n",
       "  <thead>\n",
       "    <tr style=\"text-align: right;\">\n",
       "      <th></th>\n",
       "      <th>MPG</th>\n",
       "      <th>TEAM</th>\n",
       "      <th>POS</th>\n",
       "      <th>TS%</th>\n",
       "      <th>AST</th>\n",
       "      <th>TO</th>\n",
       "      <th>USG</th>\n",
       "      <th>ORR</th>\n",
       "      <th>DRR</th>\n",
       "      <th>REBR</th>\n",
       "      <th>PER</th>\n",
       "      <th>ORPM</th>\n",
       "      <th>DRPM</th>\n",
       "      <th>RPM</th>\n",
       "    </tr>\n",
       "    <tr>\n",
       "      <th>PLAYER</th>\n",
       "      <th></th>\n",
       "      <th></th>\n",
       "      <th></th>\n",
       "      <th></th>\n",
       "      <th></th>\n",
       "      <th></th>\n",
       "      <th></th>\n",
       "      <th></th>\n",
       "      <th></th>\n",
       "      <th></th>\n",
       "      <th></th>\n",
       "      <th></th>\n",
       "      <th></th>\n",
       "      <th></th>\n",
       "    </tr>\n",
       "  </thead>\n",
       "  <tbody>\n",
       "    <tr>\n",
       "      <th>Nikola Jokic</th>\n",
       "      <td>31.3</td>\n",
       "      <td>DEN</td>\n",
       "      <td>C</td>\n",
       "      <td>0.587</td>\n",
       "      <td>27.6</td>\n",
       "      <td>12.0</td>\n",
       "      <td>29.1</td>\n",
       "      <td>9.7</td>\n",
       "      <td>25.6</td>\n",
       "      <td>17.6</td>\n",
       "      <td>26.09</td>\n",
       "      <td>4.46</td>\n",
       "      <td>1.83</td>\n",
       "      <td>6.29</td>\n",
       "    </tr>\n",
       "    <tr>\n",
       "      <th>Nikola Vucevic</th>\n",
       "      <td>30.7</td>\n",
       "      <td>ORL</td>\n",
       "      <td>C</td>\n",
       "      <td>0.584</td>\n",
       "      <td>16.3</td>\n",
       "      <td>8.9</td>\n",
       "      <td>27.3</td>\n",
       "      <td>8.7</td>\n",
       "      <td>33.8</td>\n",
       "      <td>21.0</td>\n",
       "      <td>25.90</td>\n",
       "      <td>1.94</td>\n",
       "      <td>3.22</td>\n",
       "      <td>5.16</td>\n",
       "    </tr>\n",
       "    <tr>\n",
       "      <th>Jusuf Nurkic</th>\n",
       "      <td>27.0</td>\n",
       "      <td>POR</td>\n",
       "      <td>C</td>\n",
       "      <td>0.571</td>\n",
       "      <td>15.8</td>\n",
       "      <td>12.3</td>\n",
       "      <td>24.7</td>\n",
       "      <td>13.7</td>\n",
       "      <td>26.4</td>\n",
       "      <td>20.2</td>\n",
       "      <td>23.87</td>\n",
       "      <td>0.67</td>\n",
       "      <td>3.58</td>\n",
       "      <td>4.25</td>\n",
       "    </tr>\n",
       "    <tr>\n",
       "      <th>Rudy Gobert</th>\n",
       "      <td>31.4</td>\n",
       "      <td>UTAH</td>\n",
       "      <td>C</td>\n",
       "      <td>0.667</td>\n",
       "      <td>14.4</td>\n",
       "      <td>10.5</td>\n",
       "      <td>16.9</td>\n",
       "      <td>12.7</td>\n",
       "      <td>30.8</td>\n",
       "      <td>21.8</td>\n",
       "      <td>23.72</td>\n",
       "      <td>0.19</td>\n",
       "      <td>3.86</td>\n",
       "      <td>4.05</td>\n",
       "    </tr>\n",
       "    <tr>\n",
       "      <th>Marc Gasol</th>\n",
       "      <td>34.2</td>\n",
       "      <td>MEM</td>\n",
       "      <td>C</td>\n",
       "      <td>0.543</td>\n",
       "      <td>21.3</td>\n",
       "      <td>10.2</td>\n",
       "      <td>22.2</td>\n",
       "      <td>3.3</td>\n",
       "      <td>26.0</td>\n",
       "      <td>14.4</td>\n",
       "      <td>17.72</td>\n",
       "      <td>0.74</td>\n",
       "      <td>2.77</td>\n",
       "      <td>3.51</td>\n",
       "    </tr>\n",
       "    <tr>\n",
       "      <th>...</th>\n",
       "      <td>...</td>\n",
       "      <td>...</td>\n",
       "      <td>...</td>\n",
       "      <td>...</td>\n",
       "      <td>...</td>\n",
       "      <td>...</td>\n",
       "      <td>...</td>\n",
       "      <td>...</td>\n",
       "      <td>...</td>\n",
       "      <td>...</td>\n",
       "      <td>...</td>\n",
       "      <td>...</td>\n",
       "      <td>...</td>\n",
       "      <td>...</td>\n",
       "    </tr>\n",
       "    <tr>\n",
       "      <th>Ante Zizic</th>\n",
       "      <td>11.7</td>\n",
       "      <td>CLE</td>\n",
       "      <td>C</td>\n",
       "      <td>0.553</td>\n",
       "      <td>9.9</td>\n",
       "      <td>13.8</td>\n",
       "      <td>18.6</td>\n",
       "      <td>12.3</td>\n",
       "      <td>23.3</td>\n",
       "      <td>17.6</td>\n",
       "      <td>15.15</td>\n",
       "      <td>-2.41</td>\n",
       "      <td>0.67</td>\n",
       "      <td>-1.74</td>\n",
       "    </tr>\n",
       "    <tr>\n",
       "      <th>Gorgui Dieng</th>\n",
       "      <td>13.9</td>\n",
       "      <td>MIN</td>\n",
       "      <td>C</td>\n",
       "      <td>0.565</td>\n",
       "      <td>12.5</td>\n",
       "      <td>11.0</td>\n",
       "      <td>16.7</td>\n",
       "      <td>6.5</td>\n",
       "      <td>25.0</td>\n",
       "      <td>15.6</td>\n",
       "      <td>15.21</td>\n",
       "      <td>-2.03</td>\n",
       "      <td>0.26</td>\n",
       "      <td>-1.77</td>\n",
       "    </tr>\n",
       "    <tr>\n",
       "      <th>Robin Lopez</th>\n",
       "      <td>16.3</td>\n",
       "      <td>CHI</td>\n",
       "      <td>C</td>\n",
       "      <td>0.543</td>\n",
       "      <td>13.0</td>\n",
       "      <td>18.5</td>\n",
       "      <td>17.1</td>\n",
       "      <td>7.4</td>\n",
       "      <td>9.4</td>\n",
       "      <td>8.4</td>\n",
       "      <td>10.14</td>\n",
       "      <td>-3.41</td>\n",
       "      <td>0.90</td>\n",
       "      <td>-2.51</td>\n",
       "    </tr>\n",
       "    <tr>\n",
       "      <th>Greg Monroe</th>\n",
       "      <td>11.3</td>\n",
       "      <td>TOR</td>\n",
       "      <td>C</td>\n",
       "      <td>0.492</td>\n",
       "      <td>6.5</td>\n",
       "      <td>11.8</td>\n",
       "      <td>21.4</td>\n",
       "      <td>16.7</td>\n",
       "      <td>24.6</td>\n",
       "      <td>20.7</td>\n",
       "      <td>15.52</td>\n",
       "      <td>-3.12</td>\n",
       "      <td>0.37</td>\n",
       "      <td>-2.75</td>\n",
       "    </tr>\n",
       "    <tr>\n",
       "      <th>Mo Bamba</th>\n",
       "      <td>16.6</td>\n",
       "      <td>ORL</td>\n",
       "      <td>C</td>\n",
       "      <td>0.521</td>\n",
       "      <td>11.5</td>\n",
       "      <td>11.2</td>\n",
       "      <td>17.8</td>\n",
       "      <td>8.9</td>\n",
       "      <td>23.9</td>\n",
       "      <td>16.2</td>\n",
       "      <td>14.90</td>\n",
       "      <td>-3.67</td>\n",
       "      <td>-0.81</td>\n",
       "      <td>-4.48</td>\n",
       "    </tr>\n",
       "  </tbody>\n",
       "</table>\n",
       "<p>45 rows × 14 columns</p>\n",
       "</div>"
      ],
      "text/plain": [
       "                 MPG  TEAM POS    TS%   AST    TO   USG   ORR   DRR  REBR  \\\n",
       "PLAYER                                                                      \n",
       "Nikola Jokic    31.3   DEN   C  0.587  27.6  12.0  29.1   9.7  25.6  17.6   \n",
       "Nikola Vucevic  30.7   ORL   C  0.584  16.3   8.9  27.3   8.7  33.8  21.0   \n",
       "Jusuf Nurkic    27.0   POR   C  0.571  15.8  12.3  24.7  13.7  26.4  20.2   \n",
       "Rudy Gobert     31.4  UTAH   C  0.667  14.4  10.5  16.9  12.7  30.8  21.8   \n",
       "Marc Gasol      34.2   MEM   C  0.543  21.3  10.2  22.2   3.3  26.0  14.4   \n",
       "...              ...   ...  ..    ...   ...   ...   ...   ...   ...   ...   \n",
       "Ante Zizic      11.7   CLE   C  0.553   9.9  13.8  18.6  12.3  23.3  17.6   \n",
       "Gorgui Dieng    13.9   MIN   C  0.565  12.5  11.0  16.7   6.5  25.0  15.6   \n",
       "Robin Lopez     16.3   CHI   C  0.543  13.0  18.5  17.1   7.4   9.4   8.4   \n",
       "Greg Monroe     11.3   TOR   C  0.492   6.5  11.8  21.4  16.7  24.6  20.7   \n",
       "Mo Bamba        16.6   ORL   C  0.521  11.5  11.2  17.8   8.9  23.9  16.2   \n",
       "\n",
       "                  PER  ORPM  DRPM   RPM  \n",
       "PLAYER                                   \n",
       "Nikola Jokic    26.09  4.46  1.83  6.29  \n",
       "Nikola Vucevic  25.90  1.94  3.22  5.16  \n",
       "Jusuf Nurkic    23.87  0.67  3.58  4.25  \n",
       "Rudy Gobert     23.72  0.19  3.86  4.05  \n",
       "Marc Gasol      17.72  0.74  2.77  3.51  \n",
       "...               ...   ...   ...   ...  \n",
       "Ante Zizic      15.15 -2.41  0.67 -1.74  \n",
       "Gorgui Dieng    15.21 -2.03  0.26 -1.77  \n",
       "Robin Lopez     10.14 -3.41  0.90 -2.51  \n",
       "Greg Monroe     15.52 -3.12  0.37 -2.75  \n",
       "Mo Bamba        14.90 -3.67 -0.81 -4.48  \n",
       "\n",
       "[45 rows x 14 columns]"
      ]
     },
     "execution_count": 8,
     "metadata": {},
     "output_type": "execute_result"
    }
   ],
   "source": [
    "advanced[advanced.POS == 'C']"
   ]
  },
  {
   "cell_type": "markdown",
   "metadata": {},
   "source": [
    "#### Note\n",
    "You ay have noticed that the above input to the `[]` selector used a Series object, while the contrived example I introduced boolean indexing with used a list. Using Series objects as the input imposes one more requirement to how boolean indexing works - the index of the input Series and the DataFrame must match. This detail is often overlooked because the input Series is most often derived from a column in the original DataFrame. "
   ]
  },
  {
   "cell_type": "markdown",
   "metadata": {},
   "source": [
    "To query on multiple criteria, enclose each condition within parenthesis, and combine them with `&` (and) or `|` (or). We use `&` to query for all players with a Usage Rate higher than 25, and a True Shooting Percentage over 58%, which is quite an esteemed list:"
   ]
  },
  {
   "cell_type": "code",
   "execution_count": 9,
   "metadata": {},
   "outputs": [
    {
     "data": {
      "text/html": [
       "<div>\n",
       "<style scoped>\n",
       "    .dataframe tbody tr th:only-of-type {\n",
       "        vertical-align: middle;\n",
       "    }\n",
       "\n",
       "    .dataframe tbody tr th {\n",
       "        vertical-align: top;\n",
       "    }\n",
       "\n",
       "    .dataframe thead th {\n",
       "        text-align: right;\n",
       "    }\n",
       "</style>\n",
       "<table border=\"1\" class=\"dataframe\">\n",
       "  <thead>\n",
       "    <tr style=\"text-align: right;\">\n",
       "      <th></th>\n",
       "      <th>MPG</th>\n",
       "      <th>TEAM</th>\n",
       "      <th>POS</th>\n",
       "      <th>TS%</th>\n",
       "      <th>AST</th>\n",
       "      <th>TO</th>\n",
       "      <th>USG</th>\n",
       "      <th>ORR</th>\n",
       "      <th>DRR</th>\n",
       "      <th>REBR</th>\n",
       "      <th>PER</th>\n",
       "      <th>ORPM</th>\n",
       "      <th>DRPM</th>\n",
       "      <th>RPM</th>\n",
       "    </tr>\n",
       "    <tr>\n",
       "      <th>PLAYER</th>\n",
       "      <th></th>\n",
       "      <th></th>\n",
       "      <th></th>\n",
       "      <th></th>\n",
       "      <th></th>\n",
       "      <th></th>\n",
       "      <th></th>\n",
       "      <th></th>\n",
       "      <th></th>\n",
       "      <th></th>\n",
       "      <th></th>\n",
       "      <th></th>\n",
       "      <th></th>\n",
       "      <th></th>\n",
       "    </tr>\n",
       "  </thead>\n",
       "  <tbody>\n",
       "    <tr>\n",
       "      <th>James Harden</th>\n",
       "      <td>37.1</td>\n",
       "      <td>HOU</td>\n",
       "      <td>PG</td>\n",
       "      <td>0.622</td>\n",
       "      <td>20.8</td>\n",
       "      <td>13.5</td>\n",
       "      <td>40.0</td>\n",
       "      <td>2.1</td>\n",
       "      <td>17.0</td>\n",
       "      <td>9.3</td>\n",
       "      <td>29.21</td>\n",
       "      <td>7.76</td>\n",
       "      <td>-0.06</td>\n",
       "      <td>7.70</td>\n",
       "    </tr>\n",
       "    <tr>\n",
       "      <th>Anthony Davis</th>\n",
       "      <td>36.9</td>\n",
       "      <td>NO</td>\n",
       "      <td>PF</td>\n",
       "      <td>0.598</td>\n",
       "      <td>14.3</td>\n",
       "      <td>6.7</td>\n",
       "      <td>29.3</td>\n",
       "      <td>10.0</td>\n",
       "      <td>27.7</td>\n",
       "      <td>19.1</td>\n",
       "      <td>31.09</td>\n",
       "      <td>3.93</td>\n",
       "      <td>3.24</td>\n",
       "      <td>7.17</td>\n",
       "    </tr>\n",
       "    <tr>\n",
       "      <th>Nikola Jokic</th>\n",
       "      <td>31.3</td>\n",
       "      <td>DEN</td>\n",
       "      <td>C</td>\n",
       "      <td>0.587</td>\n",
       "      <td>27.6</td>\n",
       "      <td>12.0</td>\n",
       "      <td>29.1</td>\n",
       "      <td>9.7</td>\n",
       "      <td>25.6</td>\n",
       "      <td>17.6</td>\n",
       "      <td>26.09</td>\n",
       "      <td>4.46</td>\n",
       "      <td>1.83</td>\n",
       "      <td>6.29</td>\n",
       "    </tr>\n",
       "    <tr>\n",
       "      <th>Kyrie Irving</th>\n",
       "      <td>32.1</td>\n",
       "      <td>BOS</td>\n",
       "      <td>PG</td>\n",
       "      <td>0.592</td>\n",
       "      <td>22.9</td>\n",
       "      <td>8.9</td>\n",
       "      <td>29.9</td>\n",
       "      <td>3.8</td>\n",
       "      <td>12.2</td>\n",
       "      <td>8.0</td>\n",
       "      <td>24.55</td>\n",
       "      <td>4.60</td>\n",
       "      <td>0.92</td>\n",
       "      <td>5.52</td>\n",
       "    </tr>\n",
       "    <tr>\n",
       "      <th>Stephen Curry</th>\n",
       "      <td>34.5</td>\n",
       "      <td>GS</td>\n",
       "      <td>PG</td>\n",
       "      <td>0.656</td>\n",
       "      <td>18.2</td>\n",
       "      <td>10.2</td>\n",
       "      <td>31.1</td>\n",
       "      <td>2.2</td>\n",
       "      <td>13.6</td>\n",
       "      <td>8.1</td>\n",
       "      <td>25.96</td>\n",
       "      <td>5.15</td>\n",
       "      <td>0.12</td>\n",
       "      <td>5.27</td>\n",
       "    </tr>\n",
       "    <tr>\n",
       "      <th>...</th>\n",
       "      <td>...</td>\n",
       "      <td>...</td>\n",
       "      <td>...</td>\n",
       "      <td>...</td>\n",
       "      <td>...</td>\n",
       "      <td>...</td>\n",
       "      <td>...</td>\n",
       "      <td>...</td>\n",
       "      <td>...</td>\n",
       "      <td>...</td>\n",
       "      <td>...</td>\n",
       "      <td>...</td>\n",
       "      <td>...</td>\n",
       "      <td>...</td>\n",
       "    </tr>\n",
       "    <tr>\n",
       "      <th>Kawhi Leonard</th>\n",
       "      <td>34.6</td>\n",
       "      <td>TOR</td>\n",
       "      <td>SF</td>\n",
       "      <td>0.610</td>\n",
       "      <td>11.4</td>\n",
       "      <td>7.4</td>\n",
       "      <td>29.2</td>\n",
       "      <td>4.1</td>\n",
       "      <td>20.2</td>\n",
       "      <td>12.4</td>\n",
       "      <td>26.95</td>\n",
       "      <td>3.05</td>\n",
       "      <td>-0.18</td>\n",
       "      <td>2.87</td>\n",
       "    </tr>\n",
       "    <tr>\n",
       "      <th>Karl-Anthony Towns</th>\n",
       "      <td>33.6</td>\n",
       "      <td>MIN</td>\n",
       "      <td>C</td>\n",
       "      <td>0.597</td>\n",
       "      <td>12.0</td>\n",
       "      <td>11.8</td>\n",
       "      <td>26.9</td>\n",
       "      <td>10.8</td>\n",
       "      <td>29.3</td>\n",
       "      <td>19.9</td>\n",
       "      <td>24.24</td>\n",
       "      <td>1.68</td>\n",
       "      <td>1.09</td>\n",
       "      <td>2.77</td>\n",
       "    </tr>\n",
       "    <tr>\n",
       "      <th>Blake Griffin</th>\n",
       "      <td>36.1</td>\n",
       "      <td>DET</td>\n",
       "      <td>PF</td>\n",
       "      <td>0.594</td>\n",
       "      <td>17.2</td>\n",
       "      <td>12.3</td>\n",
       "      <td>30.2</td>\n",
       "      <td>3.6</td>\n",
       "      <td>22.2</td>\n",
       "      <td>12.4</td>\n",
       "      <td>21.44</td>\n",
       "      <td>2.24</td>\n",
       "      <td>0.30</td>\n",
       "      <td>2.54</td>\n",
       "    </tr>\n",
       "    <tr>\n",
       "      <th>Spencer Dinwiddie</th>\n",
       "      <td>28.5</td>\n",
       "      <td>BKN</td>\n",
       "      <td>PG</td>\n",
       "      <td>0.593</td>\n",
       "      <td>23.4</td>\n",
       "      <td>10.4</td>\n",
       "      <td>25.8</td>\n",
       "      <td>1.6</td>\n",
       "      <td>7.9</td>\n",
       "      <td>4.8</td>\n",
       "      <td>17.77</td>\n",
       "      <td>3.02</td>\n",
       "      <td>-3.26</td>\n",
       "      <td>-0.24</td>\n",
       "    </tr>\n",
       "    <tr>\n",
       "      <th>Julius Randle</th>\n",
       "      <td>29.5</td>\n",
       "      <td>NO</td>\n",
       "      <td>PF</td>\n",
       "      <td>0.610</td>\n",
       "      <td>13.2</td>\n",
       "      <td>11.4</td>\n",
       "      <td>26.1</td>\n",
       "      <td>8.5</td>\n",
       "      <td>24.8</td>\n",
       "      <td>16.8</td>\n",
       "      <td>21.83</td>\n",
       "      <td>1.35</td>\n",
       "      <td>-1.73</td>\n",
       "      <td>-0.38</td>\n",
       "    </tr>\n",
       "  </tbody>\n",
       "</table>\n",
       "<p>16 rows × 14 columns</p>\n",
       "</div>"
      ],
      "text/plain": [
       "                     MPG TEAM POS    TS%   AST    TO   USG   ORR   DRR  REBR  \\\n",
       "PLAYER                                                                         \n",
       "James Harden        37.1  HOU  PG  0.622  20.8  13.5  40.0   2.1  17.0   9.3   \n",
       "Anthony Davis       36.9   NO  PF  0.598  14.3   6.7  29.3  10.0  27.7  19.1   \n",
       "Nikola Jokic        31.3  DEN   C  0.587  27.6  12.0  29.1   9.7  25.6  17.6   \n",
       "Kyrie Irving        32.1  BOS  PG  0.592  22.9   8.9  29.9   3.8  12.2   8.0   \n",
       "Stephen Curry       34.5   GS  PG  0.656  18.2  10.2  31.1   2.2  13.6   8.1   \n",
       "...                  ...  ...  ..    ...   ...   ...   ...   ...   ...   ...   \n",
       "Kawhi Leonard       34.6  TOR  SF  0.610  11.4   7.4  29.2   4.1  20.2  12.4   \n",
       "Karl-Anthony Towns  33.6  MIN   C  0.597  12.0  11.8  26.9  10.8  29.3  19.9   \n",
       "Blake Griffin       36.1  DET  PF  0.594  17.2  12.3  30.2   3.6  22.2  12.4   \n",
       "Spencer Dinwiddie   28.5  BKN  PG  0.593  23.4  10.4  25.8   1.6   7.9   4.8   \n",
       "Julius Randle       29.5   NO  PF  0.610  13.2  11.4  26.1   8.5  24.8  16.8   \n",
       "\n",
       "                      PER  ORPM  DRPM   RPM  \n",
       "PLAYER                                       \n",
       "James Harden        29.21  7.76 -0.06  7.70  \n",
       "Anthony Davis       31.09  3.93  3.24  7.17  \n",
       "Nikola Jokic        26.09  4.46  1.83  6.29  \n",
       "Kyrie Irving        24.55  4.60  0.92  5.52  \n",
       "Stephen Curry       25.96  5.15  0.12  5.27  \n",
       "...                   ...   ...   ...   ...  \n",
       "Kawhi Leonard       26.95  3.05 -0.18  2.87  \n",
       "Karl-Anthony Towns  24.24  1.68  1.09  2.77  \n",
       "Blake Griffin       21.44  2.24  0.30  2.54  \n",
       "Spencer Dinwiddie   17.77  3.02 -3.26 -0.24  \n",
       "Julius Randle       21.83  1.35 -1.73 -0.38  \n",
       "\n",
       "[16 rows x 14 columns]"
      ]
     },
     "execution_count": 9,
     "metadata": {},
     "output_type": "execute_result"
    }
   ],
   "source": [
    "advanced[(advanced.USG > 25.0) & (advanced['TS%'] > .58)]"
   ]
  },
  {
   "cell_type": "markdown",
   "metadata": {},
   "source": [
    "Finally, we can use `|` in this fancy query to find all players in the 75th percentile or above for either RPM or PER:"
   ]
  },
  {
   "cell_type": "code",
   "execution_count": 10,
   "metadata": {},
   "outputs": [
    {
     "data": {
      "text/html": [
       "<div>\n",
       "<style scoped>\n",
       "    .dataframe tbody tr th:only-of-type {\n",
       "        vertical-align: middle;\n",
       "    }\n",
       "\n",
       "    .dataframe tbody tr th {\n",
       "        vertical-align: top;\n",
       "    }\n",
       "\n",
       "    .dataframe thead th {\n",
       "        text-align: right;\n",
       "    }\n",
       "</style>\n",
       "<table border=\"1\" class=\"dataframe\">\n",
       "  <thead>\n",
       "    <tr style=\"text-align: right;\">\n",
       "      <th></th>\n",
       "      <th>MPG</th>\n",
       "      <th>TEAM</th>\n",
       "      <th>POS</th>\n",
       "      <th>TS%</th>\n",
       "      <th>AST</th>\n",
       "      <th>TO</th>\n",
       "      <th>USG</th>\n",
       "      <th>ORR</th>\n",
       "      <th>DRR</th>\n",
       "      <th>REBR</th>\n",
       "      <th>PER</th>\n",
       "      <th>ORPM</th>\n",
       "      <th>DRPM</th>\n",
       "      <th>RPM</th>\n",
       "    </tr>\n",
       "    <tr>\n",
       "      <th>PLAYER</th>\n",
       "      <th></th>\n",
       "      <th></th>\n",
       "      <th></th>\n",
       "      <th></th>\n",
       "      <th></th>\n",
       "      <th></th>\n",
       "      <th></th>\n",
       "      <th></th>\n",
       "      <th></th>\n",
       "      <th></th>\n",
       "      <th></th>\n",
       "      <th></th>\n",
       "      <th></th>\n",
       "      <th></th>\n",
       "    </tr>\n",
       "  </thead>\n",
       "  <tbody>\n",
       "    <tr>\n",
       "      <th>James Harden</th>\n",
       "      <td>37.1</td>\n",
       "      <td>HOU</td>\n",
       "      <td>PG</td>\n",
       "      <td>0.622</td>\n",
       "      <td>20.8</td>\n",
       "      <td>13.5</td>\n",
       "      <td>40.0</td>\n",
       "      <td>2.1</td>\n",
       "      <td>17.0</td>\n",
       "      <td>9.3</td>\n",
       "      <td>29.21</td>\n",
       "      <td>7.76</td>\n",
       "      <td>-0.06</td>\n",
       "      <td>7.70</td>\n",
       "    </tr>\n",
       "    <tr>\n",
       "      <th>Anthony Davis</th>\n",
       "      <td>36.9</td>\n",
       "      <td>NO</td>\n",
       "      <td>PF</td>\n",
       "      <td>0.598</td>\n",
       "      <td>14.3</td>\n",
       "      <td>6.7</td>\n",
       "      <td>29.3</td>\n",
       "      <td>10.0</td>\n",
       "      <td>27.7</td>\n",
       "      <td>19.1</td>\n",
       "      <td>31.09</td>\n",
       "      <td>3.93</td>\n",
       "      <td>3.24</td>\n",
       "      <td>7.17</td>\n",
       "    </tr>\n",
       "    <tr>\n",
       "      <th>Paul George</th>\n",
       "      <td>35.7</td>\n",
       "      <td>OKC</td>\n",
       "      <td>SF</td>\n",
       "      <td>0.574</td>\n",
       "      <td>13.0</td>\n",
       "      <td>9.0</td>\n",
       "      <td>29.6</td>\n",
       "      <td>4.3</td>\n",
       "      <td>19.3</td>\n",
       "      <td>11.7</td>\n",
       "      <td>23.29</td>\n",
       "      <td>3.82</td>\n",
       "      <td>2.85</td>\n",
       "      <td>6.67</td>\n",
       "    </tr>\n",
       "    <tr>\n",
       "      <th>Nikola Jokic</th>\n",
       "      <td>31.3</td>\n",
       "      <td>DEN</td>\n",
       "      <td>C</td>\n",
       "      <td>0.587</td>\n",
       "      <td>27.6</td>\n",
       "      <td>12.0</td>\n",
       "      <td>29.1</td>\n",
       "      <td>9.7</td>\n",
       "      <td>25.6</td>\n",
       "      <td>17.6</td>\n",
       "      <td>26.09</td>\n",
       "      <td>4.46</td>\n",
       "      <td>1.83</td>\n",
       "      <td>6.29</td>\n",
       "    </tr>\n",
       "    <tr>\n",
       "      <th>Kyrie Irving</th>\n",
       "      <td>32.1</td>\n",
       "      <td>BOS</td>\n",
       "      <td>PG</td>\n",
       "      <td>0.592</td>\n",
       "      <td>22.9</td>\n",
       "      <td>8.9</td>\n",
       "      <td>29.9</td>\n",
       "      <td>3.8</td>\n",
       "      <td>12.2</td>\n",
       "      <td>8.0</td>\n",
       "      <td>24.55</td>\n",
       "      <td>4.60</td>\n",
       "      <td>0.92</td>\n",
       "      <td>5.52</td>\n",
       "    </tr>\n",
       "    <tr>\n",
       "      <th>...</th>\n",
       "      <td>...</td>\n",
       "      <td>...</td>\n",
       "      <td>...</td>\n",
       "      <td>...</td>\n",
       "      <td>...</td>\n",
       "      <td>...</td>\n",
       "      <td>...</td>\n",
       "      <td>...</td>\n",
       "      <td>...</td>\n",
       "      <td>...</td>\n",
       "      <td>...</td>\n",
       "      <td>...</td>\n",
       "      <td>...</td>\n",
       "      <td>...</td>\n",
       "    </tr>\n",
       "    <tr>\n",
       "      <th>Zach LaVine</th>\n",
       "      <td>34.1</td>\n",
       "      <td>CHI</td>\n",
       "      <td>PG</td>\n",
       "      <td>0.566</td>\n",
       "      <td>14.5</td>\n",
       "      <td>12.5</td>\n",
       "      <td>30.6</td>\n",
       "      <td>1.4</td>\n",
       "      <td>12.5</td>\n",
       "      <td>6.9</td>\n",
       "      <td>18.09</td>\n",
       "      <td>0.47</td>\n",
       "      <td>-1.85</td>\n",
       "      <td>-1.38</td>\n",
       "    </tr>\n",
       "    <tr>\n",
       "      <th>Tristan Thompson</th>\n",
       "      <td>29.8</td>\n",
       "      <td>CLE</td>\n",
       "      <td>C</td>\n",
       "      <td>0.553</td>\n",
       "      <td>15.6</td>\n",
       "      <td>10.5</td>\n",
       "      <td>17.6</td>\n",
       "      <td>16.3</td>\n",
       "      <td>26.0</td>\n",
       "      <td>20.9</td>\n",
       "      <td>19.20</td>\n",
       "      <td>-0.33</td>\n",
       "      <td>-1.15</td>\n",
       "      <td>-1.48</td>\n",
       "    </tr>\n",
       "    <tr>\n",
       "      <th>Enes Kanter</th>\n",
       "      <td>26.5</td>\n",
       "      <td>NY</td>\n",
       "      <td>C</td>\n",
       "      <td>0.593</td>\n",
       "      <td>12.3</td>\n",
       "      <td>11.6</td>\n",
       "      <td>22.1</td>\n",
       "      <td>15.3</td>\n",
       "      <td>28.6</td>\n",
       "      <td>21.6</td>\n",
       "      <td>22.43</td>\n",
       "      <td>-0.31</td>\n",
       "      <td>-1.26</td>\n",
       "      <td>-1.57</td>\n",
       "    </tr>\n",
       "    <tr>\n",
       "      <th>Jordan Clarkson</th>\n",
       "      <td>26.5</td>\n",
       "      <td>CLE</td>\n",
       "      <td>PG</td>\n",
       "      <td>0.543</td>\n",
       "      <td>11.4</td>\n",
       "      <td>8.6</td>\n",
       "      <td>28.5</td>\n",
       "      <td>3.9</td>\n",
       "      <td>10.3</td>\n",
       "      <td>7.0</td>\n",
       "      <td>17.90</td>\n",
       "      <td>0.68</td>\n",
       "      <td>-3.55</td>\n",
       "      <td>-2.87</td>\n",
       "    </tr>\n",
       "    <tr>\n",
       "      <th>Marvin Bagley III</th>\n",
       "      <td>23.0</td>\n",
       "      <td>SAC</td>\n",
       "      <td>PF</td>\n",
       "      <td>0.582</td>\n",
       "      <td>6.8</td>\n",
       "      <td>11.9</td>\n",
       "      <td>21.0</td>\n",
       "      <td>10.2</td>\n",
       "      <td>18.1</td>\n",
       "      <td>14.0</td>\n",
       "      <td>18.03</td>\n",
       "      <td>-1.74</td>\n",
       "      <td>-1.64</td>\n",
       "      <td>-3.38</td>\n",
       "    </tr>\n",
       "  </tbody>\n",
       "</table>\n",
       "<p>116 rows × 14 columns</p>\n",
       "</div>"
      ],
      "text/plain": [
       "                    MPG TEAM POS    TS%   AST    TO   USG   ORR   DRR  REBR  \\\n",
       "PLAYER                                                                        \n",
       "James Harden       37.1  HOU  PG  0.622  20.8  13.5  40.0   2.1  17.0   9.3   \n",
       "Anthony Davis      36.9   NO  PF  0.598  14.3   6.7  29.3  10.0  27.7  19.1   \n",
       "Paul George        35.7  OKC  SF  0.574  13.0   9.0  29.6   4.3  19.3  11.7   \n",
       "Nikola Jokic       31.3  DEN   C  0.587  27.6  12.0  29.1   9.7  25.6  17.6   \n",
       "Kyrie Irving       32.1  BOS  PG  0.592  22.9   8.9  29.9   3.8  12.2   8.0   \n",
       "...                 ...  ...  ..    ...   ...   ...   ...   ...   ...   ...   \n",
       "Zach LaVine        34.1  CHI  PG  0.566  14.5  12.5  30.6   1.4  12.5   6.9   \n",
       "Tristan Thompson   29.8  CLE   C  0.553  15.6  10.5  17.6  16.3  26.0  20.9   \n",
       "Enes Kanter        26.5   NY   C  0.593  12.3  11.6  22.1  15.3  28.6  21.6   \n",
       "Jordan Clarkson    26.5  CLE  PG  0.543  11.4   8.6  28.5   3.9  10.3   7.0   \n",
       "Marvin Bagley III  23.0  SAC  PF  0.582   6.8  11.9  21.0  10.2  18.1  14.0   \n",
       "\n",
       "                     PER  ORPM  DRPM   RPM  \n",
       "PLAYER                                      \n",
       "James Harden       29.21  7.76 -0.06  7.70  \n",
       "Anthony Davis      31.09  3.93  3.24  7.17  \n",
       "Paul George        23.29  3.82  2.85  6.67  \n",
       "Nikola Jokic       26.09  4.46  1.83  6.29  \n",
       "Kyrie Irving       24.55  4.60  0.92  5.52  \n",
       "...                  ...   ...   ...   ...  \n",
       "Zach LaVine        18.09  0.47 -1.85 -1.38  \n",
       "Tristan Thompson   19.20 -0.33 -1.15 -1.48  \n",
       "Enes Kanter        22.43 -0.31 -1.26 -1.57  \n",
       "Jordan Clarkson    17.90  0.68 -3.55 -2.87  \n",
       "Marvin Bagley III  18.03 -1.74 -1.64 -3.38  \n",
       "\n",
       "[116 rows x 14 columns]"
      ]
     },
     "execution_count": 10,
     "metadata": {},
     "output_type": "execute_result"
    }
   ],
   "source": [
    "advanced[\n",
    "    (advanced.RPM >= advanced.RPM.describe()['75%']) |\n",
    "    (advanced.PER >= advanced.PER.describe()['75%'])\n",
    "]"
   ]
  },
  {
   "cell_type": "markdown",
   "metadata": {},
   "source": [
    "#### Note\n",
    "Boolean indexing also works with the `.loc` and `.iloc` selectors. Somewhat confusingly, when used with `.loc` and `.iloc`, the input boolean list does not need to be the same length as the number of rows in the DataFrame:"
   ]
  },
  {
   "cell_type": "code",
   "execution_count": 11,
   "metadata": {},
   "outputs": [
    {
     "data": {
      "text/html": [
       "<div>\n",
       "<style scoped>\n",
       "    .dataframe tbody tr th:only-of-type {\n",
       "        vertical-align: middle;\n",
       "    }\n",
       "\n",
       "    .dataframe tbody tr th {\n",
       "        vertical-align: top;\n",
       "    }\n",
       "\n",
       "    .dataframe thead th {\n",
       "        text-align: right;\n",
       "    }\n",
       "</style>\n",
       "<table border=\"1\" class=\"dataframe\">\n",
       "  <thead>\n",
       "    <tr style=\"text-align: right;\">\n",
       "      <th></th>\n",
       "      <th>PLAYER</th>\n",
       "      <th>MPG</th>\n",
       "      <th>TEAM</th>\n",
       "      <th>POS</th>\n",
       "      <th>TS%</th>\n",
       "      <th>AST</th>\n",
       "      <th>TO</th>\n",
       "      <th>USG</th>\n",
       "      <th>ORR</th>\n",
       "      <th>DRR</th>\n",
       "      <th>REBR</th>\n",
       "      <th>PER</th>\n",
       "      <th>ORPM</th>\n",
       "      <th>DRPM</th>\n",
       "      <th>RPM</th>\n",
       "    </tr>\n",
       "  </thead>\n",
       "  <tbody>\n",
       "    <tr>\n",
       "      <th>0</th>\n",
       "      <td>James Harden</td>\n",
       "      <td>37.1</td>\n",
       "      <td>HOU</td>\n",
       "      <td>PG</td>\n",
       "      <td>0.622</td>\n",
       "      <td>20.8</td>\n",
       "      <td>13.5</td>\n",
       "      <td>40.0</td>\n",
       "      <td>2.1</td>\n",
       "      <td>17.0</td>\n",
       "      <td>9.3</td>\n",
       "      <td>29.21</td>\n",
       "      <td>7.76</td>\n",
       "      <td>-0.06</td>\n",
       "      <td>7.70</td>\n",
       "    </tr>\n",
       "    <tr>\n",
       "      <th>1</th>\n",
       "      <td>Anthony Davis</td>\n",
       "      <td>36.9</td>\n",
       "      <td>NO</td>\n",
       "      <td>PF</td>\n",
       "      <td>0.598</td>\n",
       "      <td>14.3</td>\n",
       "      <td>6.7</td>\n",
       "      <td>29.3</td>\n",
       "      <td>10.0</td>\n",
       "      <td>27.7</td>\n",
       "      <td>19.1</td>\n",
       "      <td>31.09</td>\n",
       "      <td>3.93</td>\n",
       "      <td>3.24</td>\n",
       "      <td>7.17</td>\n",
       "    </tr>\n",
       "    <tr>\n",
       "      <th>3</th>\n",
       "      <td>Nikola Jokic</td>\n",
       "      <td>31.3</td>\n",
       "      <td>DEN</td>\n",
       "      <td>C</td>\n",
       "      <td>0.587</td>\n",
       "      <td>27.6</td>\n",
       "      <td>12.0</td>\n",
       "      <td>29.1</td>\n",
       "      <td>9.7</td>\n",
       "      <td>25.6</td>\n",
       "      <td>17.6</td>\n",
       "      <td>26.09</td>\n",
       "      <td>4.46</td>\n",
       "      <td>1.83</td>\n",
       "      <td>6.29</td>\n",
       "    </tr>\n",
       "  </tbody>\n",
       "</table>\n",
       "</div>"
      ],
      "text/plain": [
       "          PLAYER   MPG TEAM POS    TS%   AST    TO   USG   ORR   DRR  REBR  \\\n",
       "0   James Harden  37.1  HOU  PG  0.622  20.8  13.5  40.0   2.1  17.0   9.3   \n",
       "1  Anthony Davis  36.9   NO  PF  0.598  14.3   6.7  29.3  10.0  27.7  19.1   \n",
       "3   Nikola Jokic  31.3  DEN   C  0.587  27.6  12.0  29.1   9.7  25.6  17.6   \n",
       "\n",
       "     PER  ORPM  DRPM   RPM  \n",
       "0  29.21  7.76 -0.06  7.70  \n",
       "1  31.09  3.93  3.24  7.17  \n",
       "3  26.09  4.46  1.83  6.29  "
      ]
     },
     "execution_count": 11,
     "metadata": {},
     "output_type": "execute_result"
    }
   ],
   "source": [
    "advanced.reset_index().loc[[True, True, False, True]]"
   ]
  },
  {
   "cell_type": "markdown",
   "metadata": {},
   "source": [
    "#### TODO: vectorized operations here -> how we can take `rank()` and assign it to a column in the DataFrame"
   ]
  },
  {
   "cell_type": "markdown",
   "metadata": {},
   "source": [
    "### Group By"
   ]
  },
  {
   "cell_type": "markdown",
   "metadata": {},
   "source": [
    "Continuing with our theme of database-style operations, we will now take a look at how to perform \"group-by\" operations within a DataFrame, which will give us a better sense of how RPM and PER vary per position."
   ]
  },
  {
   "cell_type": "markdown",
   "metadata": {},
   "source": [
    "Group by operations follow the [\"split-apply-combine\"](https://pandas.pydata.org/pandas-docs/stable/user_guide/groupby.html) pattern, where a dataset is first **split** into groups based on some criteria. A function is then **applied** to each group, and those results are **combined** into another DataFrame."
   ]
  },
  {
   "cell_type": "markdown",
   "metadata": {},
   "source": [
    "The \"split-apply-combine\" pattern is a general pattern which can be used in many ways. Here, we limit our scope to applying aggregation functions, which summarize the data in a group into a single statistic, such as a median, max, or count. By doing so, we will see how the metrics in our dataset vary across positions."
   ]
  },
  {
   "cell_type": "markdown",
   "metadata": {},
   "source": [
    "Our first step is to tell pandas how to split our dataset into groups, which we can do by passing a column name to the `groupby` function, which creates a `DataFrameGroupBy` object:"
   ]
  },
  {
   "cell_type": "code",
   "execution_count": 12,
   "metadata": {},
   "outputs": [
    {
     "data": {
      "text/plain": [
       "<pandas.core.groupby.groupby.DataFrameGroupBy object at 0x10fe7d320>"
      ]
     },
     "execution_count": 12,
     "metadata": {},
     "output_type": "execute_result"
    }
   ],
   "source": [
    "groups = advanced.groupby(by='POS')\n",
    "groups"
   ]
  },
  {
   "cell_type": "markdown",
   "metadata": {},
   "source": [
    "This `DataFrameGroupBy` is a special pandas object. It inherits the same set of columns as our original dataframe, which you can select as you would select columns in a DataFrame. However, this selection doesn't yield any output until you apply a function to the results, such as an aggregation function. \n",
    "\n",
    "Luckily, a `DataFrameGroupBy` object comes equipped with many common aggregation functions. One such function is `count()`, which gives us a breakdown of the numbers of players in our DataFrame at each position:\n",
    "\n",
    "**Note**<br>\n",
    "This is equivalent to `select count(*) from advanced group by POS` in SQL.\n",
    "For a more in-depth look at this object, visit the [pandas documentation](https://pandas.pydata.org/pandas-docs/stable/groupby.html)."
   ]
  },
  {
   "cell_type": "code",
   "execution_count": 14,
   "metadata": {},
   "outputs": [
    {
     "data": {
      "text/plain": [
       "POS\n",
       "C     45\n",
       "PF    67\n",
       "PG    80\n",
       "SF    75\n",
       "SG    76\n",
       "Name: POS, dtype: int64"
      ]
     },
     "execution_count": 14,
     "metadata": {},
     "output_type": "execute_result"
    }
   ],
   "source": [
    "groups['POS'].count()"
   ]
  },
  {
   "cell_type": "markdown",
   "metadata": {},
   "source": [
    "When we don't select a column, the aggregation function applies to the entire original DataFrame. Here we find the median value of each our advanced statistics, grouped by position:"
   ]
  },
  {
   "cell_type": "code",
   "execution_count": 15,
   "metadata": {},
   "outputs": [
    {
     "data": {
      "text/html": [
       "<div>\n",
       "<style scoped>\n",
       "    .dataframe tbody tr th:only-of-type {\n",
       "        vertical-align: middle;\n",
       "    }\n",
       "\n",
       "    .dataframe tbody tr th {\n",
       "        vertical-align: top;\n",
       "    }\n",
       "\n",
       "    .dataframe thead th {\n",
       "        text-align: right;\n",
       "    }\n",
       "</style>\n",
       "<table border=\"1\" class=\"dataframe\">\n",
       "  <thead>\n",
       "    <tr style=\"text-align: right;\">\n",
       "      <th></th>\n",
       "      <th>MPG</th>\n",
       "      <th>TS%</th>\n",
       "      <th>AST</th>\n",
       "      <th>TO</th>\n",
       "      <th>USG</th>\n",
       "      <th>ORR</th>\n",
       "      <th>DRR</th>\n",
       "      <th>REBR</th>\n",
       "      <th>PER</th>\n",
       "      <th>ORPM</th>\n",
       "      <th>DRPM</th>\n",
       "      <th>RPM</th>\n",
       "    </tr>\n",
       "    <tr>\n",
       "      <th>POS</th>\n",
       "      <th></th>\n",
       "      <th></th>\n",
       "      <th></th>\n",
       "      <th></th>\n",
       "      <th></th>\n",
       "      <th></th>\n",
       "      <th></th>\n",
       "      <th></th>\n",
       "      <th></th>\n",
       "      <th></th>\n",
       "      <th></th>\n",
       "      <th></th>\n",
       "    </tr>\n",
       "  </thead>\n",
       "  <tbody>\n",
       "    <tr>\n",
       "      <th>C</th>\n",
       "      <td>23.10</td>\n",
       "      <td>0.5870</td>\n",
       "      <td>12.5</td>\n",
       "      <td>11.70</td>\n",
       "      <td>18.2</td>\n",
       "      <td>11.10</td>\n",
       "      <td>24.70</td>\n",
       "      <td>17.6</td>\n",
       "      <td>17.940</td>\n",
       "      <td>-0.880</td>\n",
       "      <td>1.570</td>\n",
       "      <td>0.800</td>\n",
       "    </tr>\n",
       "    <tr>\n",
       "      <th>PF</th>\n",
       "      <td>23.50</td>\n",
       "      <td>0.5830</td>\n",
       "      <td>11.9</td>\n",
       "      <td>10.80</td>\n",
       "      <td>17.7</td>\n",
       "      <td>6.80</td>\n",
       "      <td>19.20</td>\n",
       "      <td>12.8</td>\n",
       "      <td>15.360</td>\n",
       "      <td>-0.450</td>\n",
       "      <td>0.720</td>\n",
       "      <td>0.510</td>\n",
       "    </tr>\n",
       "    <tr>\n",
       "      <th>PG</th>\n",
       "      <td>26.00</td>\n",
       "      <td>0.5305</td>\n",
       "      <td>24.9</td>\n",
       "      <td>10.35</td>\n",
       "      <td>21.1</td>\n",
       "      <td>2.00</td>\n",
       "      <td>9.95</td>\n",
       "      <td>5.8</td>\n",
       "      <td>13.495</td>\n",
       "      <td>-0.135</td>\n",
       "      <td>-0.635</td>\n",
       "      <td>-0.860</td>\n",
       "    </tr>\n",
       "    <tr>\n",
       "      <th>SF</th>\n",
       "      <td>24.10</td>\n",
       "      <td>0.5550</td>\n",
       "      <td>13.0</td>\n",
       "      <td>9.60</td>\n",
       "      <td>16.4</td>\n",
       "      <td>3.20</td>\n",
       "      <td>15.10</td>\n",
       "      <td>9.5</td>\n",
       "      <td>11.740</td>\n",
       "      <td>-0.950</td>\n",
       "      <td>-0.280</td>\n",
       "      <td>-0.870</td>\n",
       "    </tr>\n",
       "    <tr>\n",
       "      <th>SG</th>\n",
       "      <td>23.95</td>\n",
       "      <td>0.5355</td>\n",
       "      <td>14.5</td>\n",
       "      <td>8.95</td>\n",
       "      <td>18.1</td>\n",
       "      <td>2.25</td>\n",
       "      <td>10.30</td>\n",
       "      <td>6.3</td>\n",
       "      <td>11.910</td>\n",
       "      <td>-0.390</td>\n",
       "      <td>-0.800</td>\n",
       "      <td>-0.965</td>\n",
       "    </tr>\n",
       "  </tbody>\n",
       "</table>\n",
       "</div>"
      ],
      "text/plain": [
       "       MPG     TS%   AST     TO   USG    ORR    DRR  REBR     PER   ORPM  \\\n",
       "POS                                                                        \n",
       "C    23.10  0.5870  12.5  11.70  18.2  11.10  24.70  17.6  17.940 -0.880   \n",
       "PF   23.50  0.5830  11.9  10.80  17.7   6.80  19.20  12.8  15.360 -0.450   \n",
       "PG   26.00  0.5305  24.9  10.35  21.1   2.00   9.95   5.8  13.495 -0.135   \n",
       "SF   24.10  0.5550  13.0   9.60  16.4   3.20  15.10   9.5  11.740 -0.950   \n",
       "SG   23.95  0.5355  14.5   8.95  18.1   2.25  10.30   6.3  11.910 -0.390   \n",
       "\n",
       "      DRPM    RPM  \n",
       "POS                \n",
       "C    1.570  0.800  \n",
       "PF   0.720  0.510  \n",
       "PG  -0.635 -0.860  \n",
       "SF  -0.280 -0.870  \n",
       "SG  -0.800 -0.965  "
      ]
     },
     "execution_count": 15,
     "metadata": {},
     "output_type": "execute_result"
    }
   ],
   "source": [
    "medians = groups.median()\n",
    "medians"
   ]
  },
  {
   "cell_type": "markdown",
   "metadata": {},
   "source": [
    "There are quite a few interesting observations contained within this output, so let's get right into them -  with the help of some visualizations:"
   ]
  },
  {
   "cell_type": "markdown",
   "metadata": {},
   "source": [
    "### Observations"
   ]
  },
  {
   "cell_type": "markdown",
   "metadata": {},
   "source": [
    "Let's first look at the data we have about the two sides of the ball - the offensive and defensive components of RPM."
   ]
  },
  {
   "cell_type": "code",
   "execution_count": 17,
   "metadata": {},
   "outputs": [
    {
     "data": {
      "text/html": [
       "<div>\n",
       "<style scoped>\n",
       "    .dataframe tbody tr th:only-of-type {\n",
       "        vertical-align: middle;\n",
       "    }\n",
       "\n",
       "    .dataframe tbody tr th {\n",
       "        vertical-align: top;\n",
       "    }\n",
       "\n",
       "    .dataframe thead th {\n",
       "        text-align: right;\n",
       "    }\n",
       "</style>\n",
       "<table border=\"1\" class=\"dataframe\">\n",
       "  <thead>\n",
       "    <tr style=\"text-align: right;\">\n",
       "      <th></th>\n",
       "      <th>ORPM</th>\n",
       "      <th>DRPM</th>\n",
       "    </tr>\n",
       "    <tr>\n",
       "      <th>POS</th>\n",
       "      <th></th>\n",
       "      <th></th>\n",
       "    </tr>\n",
       "  </thead>\n",
       "  <tbody>\n",
       "    <tr>\n",
       "      <th>C</th>\n",
       "      <td>-0.880</td>\n",
       "      <td>1.570</td>\n",
       "    </tr>\n",
       "    <tr>\n",
       "      <th>PF</th>\n",
       "      <td>-0.450</td>\n",
       "      <td>0.720</td>\n",
       "    </tr>\n",
       "    <tr>\n",
       "      <th>PG</th>\n",
       "      <td>-0.135</td>\n",
       "      <td>-0.635</td>\n",
       "    </tr>\n",
       "    <tr>\n",
       "      <th>SF</th>\n",
       "      <td>-0.950</td>\n",
       "      <td>-0.280</td>\n",
       "    </tr>\n",
       "    <tr>\n",
       "      <th>SG</th>\n",
       "      <td>-0.390</td>\n",
       "      <td>-0.800</td>\n",
       "    </tr>\n",
       "  </tbody>\n",
       "</table>\n",
       "</div>"
      ],
      "text/plain": [
       "      ORPM   DRPM\n",
       "POS              \n",
       "C   -0.880  1.570\n",
       "PF  -0.450  0.720\n",
       "PG  -0.135 -0.635\n",
       "SF  -0.950 -0.280\n",
       "SG  -0.390 -0.800"
      ]
     },
     "execution_count": 17,
     "metadata": {},
     "output_type": "execute_result"
    }
   ],
   "source": [
    "medians[['ORPM', 'DRPM']]"
   ]
  },
  {
   "cell_type": "markdown",
   "metadata": {},
   "source": [
    "The data reveals a trend, Centers have the highest Defensive RPM but the lowest Offensive RPM, while Point Guards have the highest Offensive RPM but the lowest Defensive RPM. This general trend holds for all positions between Center and Point Guard, and can be interpreted as a looose rule of NBA basketball:\n",
    "\n",
    "Defense goes up as player size goes up, while offense goes up as player size goes down."
   ]
  },
  {
   "cell_type": "code",
   "execution_count": 80,
   "metadata": {},
   "outputs": [
    {
     "data": {
      "image/png": "[encoded data removed]",
      "text/plain": [
       "<Figure size 432x288 with 1 Axes>"
      ]
     },
     "metadata": {
      "needs_background": "light"
     },
     "output_type": "display_data"
    }
   ],
   "source": [
    "import seaborn as sns\n",
    "\n",
    "\n",
    "def box_and_strip(stat):\n",
    "    sns.boxplot(x=\"POS\", y=stat, order=['PG', 'SG', 'SF', 'PF', 'C'], \n",
    "              data=advanced, palette=\"Set3\", width=0.65)\n",
    "\n",
    "    sns.stripplot(x=\"POS\", y=stat, order=['PG', 'SG', 'SF', 'PF', 'C'], \n",
    "              data=advanced, palette=\"Set3\", linewidth=.75)\n",
    "\n",
    "box_and_strip(\"ORPM\")"
   ]
  },
  {
   "cell_type": "markdown",
   "metadata": {},
   "source": [
    "While James Harden's ridiculous 7.76 ORPM (upper left) distorts the scale slightly and reduces the visual effect of the trend, it is much more noticeable for DRPM:"
   ]
  },
  {
   "cell_type": "code",
   "execution_count": 68,
   "metadata": {},
   "outputs": [
    {
     "data": {
      "image/png": "[encoded data removed]",
      "text/plain": [
       "<Figure size 432x288 with 1 Axes>"
      ]
     },
     "metadata": {
      "needs_background": "light"
     },
     "output_type": "display_data"
    }
   ],
   "source": [
    "box_and_strip(\"DRPM\")"
   ]
  },
  {
   "cell_type": "markdown",
   "metadata": {},
   "source": [
    "The negative correlation between ORPM and size is interesting, especially since True Shooting % increases with size. To me this makes sense - smaller players improve offenses with their shooting (spacing) and playmaking rather than their efficiency. "
   ]
  },
  {
   "cell_type": "code",
   "execution_count": 108,
   "metadata": {},
   "outputs": [
    {
     "data": {
      "image/png": "[encoded data removed]",
      "text/plain": [
       "<Figure size 432x288 with 1 Axes>"
      ]
     },
     "metadata": {
      "needs_background": "light"
     },
     "output_type": "display_data"
    }
   ],
   "source": [
    "box_and_strip(\"TS%\")"
   ]
  },
  {
   "cell_type": "markdown",
   "metadata": {},
   "source": [
    "The same type of visualization also shows how PER overrates centers, who seem to have a much higher \"baseline\" PER value than other positions:"
   ]
  },
  {
   "cell_type": "code",
   "execution_count": 82,
   "metadata": {},
   "outputs": [
    {
     "data": {
      "image/png": "[encoded data removed]",
      "text/plain": [
       "<Figure size 432x288 with 1 Axes>"
      ]
     },
     "metadata": {
      "needs_background": "light"
     },
     "output_type": "display_data"
    }
   ],
   "source": [
    "box_and_strip(\"PER\")"
   ]
  },
  {
   "cell_type": "code",
   "execution_count": 129,
   "metadata": {},
   "outputs": [],
   "source": [
    "advanced['rank'] = advanced['PER'].rank(ascending=False)"
   ]
  },
  {
   "cell_type": "code",
   "execution_count": 130,
   "metadata": {},
   "outputs": [
    {
     "data": {
      "image/png": "[encoded data removed]",
      "text/plain": [
       "<Figure size 432x288 with 1 Axes>"
      ]
     },
     "metadata": {
      "needs_background": "light"
     },
     "output_type": "display_data"
    }
   ],
   "source": [
    "box_and_strip(\"rank\")"
   ]
  },
  {
   "cell_type": "markdown",
   "metadata": {},
   "source": [
    "A large part of this bump can be attributed to the rebound rates of Centers and Power Forwards:"
   ]
  },
  {
   "cell_type": "code",
   "execution_count": 121,
   "metadata": {},
   "outputs": [
    {
     "data": {
      "image/png": "[encoded data removed]",
      "text/plain": [
       "<Figure size 432x288 with 1 Axes>"
      ]
     },
     "metadata": {
      "needs_background": "light"
     },
     "output_type": "display_data"
    }
   ],
   "source": [
    "box_and_strip(\"REBR\")"
   ]
  },
  {
   "cell_type": "markdown",
   "metadata": {},
   "source": [
    "While Point Guards reap the benefits of their assists:"
   ]
  },
  {
   "cell_type": "code",
   "execution_count": 123,
   "metadata": {},
   "outputs": [
    {
     "data": {
      "image/png": "[encoded data removed]",
      "text/plain": [
       "<Figure size 432x288 with 1 Axes>"
      ]
     },
     "metadata": {
      "needs_background": "light"
     },
     "output_type": "display_data"
    }
   ],
   "source": [
    "box_and_strip(\"USG\")"
   ]
  },
  {
   "cell_type": "code",
   "execution_count": 122,
   "metadata": {},
   "outputs": [
    {
     "data": {
      "image/png": "[encoded data removed]",
      "text/plain": [
       "<Figure size 432x288 with 1 Axes>"
      ]
     },
     "metadata": {
      "needs_background": "light"
     },
     "output_type": "display_data"
    }
   ],
   "source": [
    "box_and_strip(\"AST\")"
   ]
  },
  {
   "cell_type": "markdown",
   "metadata": {},
   "source": [
    "These visualizations about PER aren't meant as an indictment on PER as a metric, but rather, to illustrate the importance of knowing what a metric is measuring."
   ]
  },
  {
   "cell_type": "markdown",
   "metadata": {},
   "source": [
    "### Recap"
   ]
  }
 ],
 "metadata": {
  "kernelspec": {
   "display_name": "Python 3",
   "language": "python",
   "name": "python3"
  },
  "language_info": {
   "codemirror_mode": {
    "name": "ipython",
    "version": 3
   },
   "file_extension": ".py",
   "mimetype": "text/x-python",
   "name": "python",
   "nbconvert_exporter": "python",
   "pygments_lexer": "ipython3",
   "version": "3.6.5"
  }
 },
 "nbformat": 4,
 "nbformat_minor": 2
}
