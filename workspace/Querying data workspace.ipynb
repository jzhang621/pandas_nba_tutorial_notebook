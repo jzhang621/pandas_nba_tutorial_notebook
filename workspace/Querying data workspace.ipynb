{
 "cells": [
  {
   "cell_type": "code",
   "execution_count": 1,
   "metadata": {},
   "outputs": [],
   "source": [
    "import pandas as pd"
   ]
  },
  {
   "cell_type": "code",
   "execution_count": 201,
   "metadata": {},
   "outputs": [],
   "source": [
    "points_url = 'http://www.espn.com/nba/statistics/player/_/stat/scoring-per-game/sort/avgPoints/qualified/false/count/{count}'"
   ]
  },
  {
   "cell_type": "code",
   "execution_count": 202,
   "metadata": {},
   "outputs": [],
   "source": [
    "reb_url = 'http://www.espn.com/nba/statistics/player/_/stat/rebounds/sort/avgRebounds/count/{count}'\n",
    "\n",
    "def parse_espn_stats(type_='points'):\n",
    "\n",
    "    tables = []\n",
    "    \n",
    "    if type_ == 'points':\n",
    "        url = points_url\n",
    "    else:\n",
    "        url = reb_url\n",
    "    \n",
    "\n",
    "    for i in range(13):\n",
    "        count = 1 + (i * 40)\n",
    "        print(url.format(count=count))\n",
    "        table = pd.read_html(url.format(count=count), header=0)[0]\n",
    "\n",
    "        # filter out header columns\n",
    "        table = table[pd.to_numeric(table['GP'], errors='coerce').notnull()]\n",
    "\n",
    "        for col in table.columns:\n",
    "            if col not in ['PLAYER', 'TEAM', 'FGM-FGA', '3PM-3PA', 'FTM-FTA']:\n",
    "                table[col] = pd.to_numeric(table[col], errors='coerce')\n",
    "\n",
    "        tables.append(table)\n",
    "\n",
    "    df = pd.concat(tables)\n",
    "    df['POS'] = df.PLAYER.apply(lambda x: x.split(',')[-1].strip())\n",
    "    df['PLAYER'] = df.PLAYER.apply(lambda x: x.split(',')[0])\n",
    "    df = df.set_index('PLAYER')\n",
    "    \n",
    "    return df"
   ]
  },
  {
   "cell_type": "code",
   "execution_count": 203,
   "metadata": {},
   "outputs": [
    {
     "name": "stdout",
     "output_type": "stream",
     "text": [
      "http://www.espn.com/nba/statistics/player/_/stat/scoring-per-game/sort/avgPoints/qualified/false/count/1\n",
      "http://www.espn.com/nba/statistics/player/_/stat/scoring-per-game/sort/avgPoints/qualified/false/count/41\n",
      "http://www.espn.com/nba/statistics/player/_/stat/scoring-per-game/sort/avgPoints/qualified/false/count/81\n",
      "http://www.espn.com/nba/statistics/player/_/stat/scoring-per-game/sort/avgPoints/qualified/false/count/121\n",
      "http://www.espn.com/nba/statistics/player/_/stat/scoring-per-game/sort/avgPoints/qualified/false/count/161\n",
      "http://www.espn.com/nba/statistics/player/_/stat/scoring-per-game/sort/avgPoints/qualified/false/count/201\n",
      "http://www.espn.com/nba/statistics/player/_/stat/scoring-per-game/sort/avgPoints/qualified/false/count/241\n",
      "http://www.espn.com/nba/statistics/player/_/stat/scoring-per-game/sort/avgPoints/qualified/false/count/281\n",
      "http://www.espn.com/nba/statistics/player/_/stat/scoring-per-game/sort/avgPoints/qualified/false/count/321\n",
      "http://www.espn.com/nba/statistics/player/_/stat/scoring-per-game/sort/avgPoints/qualified/false/count/361\n",
      "http://www.espn.com/nba/statistics/player/_/stat/scoring-per-game/sort/avgPoints/qualified/false/count/401\n",
      "http://www.espn.com/nba/statistics/player/_/stat/scoring-per-game/sort/avgPoints/qualified/false/count/441\n",
      "http://www.espn.com/nba/statistics/player/_/stat/scoring-per-game/sort/avgPoints/qualified/false/count/481\n"
     ]
    }
   ],
   "source": [
    "df = parse_espn_stats()"
   ]
  },
  {
   "cell_type": "code",
   "execution_count": 205,
   "metadata": {},
   "outputs": [],
   "source": [
    "advanced[\"POS\"] = df['POS']"
   ]
  },
  {
   "cell_type": "code",
   "execution_count": 182,
   "metadata": {},
   "outputs": [],
   "source": [
    "advanced = pd.read_csv('../data/advanced_metrics.csv', index_col=0)\n"
   ]
  },
  {
   "cell_type": "code",
   "execution_count": 220,
   "metadata": {},
   "outputs": [],
   "source": [
    "advanced.loc[['Tim Hardaway Jr.', \"E'Twaun Moore\", 'MarShon Brooks'], 'POS'] = 'SG'\n",
    "advanced.loc[['Isaiah Canaan'], 'POS'] = 'PG'"
   ]
  },
  {
   "cell_type": "code",
   "execution_count": 221,
   "metadata": {},
   "outputs": [
    {
     "data": {
      "text/plain": [
       "<matplotlib.axes._subplots.AxesSubplot at 0x12c8c86a0>"
      ]
     },
     "execution_count": 221,
     "metadata": {},
     "output_type": "execute_result"
    },
    {
     "data": {
      "image/png": "[encoded data removed]",
      "text/plain": [
       "<Figure size 432x288 with 1 Axes>"
      ]
     },
     "metadata": {
      "needs_background": "light"
     },
     "output_type": "display_data"
    }
   ],
   "source": []
  },
  {
   "cell_type": "code",
   "execution_count": 222,
   "metadata": {},
   "outputs": [
    {
     "data": {
      "text/plain": [
       "Index(['MPG', 'TEAM', 'TS%', 'AST', 'TO', 'USG', 'ORR', 'DRR', 'REBR', 'PER',\n",
       "       'ORPM', 'DRPM', 'RPM', 'POS'],\n",
       "      dtype='object')"
      ]
     },
     "execution_count": 222,
     "metadata": {},
     "output_type": "execute_result"
    }
   ],
   "source": [
    "advanced.columns"
   ]
  },
  {
   "cell_type": "code",
   "execution_count": null,
   "metadata": {},
   "outputs": [],
   "source": [
    "advanced.to_csv"
   ]
  },
  {
   "cell_type": "code",
   "execution_count": 227,
   "metadata": {},
   "outputs": [],
   "source": [
    "cols = list(advanced.columns)\n",
    "cols.insert(2, cols.pop(cols.index('POS')))\n",
    "advanced.reindex(columns=cols).to_csv(\"../data/advanced_metrics.csv\")"
   ]
  },
  {
   "cell_type": "code",
   "execution_count": 165,
   "metadata": {},
   "outputs": [
    {
     "data": {
      "text/plain": [
       "<matplotlib.axes._subplots.AxesSubplot at 0x129f580f0>"
      ]
     },
     "execution_count": 165,
     "metadata": {},
     "output_type": "execute_result"
    },
    {
     "data": {
      "image/png": "[encoded data removed]",
      "text/plain": [
       "<Figure size 432x288 with 1 Axes>"
      ]
     },
     "metadata": {
      "needs_background": "light"
     },
     "output_type": "display_data"
    }
   ],
   "source": [
    "advanced.join(reb_df, lsuffix='_adv').plot(x='TS%', y='PER', kind='scatter')"
   ]
  },
  {
   "cell_type": "code",
   "execution_count": null,
   "metadata": {},
   "outputs": [],
   "source": []
  }
 ],
 "metadata": {
  "kernelspec": {
   "display_name": "Python 3",
   "language": "python",
   "name": "python3"
  },
  "language_info": {
   "codemirror_mode": {
    "name": "ipython",
    "version": 3
   },
   "file_extension": ".py",
   "mimetype": "text/x-python",
   "name": "python",
   "nbconvert_exporter": "python",
   "pygments_lexer": "ipython3",
   "version": "3.6.5"
  }
 },
 "nbformat": 4,
 "nbformat_minor": 2
}
